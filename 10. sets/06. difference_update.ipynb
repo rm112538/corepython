{
 "cells": [
  {
   "cell_type": "markdown",
   "metadata": {},
   "source": [
    "##### difference_update\n",
    "\n",
    "Modify a set by only elements that exist in the first set and not any of the rest"
   ]
  },
  {
   "cell_type": "code",
   "execution_count": 1,
   "metadata": {},
   "outputs": [
    {
     "name": "stdout",
     "output_type": "stream",
     "text": [
      "Here is the updated \"a\" with regard to \"b\" and \"c\": {1}.\n"
     ]
    }
   ],
   "source": [
    "# using a method\n",
    "a = {1, 2, 3}\n",
    "b = {2}\n",
    "c = {3}\n",
    "\n",
    "a.difference_update(b,c)\n",
    "print(f'Here is the updated difference of \"a\" with regard to \"b\" and \"c\": {a}.')"
   ]
  },
  {
   "cell_type": "code",
   "execution_count": 2,
   "metadata": {},
   "outputs": [
    {
     "name": "stdout",
     "output_type": "stream",
     "text": [
      "Here is the updated difference of \"a\" with regard to \"b\" and \"c\": {1}.\n"
     ]
    }
   ],
   "source": [
    "# using augumented assignment operator\n",
    "a = {1, 2, 3}\n",
    "b = {2}\n",
    "c = {3}\n",
    "\n",
    "a -= b|c\n",
    "print(f'Here is the updated difference of \"a\" with regard to \"b\" and \"c\": {a}.')"
   ]
  },
  {
   "cell_type": "code",
   "execution_count": 3,
   "metadata": {},
   "outputs": [
    {
     "name": "stdout",
     "output_type": "stream",
     "text": [
      "Here is the updated difference of \"a\" with regard to \"b\" - \"c\": {1, 3}.\n"
     ]
    }
   ],
   "source": [
    "# using augumented assignment operator\n",
    "a = {1, 2, 3}\n",
    "b = {2}\n",
    "c = {3}\n",
    "\n",
    "a -= b - c\n",
    "print(f'Here is the updated difference of \"a\" with regard to \"b\" - \"c\": {a}.')"
   ]
  },
  {
   "cell_type": "code",
   "execution_count": null,
   "metadata": {},
   "outputs": [],
   "source": []
  }
 ],
 "metadata": {
  "kernelspec": {
   "display_name": "Python 3",
   "language": "python",
   "name": "python3"
  },
  "language_info": {
   "codemirror_mode": {
    "name": "ipython",
    "version": 3
   },
   "file_extension": ".py",
   "mimetype": "text/x-python",
   "name": "python",
   "nbconvert_exporter": "python",
   "pygments_lexer": "ipython3",
   "version": "3.7.6"
  }
 },
 "nbformat": 4,
 "nbformat_minor": 4
}
