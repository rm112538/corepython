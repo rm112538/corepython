{
 "cells": [
  {
   "cell_type": "code",
   "execution_count": 1,
   "metadata": {},
   "outputs": [
    {
     "name": "stdout",
     "output_type": "stream",
     "text": [
      " x = 3\n",
      " y = 6\n",
      " z = 9\n"
     ]
    }
   ],
   "source": [
    "# unpacking\n",
    "def f(x, y, z):\n",
    "    print(f' x = {x}')\n",
    "    print(f' y = {y}')\n",
    "    print(f' z = {z}')\n",
    "    \n",
    "# unpacking the tuple\n",
    "f(3, 6, 9)"
   ]
  },
  {
   "cell_type": "code",
   "execution_count": 2,
   "metadata": {},
   "outputs": [
    {
     "name": "stdout",
     "output_type": "stream",
     "text": [
      " x = foo\n",
      " y = bar\n",
      " z = baz\n"
     ]
    }
   ],
   "source": [
    "# unpacking the tuple\n",
    "t = ('foo', 'bar', 'baz')\n",
    "f(*t)                     # In this example, *t in the function call indicates that t is a tuple that should be unpacked. "
   ]
  },
  {
   "cell_type": "code",
   "execution_count": null,
   "metadata": {},
   "outputs": [],
   "source": []
  }
 ],
 "metadata": {
  "kernelspec": {
   "display_name": "Python 3",
   "language": "python",
   "name": "python3"
  },
  "language_info": {
   "codemirror_mode": {
    "name": "ipython",
    "version": 3
   },
   "file_extension": ".py",
   "mimetype": "text/x-python",
   "name": "python",
   "nbconvert_exporter": "python",
   "pygments_lexer": "ipython3",
   "version": "3.7.6"
  }
 },
 "nbformat": 4,
 "nbformat_minor": 4
}
