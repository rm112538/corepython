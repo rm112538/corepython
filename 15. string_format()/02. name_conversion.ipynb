{
 "cells": [
  {
   "cell_type": "code",
   "execution_count": 1,
   "metadata": {},
   "outputs": [
    {
     "name": "stdout",
     "output_type": "stream",
     "text": [
      "Richard\n"
     ]
    }
   ],
   "source": [
    "# dictionary\n",
    "d = {\n",
    "    'name': 'Richard',\n",
    "    'age': '42',\n",
    "    'height': 'kinda tall'\n",
    "}\n",
    "print('{0[name]}'.format(d))"
   ]
  },
  {
   "cell_type": "code",
   "execution_count": 2,
   "metadata": {},
   "outputs": [
    {
     "name": "stdout",
     "output_type": "stream",
     "text": [
      "Richard\n"
     ]
    }
   ],
   "source": [
    "print('{d[name]}'.format(d = d))"
   ]
  },
  {
   "cell_type": "code",
   "execution_count": 3,
   "metadata": {},
   "outputs": [
    {
     "name": "stdout",
     "output_type": "stream",
     "text": [
      "Str of Container\n",
      "5\n",
      "6\n",
      "Repr of Container\n",
      "Str of Container\n",
      "Repr of Container\n",
      "5\n",
      "6\n"
     ]
    }
   ],
   "source": [
    "class Container():\n",
    "    def __init__(self, x, y):\n",
    "        self.x = x\n",
    "        self.y = y\n",
    "    def __repr__(self):\n",
    "        return 'Repr of Container'\n",
    "    \n",
    "    def __str__(self):\n",
    "        return 'Str of Container'\n",
    "\n",
    "c = Container(5, 6)\n",
    "print('{}'.format(c))\n",
    "print('{0.x}'.format(c))        # using a dot notation\n",
    "print('{c.y}'.format(c=c))\n",
    "print('{!r}'.format(c))         # repr\n",
    "print('{!s}'.format(c))         # string\n",
    "print('{!a}'.format(c))         # ASCII\n",
    "print('{0.x!r}'.format(c))  \n",
    "print('{0.y!r}'.format(c)) "
   ]
  },
  {
   "cell_type": "code",
   "execution_count": null,
   "metadata": {},
   "outputs": [],
   "source": []
  }
 ],
 "metadata": {
  "kernelspec": {
   "display_name": "Python 3",
   "language": "python",
   "name": "python3"
  },
  "language_info": {
   "codemirror_mode": {
    "name": "ipython",
    "version": 3
   },
   "file_extension": ".py",
   "mimetype": "text/x-python",
   "name": "python",
   "nbconvert_exporter": "python",
   "pygments_lexer": "ipython3",
   "version": "3.7.6"
  }
 },
 "nbformat": 4,
 "nbformat_minor": 4
}
