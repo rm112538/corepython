{
 "cells": [
  {
   "cell_type": "markdown",
   "metadata": {},
   "source": [
    "##### frozenset\n",
    "\n",
    "They are immutable and could be used as dictionary keys if needed"
   ]
  },
  {
   "cell_type": "code",
   "execution_count": 1,
   "metadata": {},
   "outputs": [
    {
     "name": "stdout",
     "output_type": "stream",
     "text": [
      "Here is the new set: {'bar', 'foo', 'baz'}.\n"
     ]
    }
   ],
   "source": [
    "x = set(['foo', 'bar', 'baz'])         # list that's converted to a set\n",
    "print(f'Here is the new set: {x}.')"
   ]
  },
  {
   "cell_type": "code",
   "execution_count": 2,
   "metadata": {},
   "outputs": [
    {
     "name": "stdout",
     "output_type": "stream",
     "text": [
      "Here is the length of \"y\": 3.\n"
     ]
    }
   ],
   "source": [
    "# converting a set to a frozenset\n",
    "x = {'bar', 'foo', 'baz'}\n",
    "y = frozenset({'bar', 'foo', 'baz'})          # frozenset\n",
    "print(f'Here is the length of \"y\": {len(y)}.')"
   ]
  },
  {
   "cell_type": "code",
   "execution_count": 3,
   "metadata": {},
   "outputs": [
    {
     "name": "stdout",
     "output_type": "stream",
     "text": [
      "bar foo baz "
     ]
    }
   ],
   "source": [
    "# iterating in y\n",
    "y = frozenset({'bar', 'foo', 'baz'})\n",
    "for i in y:\n",
    "    print(i, end=' ')"
   ]
  },
  {
   "cell_type": "code",
   "execution_count": 4,
   "metadata": {},
   "outputs": [
    {
     "name": "stdout",
     "output_type": "stream",
     "text": [
      "Here is where they intersect: {'foo', 'baz'}.\n"
     ]
    }
   ],
   "source": [
    "# determine intersection\n",
    "x = {'bar', 'foo', 'baz'}\n",
    "y = frozenset({'qux', 'foo', 'baz'}) \n",
    "\n",
    "a = x & y\n",
    "print(f'Here is where they intersect: {a}.')"
   ]
  },
  {
   "cell_type": "code",
   "execution_count": 5,
   "metadata": {},
   "outputs": [
    {
     "name": "stdout",
     "output_type": "stream",
     "text": [
      " Here is a newer frozenset: {frozenset({'foo', 'baz', 'qux'}), frozenset({1, 3, 6})}.\n"
     ]
    }
   ],
   "source": [
    "# add item into the frozen set\n",
    "y = {frozenset({'qux', 'foo', 'baz'})}\n",
    "y.add(frozenset({1, 3, 6}))\n",
    "print(f' Here is a newer frozenset: {y}.')"
   ]
  },
  {
   "cell_type": "code",
   "execution_count": 2,
   "metadata": {},
   "outputs": [
    {
     "name": "stdout",
     "output_type": "stream",
     "text": [
      " Here is a newer frozenset: {frozenset({'foo', 'qux', 'baz'}), 'goo'}.\n"
     ]
    }
   ],
   "source": [
    "# add item into the frozen set\n",
    "y = {frozenset({'qux', 'foo', 'baz'})}\n",
    "y |= {'goo'}                                # union and update\n",
    "print(f' Here is a newer frozenset: {y}.')"
   ]
  },
  {
   "cell_type": "markdown",
   "metadata": {},
   "source": [
    "###### using frozen sets as dictionary keys"
   ]
  },
  {
   "cell_type": "code",
   "execution_count": 6,
   "metadata": {},
   "outputs": [
    {
     "name": "stdout",
     "output_type": "stream",
     "text": [
      "Here is the key from a dictionary extracted from frozenset: frozenset({'quz', 'qux'}).\n"
     ]
    }
   ],
   "source": [
    "# creating a dictionary key using frozensets (immutable)\n",
    "d = {frozenset({'qux','quz'}):[2, 4, 8, 16]}\n",
    "for key in d.keys():\n",
    "    print(f'Here is the key from a dictionary extracted from frozenset: {key}.')     "
   ]
  },
  {
   "cell_type": "code",
   "execution_count": 7,
   "metadata": {},
   "outputs": [
    {
     "name": "stdout",
     "output_type": "stream",
     "text": [
      "Here is the list of values from a dictionary extracted from a frozenset: [2, 4, 8, 16].\n"
     ]
    }
   ],
   "source": [
    "d = {frozenset({'qux','quz'}):[2, 4, 8, 16]}\n",
    "for val in d.values():\n",
    "    print(f'Here is the list of values from a dictionary extracted from a frozenset: {val}.')"
   ]
  },
  {
   "cell_type": "code",
   "execution_count": null,
   "metadata": {},
   "outputs": [],
   "source": []
  }
 ],
 "metadata": {
  "kernelspec": {
   "display_name": "Python 3",
   "language": "python",
   "name": "python3"
  },
  "language_info": {
   "codemirror_mode": {
    "name": "ipython",
    "version": 3
   },
   "file_extension": ".py",
   "mimetype": "text/x-python",
   "name": "python",
   "nbconvert_exporter": "python",
   "pygments_lexer": "ipython3",
   "version": "3.7.6"
  }
 },
 "nbformat": 4,
 "nbformat_minor": 4
}
