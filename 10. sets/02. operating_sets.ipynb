{
 "cells": [
  {
   "cell_type": "markdown",
   "metadata": {},
   "source": [
    "##### comparing an empty set with other data types"
   ]
  },
  {
   "cell_type": "code",
   "execution_count": 1,
   "metadata": {
    "scrolled": true
   },
   "outputs": [
    {
     "name": "stdout",
     "output_type": "stream",
     "text": [
      "Here is what an empty set produces: False.\n"
     ]
    }
   ],
   "source": [
    "# empty set\n",
    "print(f'Here is what an empty set produces: {bool(set())}.')"
   ]
  },
  {
   "cell_type": "code",
   "execution_count": 2,
   "metadata": {},
   "outputs": [
    {
     "name": "stdout",
     "output_type": "stream",
     "text": [
      "Here is what an empty list produces: False.\n"
     ]
    }
   ],
   "source": [
    "# empty list\n",
    "print(f'Here is what an empty list produces: {bool([])}.')"
   ]
  },
  {
   "cell_type": "code",
   "execution_count": 3,
   "metadata": {},
   "outputs": [
    {
     "name": "stdout",
     "output_type": "stream",
     "text": [
      "Here is what an empty dictionary produces: False.\n"
     ]
    }
   ],
   "source": [
    "# empty dictionary\n",
    "print(f'Here is what an empty dictionary produces: {bool({})}.')"
   ]
  },
  {
   "cell_type": "markdown",
   "metadata": {},
   "source": [
    "##### defining a set"
   ]
  },
  {
   "cell_type": "code",
   "execution_count": 4,
   "metadata": {},
   "outputs": [
    {
     "name": "stdout",
     "output_type": "stream",
     "text": [
      "Here is the set output: {1, 2, 3.14159, 3, 'a', (1, 4, 9, 16)}.\n",
      "Here is the length of the set: 6.\n"
     ]
    }
   ],
   "source": [
    "s = {1, 2, 3, 'a', 3.14159, (1, 4, 9, 16)}\n",
    "print(f'Here is the set output: {s}.')\n",
    "print(f'Here is the length of the set: {len(s)}.')"
   ]
  },
  {
   "cell_type": "markdown",
   "metadata": {},
   "source": [
    "##### Membership in sets"
   ]
  },
  {
   "cell_type": "code",
   "execution_count": 5,
   "metadata": {},
   "outputs": [
    {
     "name": "stdout",
     "output_type": "stream",
     "text": [
      "Is foo a member of x?:True.\n"
     ]
    }
   ],
   "source": [
    "x = { 'foo', 'bar', 'baz'}\n",
    "\n",
    "answer = 'foo' in x\n",
    "print(f'Is foo a member of x?:{answer}.')\n"
   ]
  },
  {
   "cell_type": "code",
   "execution_count": 6,
   "metadata": {},
   "outputs": [
    {
     "name": "stdout",
     "output_type": "stream",
     "text": [
      "Is foo not a member of x?:False.\n"
     ]
    }
   ],
   "source": [
    "x = { 'foo', 'bar', 'baz'}\n",
    "\n",
    "answer = 'foo' not in x\n",
    "print(f'Is foo not a member of x?:{answer}.')"
   ]
  },
  {
   "cell_type": "code",
   "execution_count": 7,
   "metadata": {},
   "outputs": [
    {
     "name": "stdout",
     "output_type": "stream",
     "text": [
      "Is bot a member of x?:False.\n"
     ]
    }
   ],
   "source": [
    "x = { 'foo', 'bar', 'baz'}\n",
    "answer = 'bot' in x\n",
    "print(f'Is bot a member of x?:{answer}.')"
   ]
  },
  {
   "cell_type": "code",
   "execution_count": 8,
   "metadata": {},
   "outputs": [
    {
     "name": "stdout",
     "output_type": "stream",
     "text": [
      "Is bot not a member of x?:True.\n"
     ]
    }
   ],
   "source": [
    "x = { 'foo', 'bar', 'baz'}\n",
    "answer = not 'bot' in x\n",
    "print(f'Is bot not a member of x?:{answer}.')"
   ]
  },
  {
   "cell_type": "markdown",
   "metadata": {},
   "source": [
    "##### union in sets"
   ]
  },
  {
   "cell_type": "code",
   "execution_count": 9,
   "metadata": {},
   "outputs": [
    {
     "name": "stdout",
     "output_type": "stream",
     "text": [
      "Here is how you unionize using a method: {'baz', 'qux', 'quux', 'bar', 'foo'}.\n"
     ]
    }
   ],
   "source": [
    "# using a method\n",
    "x1 = {'foo', 'bar','baz'}\n",
    "x2 = {'baz', 'qux', 'quux'}\n",
    "\n",
    "print(f'Here is how you unionize using a method: {x1.union(x2)}.')"
   ]
  },
  {
   "cell_type": "code",
   "execution_count": 10,
   "metadata": {},
   "outputs": [
    {
     "name": "stdout",
     "output_type": "stream",
     "text": [
      "Here is how you unionize using an operator: {'baz', 'qux', 'quux', 'bar', 'foo'}.\n"
     ]
    }
   ],
   "source": [
    "# using an operator\n",
    "x1 = {'foo', 'bar','baz'}\n",
    "x2 = {'baz', 'qux', 'quux'}\n",
    "print(f'Here is how you unionize using an operator: {x1|x2}.')"
   ]
  },
  {
   "cell_type": "code",
   "execution_count": 11,
   "metadata": {
    "scrolled": true
   },
   "outputs": [
    {
     "name": "stdout",
     "output_type": "stream",
     "text": [
      "Here is how this union works: {400, 'baz', 500, 'bar', 300, 'foo'}.\n"
     ]
    }
   ],
   "source": [
    "# syntax check using method\n",
    "x1 = {'foo', 'bar','baz'}\n",
    "y1 = x1.union({300, 400, 500})\n",
    "print(f'Here is how this union works: {y1}.')"
   ]
  },
  {
   "cell_type": "code",
   "execution_count": 12,
   "metadata": {},
   "outputs": [
    {
     "name": "stdout",
     "output_type": "stream",
     "text": [
      "Here is how this union works: {400, 'baz', 500, 'bar', 300, 'foo'}.\n"
     ]
    }
   ],
   "source": [
    "# syntax check unsing method\n",
    "x1 = {'foo', 'bar','baz'}\n",
    "y1 = x1.union(set([300, 400, 500]))                     \n",
    "print(f'Here is how this union works: {y1}.')"
   ]
  },
  {
   "cell_type": "code",
   "execution_count": 13,
   "metadata": {},
   "outputs": [
    {
     "name": "stdout",
     "output_type": "stream",
     "text": [
      "Here is how this union works: {'bar', 300, 400, 'baz', 500, 'foo'}.\n"
     ]
    }
   ],
   "source": [
    "# syntax check unsing method\n",
    "x1 = {'foo', 'bar','baz'}\n",
    "y1 = x1.union([300, 400, 500])                    \n",
    "print(f'Here is how this union works: {y1}.')"
   ]
  },
  {
   "cell_type": "code",
   "execution_count": 14,
   "metadata": {},
   "outputs": [
    {
     "name": "stdout",
     "output_type": "stream",
     "text": [
      "Here is how this union works: {'bar', 300, 400, 'baz', 500, 'foo'}.\n"
     ]
    }
   ],
   "source": [
    "# syntax check\n",
    "x1 = {'foo', 'bar','baz'}\n",
    "y = x1 | set([300, 400, 500])                       \n",
    "print(f'Here is how this union works: {y1}.')"
   ]
  },
  {
   "cell_type": "code",
   "execution_count": 15,
   "metadata": {},
   "outputs": [
    {
     "name": "stdout",
     "output_type": "stream",
     "text": [
      "Here is how this union works: {400, 'baz', 500, 'bar', 300, 'foo'}.\n"
     ]
    }
   ],
   "source": [
    "# syntax check\n",
    "x1 = {'foo', 'bar','baz'}\n",
    "y1 = x1 | {300, 400, 500}                      \n",
    "print(f'Here is how this union works: {y1}.')"
   ]
  },
  {
   "cell_type": "code",
   "execution_count": 16,
   "metadata": {},
   "outputs": [],
   "source": [
    "# syntax check\n",
    "x1 = {'foo', 'bar','baz'}\n",
    "#y1 = x1 | [300, 400, 500]                         # TypeError: unsupported operand type(s) for |: 'set' and 'list'\n",
    "#print(f'Here is how this union works: {y1}.')"
   ]
  },
  {
   "cell_type": "markdown",
   "metadata": {},
   "source": [
    "##### intersection"
   ]
  },
  {
   "cell_type": "code",
   "execution_count": 17,
   "metadata": {},
   "outputs": [
    {
     "name": "stdout",
     "output_type": "stream",
     "text": [
      "Here is how you unionize using a method: {'baz'}.\n"
     ]
    }
   ],
   "source": [
    "# using a method\n",
    "x1 = {'foo', 'bar','baz'}\n",
    "x2 = {'baz', 'qux', 'quux'}\n",
    "\n",
    "print(f'Here is how you unionize using a method: {x1.intersection(x2)}.')"
   ]
  },
  {
   "cell_type": "code",
   "execution_count": 18,
   "metadata": {},
   "outputs": [
    {
     "name": "stdout",
     "output_type": "stream",
     "text": [
      "Here is how you unionize using an operator: {'baz'}.\n"
     ]
    }
   ],
   "source": [
    "# using an operator\n",
    "x1 = {'foo', 'bar','baz'}\n",
    "x2 = {'baz', 'qux', 'quux'}\n",
    "print(f'Here is how you unionize using an operator: {x1 & x2}.')"
   ]
  },
  {
   "cell_type": "markdown",
   "metadata": {},
   "source": [
    "#### difference"
   ]
  },
  {
   "cell_type": "code",
   "execution_count": 19,
   "metadata": {},
   "outputs": [
    {
     "name": "stdout",
     "output_type": "stream",
     "text": [
      "Here is the difference using a method: {'bar', 'foo'}.\n"
     ]
    }
   ],
   "source": [
    "# using a method\n",
    "x1 = {'foo', 'bar','baz'}\n",
    "x2 = {'baz', 'qux', 'quux'}\n",
    "\n",
    "print(f'Here is the difference using a method: {x1.difference(x2)}.')"
   ]
  },
  {
   "cell_type": "code",
   "execution_count": 20,
   "metadata": {},
   "outputs": [
    {
     "name": "stdout",
     "output_type": "stream",
     "text": [
      "Here is the difference using a operator: {'bar', 'foo'}.\n"
     ]
    }
   ],
   "source": [
    "# using a operator\n",
    "x1 = {'foo', 'bar','baz'}\n",
    "x2 = {'baz', 'qux', 'quux'}\n",
    "\n",
    "print(f'Here is the difference using a operator: {x1 - x2}.')"
   ]
  },
  {
   "cell_type": "markdown",
   "metadata": {},
   "source": [
    "##### symetric difference\n",
    "\n",
    "Returns that which belongs to each set uniquely"
   ]
  },
  {
   "cell_type": "code",
   "execution_count": 21,
   "metadata": {
    "scrolled": true
   },
   "outputs": [
    {
     "name": "stdout",
     "output_type": "stream",
     "text": [
      "Here is what exist in each set but not the other using a method: {'qux', 'quux', 'bar', 'foo'}.\n"
     ]
    }
   ],
   "source": [
    "# using a method\n",
    "x1 = {'foo', 'bar','baz'}\n",
    "x2 = {'baz', 'qux', 'quux'}\n",
    "\n",
    "print(f'Here is what exist in each set but not the other using a method: {x1.symmetric_difference(x2)}.')"
   ]
  },
  {
   "cell_type": "code",
   "execution_count": 22,
   "metadata": {},
   "outputs": [
    {
     "name": "stdout",
     "output_type": "stream",
     "text": [
      "Here is what exist in each set but not the other using an operator: {'qux', 'quux', 'bar', 'foo'}.\n"
     ]
    }
   ],
   "source": [
    "# using a method\n",
    "x1 = {'foo', 'bar','baz'}\n",
    "x2 = {'baz', 'qux', 'quux'}\n",
    "\n",
    "print(f'Here is what exist in each set but not the other using an operator: {x1 ^ x2}.')"
   ]
  },
  {
   "cell_type": "markdown",
   "metadata": {},
   "source": [
    "#### isdisjoint"
   ]
  },
  {
   "cell_type": "code",
   "execution_count": 23,
   "metadata": {},
   "outputs": [
    {
     "name": "stdout",
     "output_type": "stream",
     "text": [
      "Using a method; are there no identical elements in both sets: False.\n"
     ]
    }
   ],
   "source": [
    "# using a method\n",
    "x1 = {'foo', 'bar','baz'}\n",
    "x2 = {'baz', 'qux', 'quux'}\n",
    "\n",
    "print(f'Using a method; are there no identical elements in both sets: {x1.isdisjoint(x2)}.')"
   ]
  },
  {
   "cell_type": "markdown",
   "metadata": {},
   "source": [
    "##### issubset\n",
    "\n",
    "Checks to see if all elements of the set in question belong to the other"
   ]
  },
  {
   "cell_type": "code",
   "execution_count": 24,
   "metadata": {},
   "outputs": [
    {
     "name": "stdout",
     "output_type": "stream",
     "text": [
      "Are all members of x1 a subset of x2: False.\n"
     ]
    }
   ],
   "source": [
    "# using a operator\n",
    "x1 = {'foo', 'bar','baz'}\n",
    "x2 = {'baz', 'qux', 'quux'}\n",
    "\n",
    "print(f'Are all members of x1 a subset of x2: {x1 <= x2}.')"
   ]
  },
  {
   "cell_type": "code",
   "execution_count": 25,
   "metadata": {},
   "outputs": [
    {
     "name": "stdout",
     "output_type": "stream",
     "text": [
      "Are all members of x1 a subset of x2: False.\n"
     ]
    }
   ],
   "source": [
    "# using a method\n",
    "x1 = {'foo', 'bar','baz'}\n",
    "x2 = {'baz', 'qux', 'quux'}\n",
    "\n",
    "print(f'Are all members of x1 a subset of x2: {x1.issubset(x2)}.')"
   ]
  },
  {
   "cell_type": "code",
   "execution_count": 26,
   "metadata": {},
   "outputs": [
    {
     "name": "stdout",
     "output_type": "stream",
     "text": [
      "Are all member elements of a subsets of b? True.\n",
      "Are all member elements of b subsets of c? True.\n",
      "Are all member elements of a subsets of b and also in c? True.\n",
      "Are all member elements of a subsets of c and also in d? False.\n"
     ]
    }
   ],
   "source": [
    "# checking subsets using an operator\n",
    "a = {1}\n",
    "b = {1, 2}\n",
    "c = {1, 2, 3}\n",
    "d = {1, 2, 4}\n",
    "\n",
    "print(f'Are all member elements of a subsets of b? {a <= b}.')\n",
    "print(f'Are all member elements of b subsets of c? {b <= c}.')\n",
    "print(f'Are all member elements of a subsets of b and also in c? {a <= b <= c}.')\n",
    "print(f'Are all member elements of a subsets of c and also in d? {a <= c <= d}.')"
   ]
  },
  {
   "cell_type": "markdown",
   "metadata": {},
   "source": [
    "##### ispropersubset\n",
    "\n",
    "There is no method for ispropersubset.\n",
    "\n",
    "Python provides both the .issubset() method and <= operator to test whether \n",
    "a set is a subset of another set.\n",
    "\n",
    "But to test for proper subset, the < operator is the only option. \n",
    "There is no .ispropersubset() method."
   ]
  },
  {
   "cell_type": "code",
   "execution_count": null,
   "metadata": {},
   "outputs": [],
   "source": [
    "# using a operator\n",
    "x1 = {'foo', 'bar','baz'}\n",
    "x2 = {'baz', 'qux', 'quux'}\n",
    "\n",
    "print(f'Is x1 a proper subset of x2? {x1 < x2}.')"
   ]
  },
  {
   "cell_type": "code",
   "execution_count": 28,
   "metadata": {},
   "outputs": [
    {
     "name": "stdout",
     "output_type": "stream",
     "text": [
      "Is x1 a proper subset of x2? True.\n"
     ]
    }
   ],
   "source": [
    "# using a operator\n",
    "x1 = {'foo', 'bar','baz'}\n",
    "x2 = {'baz', 'qux', 'quux', 'foo', 'bar'} # note: x2 cannot be identical to x1\n",
    "\n",
    "print(f'Is x1 a proper subset of x2? {x1 < x2}.')"
   ]
  },
  {
   "cell_type": "code",
   "execution_count": 29,
   "metadata": {},
   "outputs": [
    {
     "name": "stdout",
     "output_type": "stream",
     "text": [
      "Is x1 a proper subset of x2? False.\n"
     ]
    }
   ],
   "source": [
    "# using a operator \n",
    "x1 = {'foo', 'bar','baz'}\n",
    "x2 = {'foo', 'bar','baz'} # note identical sets\n",
    "\n",
    "print(f'Is x1 a proper subset of x2? {x1 < x2}.')"
   ]
  },
  {
   "cell_type": "markdown",
   "metadata": {},
   "source": [
    "##### unique to both?"
   ]
  },
  {
   "cell_type": "code",
   "execution_count": 30,
   "metadata": {},
   "outputs": [
    {
     "name": "stdout",
     "output_type": "stream",
     "text": [
      "Here are the unique ones: ['bar', 'quux', 'qux', 'foo'].\n"
     ]
    }
   ],
   "source": [
    "# unique in both sets\n",
    "x1 = {'foo', 'bar','baz'}\n",
    "x2 = {'baz', 'qux', 'quux'}\n",
    "non_match_1 = x1 - x2\n",
    "non_match_2 = x2 - x1\n",
    "\n",
    "non_match = list(non_match_1 | non_match_2)\n",
    "print(f'Here are the unique ones: {non_match}.')"
   ]
  },
  {
   "cell_type": "code",
   "execution_count": null,
   "metadata": {},
   "outputs": [],
   "source": []
  }
 ],
 "metadata": {
  "kernelspec": {
   "display_name": "Python 3",
   "language": "python",
   "name": "python3"
  },
  "language_info": {
   "codemirror_mode": {
    "name": "ipython",
    "version": 3
   },
   "file_extension": ".py",
   "mimetype": "text/x-python",
   "name": "python",
   "nbconvert_exporter": "python",
   "pygments_lexer": "ipython3",
   "version": "3.7.6"
  }
 },
 "nbformat": 4,
 "nbformat_minor": 4
}
