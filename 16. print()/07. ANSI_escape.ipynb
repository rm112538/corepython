{
 "cells": [
  {
   "cell_type": "code",
   "execution_count": 6,
   "metadata": {},
   "outputs": [
    {
     "name": "stdout",
     "output_type": "stream",
     "text": [
      "This is \u001b[31m really \u001b[0m  important.\n"
     ]
    }
   ],
   "source": [
    "def esc(code):\n",
    "    return f'\\033[{code}m'    # m- tells ANSI that it's done\n",
    "print('This is', esc('31'),'really', esc('0'), ' important.', sep=' ') # '31' turns red ON, 0 turns red OFF"
   ]
  },
  {
   "cell_type": "code",
   "execution_count": 8,
   "metadata": {},
   "outputs": [
    {
     "name": "stdout",
     "output_type": "stream",
     "text": [
      "This is \u001b[31;1m really \u001b[0m  important.\n"
     ]
    }
   ],
   "source": [
    "# '31; 1' turns red ON and bold, 0 turns red OFF\n",
    "def esc(code):\n",
    "    return f'\\033[{code}m'    # m- tells ANSI that it's done\n",
    "print('This is', esc('31;1'),'really', esc('0'), ' important.', sep=' ') "
   ]
  },
  {
   "cell_type": "code",
   "execution_count": 17,
   "metadata": {},
   "outputs": [
    {
     "name": "stdout",
     "output_type": "stream",
     "text": [
      "This is \u001b[31;1;4m really \u001b[0m important.\n"
     ]
    }
   ],
   "source": [
    "# '31; 1; 4' turns red ON ,Bold, underline\n",
    "def esc(code):\n",
    "    return f'\\033[{code}m'    # m- tells ANSI that it's done\n",
    "print('This is', esc('31;1;4'),'really', esc('0'), 'important.', sep=' ') # must not have spaces btn the semi-colons ;"
   ]
  },
  {
   "cell_type": "code",
   "execution_count": null,
   "metadata": {},
   "outputs": [],
   "source": []
  },
  {
   "cell_type": "code",
   "execution_count": null,
   "metadata": {},
   "outputs": [],
   "source": []
  }
 ],
 "metadata": {
  "kernelspec": {
   "display_name": "Python 3",
   "language": "python",
   "name": "python3"
  },
  "language_info": {
   "codemirror_mode": {
    "name": "ipython",
    "version": 3
   },
   "file_extension": ".py",
   "mimetype": "text/x-python",
   "name": "python",
   "nbconvert_exporter": "python",
   "pygments_lexer": "ipython3",
   "version": "3.7.6"
  }
 },
 "nbformat": 4,
 "nbformat_minor": 4
}
