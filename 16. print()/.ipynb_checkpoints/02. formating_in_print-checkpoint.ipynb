{
 "cells": [
  {
   "cell_type": "code",
   "execution_count": 1,
   "metadata": {
    "scrolled": true
   },
   "outputs": [
    {
     "name": "stdout",
     "output_type": "stream",
     "text": [
      "Hi Mr. Mchau\n",
      "Hi Mr. Mchau, your first name is Richard\n",
      "Hi Mr. Mchau, your first name is Richard and your age is 45\n"
     ]
    }
   ],
   "source": [
    "# using string modulo % \n",
    "first = 'Richard'\n",
    "last = 'Mchau'\n",
    "age = 45\n",
    "message = 'Hi Mr. %s'% last\n",
    "print(message)\n",
    "message = 'Hi Mr. %s, your first name is %s'% (last, first)\n",
    "print(message)\n",
    "message = 'Hi Mr. %s, your first name is %s and your age is %d'% (last, first, age)\n",
    "print(message)"
   ]
  },
  {
   "cell_type": "code",
   "execution_count": 2,
   "metadata": {},
   "outputs": [
    {
     "name": "stdout",
     "output_type": "stream",
     "text": [
      "pi: 3.141593 \n",
      "Short pi 3.14\n"
     ]
    }
   ],
   "source": [
    "# function inside the print\n",
    "import math\n",
    "print('pi: %f \\nShort pi %0.2f'% (math.pi, math.pi))"
   ]
  },
  {
   "cell_type": "code",
   "execution_count": 11,
   "metadata": {},
   "outputs": [
    {
     "name": "stdout",
     "output_type": "stream",
     "text": [
      "Hi Mr. Mchau, your first name is Richard, andyour age is: 45\n"
     ]
    }
   ],
   "source": [
    "# f-string\n",
    "print(f'Hi Mr. {last}, your first name is {first}, and\\\n",
    "your age is: {age}') # see how easy it was to place commas"
   ]
  },
  {
   "cell_type": "code",
   "execution_count": 6,
   "metadata": {},
   "outputs": [
    {
     "ename": "TypeError",
     "evalue": "unsupported operand type(s) for -: 'builtin_function_or_method' and 'datetime.date'",
     "output_type": "error",
     "traceback": [
      "\u001b[1;31m---------------------------------------------------------------------------\u001b[0m",
      "\u001b[1;31mTypeError\u001b[0m                                 Traceback (most recent call last)",
      "\u001b[1;32m<ipython-input-6-e18a46554eb5>\u001b[0m in \u001b[0;36m<module>\u001b[1;34m\u001b[0m\n\u001b[0;32m      3\u001b[0m \u001b[0mentry_to_america\u001b[0m \u001b[1;33m=\u001b[0m \u001b[0mdate\u001b[0m\u001b[1;33m.\u001b[0m\u001b[0mfromisoformat\u001b[0m\u001b[1;33m(\u001b[0m\u001b[1;34m'1999-12-11'\u001b[0m\u001b[1;33m)\u001b[0m\u001b[1;33m\u001b[0m\u001b[1;33m\u001b[0m\u001b[0m\n\u001b[0;32m      4\u001b[0m print(f'Hi Mr. {last}, your first name is {first}, and\\\n\u001b[1;32m----> 5\u001b[1;33m       you have been in america for: {(date.today - entry_to_america)}') # see how easy it was to place commas\n\u001b[0m",
      "\u001b[1;31mTypeError\u001b[0m: unsupported operand type(s) for -: 'builtin_function_or_method' and 'datetime.date'"
     ]
    }
   ],
   "source": [
    "# f-string and arithmetic operation?\n",
    "from datetime import date\n",
    "entry_to_america = date.fromisoformat('1999-12-11')\n",
    "print(f'Hi Mr. {last}, your first name is {first}, and\\\n",
    "      you have been in america for: {date.today - entry_to_america}') # see how easy it was to place commas"
   ]
  },
  {
   "cell_type": "code",
   "execution_count": null,
   "metadata": {},
   "outputs": [],
   "source": []
  }
 ],
 "metadata": {
  "kernelspec": {
   "display_name": "Python 3",
   "language": "python",
   "name": "python3"
  },
  "language_info": {
   "codemirror_mode": {
    "name": "ipython",
    "version": 3
   },
   "file_extension": ".py",
   "mimetype": "text/x-python",
   "name": "python",
   "nbconvert_exporter": "python",
   "pygments_lexer": "ipython3",
   "version": "3.7.6"
  }
 },
 "nbformat": 4,
 "nbformat_minor": 4
}
