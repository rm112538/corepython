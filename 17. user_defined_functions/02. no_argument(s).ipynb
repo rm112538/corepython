{
 "cells": [
  {
   "cell_type": "code",
   "execution_count": 1,
   "metadata": {},
   "outputs": [
    {
     "name": "stdout",
     "output_type": "stream",
     "text": [
      "Before calling f()\n",
      "----Inside f()\n",
      "After calling f()\n"
     ]
    }
   ],
   "source": [
    "# time honored mathematical tradition\n",
    "def f():\n",
    "    s = '----Inside f()'\n",
    "    print(s)\n",
    "print('Before calling f()')\n",
    "f()\n",
    "print('After calling f()')"
   ]
  },
  {
   "cell_type": "code",
   "execution_count": 3,
   "metadata": {},
   "outputs": [
    {
     "name": "stdout",
     "output_type": "stream",
     "text": [
      "Future fuctions for gizmo program.\n"
     ]
    }
   ],
   "source": [
    "# stub a temporary placeholder for a Python function\n",
    "def f():\n",
    "    pass\n",
    "\n",
    "def g():\n",
    "    pass\n",
    "\n",
    "def h():\n",
    "    pass\n",
    "\n",
    "def j():\n",
    "    pass\n",
    "\n",
    "print(f'Future fuctions for gizmo program.')\n",
    "f()\n",
    "g()\n",
    "h()\n",
    "j()"
   ]
  },
  {
   "cell_type": "code",
   "execution_count": null,
   "metadata": {},
   "outputs": [],
   "source": []
  }
 ],
 "metadata": {
  "kernelspec": {
   "display_name": "Python 3",
   "language": "python",
   "name": "python3"
  },
  "language_info": {
   "codemirror_mode": {
    "name": "ipython",
    "version": 3
   },
   "file_extension": ".py",
   "mimetype": "text/x-python",
   "name": "python",
   "nbconvert_exporter": "python",
   "pygments_lexer": "ipython3",
   "version": "3.7.6"
  }
 },
 "nbformat": 4,
 "nbformat_minor": 4
}
