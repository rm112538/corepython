{
 "cells": [
  {
   "cell_type": "code",
   "execution_count": 10,
   "metadata": {},
   "outputs": [
    {
     "name": "stdout",
     "output_type": "stream",
     "text": [
      "6.73\n",
      "7\n",
      "9\n"
     ]
    }
   ],
   "source": [
    "import statistics as st\n",
    "\n",
    "def describe(sample):\n",
    "    return st.mean(sample), st.median(sample), st.mode(sample)\n",
    "\n",
    "sample = [10, 2, 4, 7, 9, 3, 9, 8, 6, 7, 9]\n",
    "mean, median, mode = describe(sample)\n",
    "print(f'{mean:.2f}')\n",
    "print(median)\n",
    "print(mode)"
   ]
  },
  {
   "cell_type": "code",
   "execution_count": null,
   "metadata": {},
   "outputs": [],
   "source": []
  }
 ],
 "metadata": {
  "kernelspec": {
   "display_name": "Python 3",
   "language": "python",
   "name": "python3"
  },
  "language_info": {
   "codemirror_mode": {
    "name": "ipython",
    "version": 3
   },
   "file_extension": ".py",
   "mimetype": "text/x-python",
   "name": "python",
   "nbconvert_exporter": "python",
   "pygments_lexer": "ipython3",
   "version": "3.7.6"
  }
 },
 "nbformat": 4,
 "nbformat_minor": 4
}
