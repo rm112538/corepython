{
 "cells": [
  {
   "cell_type": "code",
   "execution_count": 1,
   "metadata": {},
   "outputs": [
    {
     "name": "stdout",
     "output_type": "stream",
     "text": [
      "The logic for \"x = x[:]\" is defined as True\n",
      "The logic for \"x is x[:]\" is defined as False\n"
     ]
    }
   ],
   "source": [
    "# lists and slicing\n",
    "x = ['car', 'truck','motorcycle','plane']\n",
    "print(f'The logic for \"x = x[:]\" is defined as {x == x[:]}') # it's a copy of the list NOT \n",
    "                                                             # pointing to the same value\n",
    "print(f'The logic for \"x is x[:]\" is defined as {x is x[:]}')"
   ]
  },
  {
   "cell_type": "code",
   "execution_count": 4,
   "metadata": {},
   "outputs": [
    {
     "name": "stdout",
     "output_type": "stream",
     "text": [
      "Here is a new list with a[1] assigned as 4 ['car', 4, 'plane', 'motorcycle', 'tank'].\n"
     ]
    }
   ],
   "source": [
    "# slicing the list\n",
    "a = ['car', 'truck', 'plane', 'motorcycle', 'tank']\n",
    "a[1] = 4\n",
    "\n",
    "print(f'Here is a new list with a[1] assigned as 4 {a}.')\n",
    "#print(f'Here is a new list with a[-1] deleted {a}.') # doesn't work here"
   ]
  },
  {
   "cell_type": "markdown",
   "metadata": {},
   "source": [
    "###### Using Slices to Insert"
   ]
  },
  {
   "cell_type": "code",
   "execution_count": 12,
   "metadata": {
    "scrolled": true
   },
   "outputs": [
    {
     "data": {
      "text/plain": [
       "'The new list of a is [1, 2, 3, 4, 5, 6, 7, 8].'"
      ]
     },
     "execution_count": 12,
     "metadata": {},
     "output_type": "execute_result"
    }
   ],
   "source": [
    "# Given a list\n",
    "# a = [1, 2, 7, 8]\n",
    "# Write a Python statement using slice assignment that produces the following list\n",
    "# a = [1, 2, 3, 4, 5, 6, 7, 8]\n",
    "\n",
    "a = [1, 2, 7, 8]\n",
    "\n",
    "#a[2:2] = [3, 4, 5, 6, 7]  # works []\n",
    "a[2:3] = [3, 4, 5, 6, 7] #works\n",
    "\n",
    "#a[2:2] = [3, 4, 5, 6]\n",
    "f'The new list of a is {a}.'"
   ]
  },
  {
   "cell_type": "code",
   "execution_count": 13,
   "metadata": {},
   "outputs": [
    {
     "name": "stdout",
     "output_type": "stream",
     "text": [
      "When a[2:2] is used we get [1, 2, 'A', 3, 4, 5, 6, 7, 8].\n"
     ]
    }
   ],
   "source": [
    "# See what happens\n",
    "a = [1, 2, 3, 4, 5, 6, 7, 8]\n",
    "\n",
    "a[2:2] = 'A'\n",
    "print(f'When a[2:2] is used we get {a}.')"
   ]
  },
  {
   "cell_type": "code",
   "execution_count": 14,
   "metadata": {},
   "outputs": [
    {
     "name": "stdout",
     "output_type": "stream",
     "text": [
      "When a[2:3] is used we get [1, 2, 'B', 4, 5, 6, 7, 8].\n"
     ]
    }
   ],
   "source": [
    "# See what happens\n",
    "a = [1, 2, 3, 4, 5, 6, 7, 8]\n",
    "\n",
    "a[2:3] = 'B'\n",
    "print(f'When a[2:3] is used we get {a}.')"
   ]
  },
  {
   "cell_type": "code",
   "execution_count": 15,
   "metadata": {},
   "outputs": [
    {
     "name": "stdout",
     "output_type": "stream",
     "text": [
      "When a[2:2] is used we get [1, 2, 3, 4, 5, 6, 7, 8].\n"
     ]
    }
   ],
   "source": [
    "# See what happens\n",
    "a = [1, 2, 3, 4, 5, 6, 7, 8]\n",
    "\n",
    "a[2:2] = []\n",
    "print(f'When a[2:2] is used we get {a}.')"
   ]
  },
  {
   "cell_type": "code",
   "execution_count": 16,
   "metadata": {},
   "outputs": [
    {
     "name": "stdout",
     "output_type": "stream",
     "text": [
      "When a[2:3] is used we get [1, 2, 4, 5, 6, 7, 8].\n"
     ]
    }
   ],
   "source": [
    "# See what happens\n",
    "a = [1, 2, 3, 4, 5, 6, 7, 8]\n",
    "\n",
    "a[2:3] = [] # the index location was emptied\n",
    "print(f'When a[2:3] is used we get {a}.')"
   ]
  },
  {
   "cell_type": "markdown",
   "metadata": {},
   "source": [
    "###### Using Insert()"
   ]
  },
  {
   "cell_type": "code",
   "execution_count": 17,
   "metadata": {},
   "outputs": [
    {
     "data": {
      "text/plain": [
       "'The new list of a is [1, 2, [3, 4, 5, 6], 7, 8].'"
      ]
     },
     "execution_count": 17,
     "metadata": {},
     "output_type": "execute_result"
    }
   ],
   "source": [
    "# using an insert list method\n",
    "a = [1, 2, 7, 8]\n",
    "\n",
    "a.insert(2, [3, 4, 5, 6])  #\n",
    "f'The new list of a is {a}.'"
   ]
  },
  {
   "cell_type": "code",
   "execution_count": 18,
   "metadata": {},
   "outputs": [
    {
     "name": "stdout",
     "output_type": "stream",
     "text": [
      "Help on method_descriptor:\n",
      "\n",
      "insert(self, index, object, /)\n",
      "    Insert object before index.\n",
      "\n"
     ]
    }
   ],
   "source": [
    "help(list.insert)"
   ]
  },
  {
   "cell_type": "code",
   "execution_count": 1,
   "metadata": {},
   "outputs": [
    {
     "name": "stdout",
     "output_type": "stream",
     "text": [
      "Here is the new list: [1, 2, 13, 3, 4, 5, 6] with #13 inserted before 3.\n"
     ]
    }
   ],
   "source": [
    "# insertion in a list   -insert()\n",
    "list1 = [ 1, 2, 3, 4, 5, 6 ] \n",
    "  \n",
    "# single element \n",
    "element =  13    # insert does well with a single value than [13, 14, 15] \n",
    "  \n",
    "# Element to be inserted before 3 \n",
    "beforeElement = 3 \n",
    "\n",
    "list1.insert(2, element)     # Notice the index position for the inserted value\n",
    "print(f'Here is the new list: {list1} with #13 inserted before 3.') "
   ]
  },
  {
   "cell_type": "code",
   "execution_count": 2,
   "metadata": {},
   "outputs": [
    {
     "name": "stdout",
     "output_type": "stream",
     "text": [
      "Here is the new list: [1, 2, [13, 14, 15], 3, 4, 5, 6] with #13 inserted before 3.\n"
     ]
    }
   ],
   "source": [
    "# insertion in a list   -insert()\n",
    "list1 = [ 1, 2, 3, 4, 5, 6 ] \n",
    "  \n",
    "# list element \n",
    "element =  [13, 14, 15]   # insert does well with a single value than [13, 14, 15] \n",
    "  \n",
    "# Element to be inserted before 3 \n",
    "beforeElement = 3 \n",
    "\n",
    "list1.insert(2, element)     # Notice the index position for the inserted value\n",
    "print(f'Here is the new list: {list1} with #13 inserted before 3.') "
   ]
  },
  {
   "cell_type": "markdown",
   "metadata": {},
   "source": [
    "#-------------------"
   ]
  }
 ],
 "metadata": {
  "kernelspec": {
   "display_name": "Python 3",
   "language": "python",
   "name": "python3"
  },
  "language_info": {
   "codemirror_mode": {
    "name": "ipython",
    "version": 3
   },
   "file_extension": ".py",
   "mimetype": "text/x-python",
   "name": "python",
   "nbconvert_exporter": "python",
   "pygments_lexer": "ipython3",
   "version": "3.7.6"
  }
 },
 "nbformat": 4,
 "nbformat_minor": 4
}
