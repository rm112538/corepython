{
 "cells": [
  {
   "cell_type": "markdown",
   "metadata": {},
   "source": [
    "##### Immutable Strings\n",
    "\n",
    "Although strings are immutable, if you its copy can be manipulated but the original remains the same"
   ]
  },
  {
   "cell_type": "code",
   "execution_count": 1,
   "metadata": {},
   "outputs": [
    {
     "name": "stdout",
     "output_type": "stream",
     "text": [
      "The copy of the original string has been changed to: Kambo.\n",
      "The copy of the original string has been changed to: jazbo.\n"
     ]
    }
   ],
   "source": [
    "# using concatenation and slicing\n",
    "\n",
    "s = 'jambo'\n",
    "t = 'K'+ s[1:5]\n",
    "u = s[0:2] +'z'+ s[3:5]\n",
    "print(f'The copy of the original string has been changed to: {t}.')\n",
    "print(f'The copy of the original string has been changed to: {u}.')"
   ]
  },
  {
   "cell_type": "code",
   "execution_count": 2,
   "metadata": {},
   "outputs": [
    {
     "name": "stdout",
     "output_type": "stream",
     "text": [
      "The copy of the original string has been changed to: Kambo.\n"
     ]
    }
   ],
   "source": [
    "# using replacement method\n",
    "\n",
    "s = 'jambo'\n",
    "#s.replace(0, 'K') # TypeError: replace() argument 1 must be str, not int\n",
    "\n",
    "t = s.replace('j', 'K')\n",
    "print(f'The copy of the original string has been changed to: {t}.')"
   ]
  },
  {
   "cell_type": "code",
   "execution_count": 3,
   "metadata": {},
   "outputs": [
    {
     "name": "stdout",
     "output_type": "stream",
     "text": [
      "It looks like John has been changed to: Kohn.\n"
     ]
    }
   ],
   "source": [
    "# modifiying the string value of a tuple\n",
    "t = ('John',)\n",
    "x = t[0].replace('J','K')\n",
    "print(f'It looks like John has been changed to: {x}.')"
   ]
  },
  {
   "cell_type": "code",
   "execution_count": 11,
   "metadata": {},
   "outputs": [
    {
     "name": "stdout",
     "output_type": "stream",
     "text": [
      "It looks like the lname has been changed to: ('Richard', 'Mchau', 42).\n"
     ]
    }
   ],
   "source": [
    "# modifying a letter at a particular index\n",
    "t = ('Richard', 'McHau', 42)\n",
    "t = ('Richard', t[1].replace('H','h'), 42)\n",
    "print(f'It looks like the lname has been changed to: {t}.')"
   ]
  },
  {
   "cell_type": "code",
   "execution_count": null,
   "metadata": {},
   "outputs": [],
   "source": []
  }
 ],
 "metadata": {
  "kernelspec": {
   "display_name": "Python 3",
   "language": "python",
   "name": "python3"
  },
  "language_info": {
   "codemirror_mode": {
    "name": "ipython",
    "version": 3
   },
   "file_extension": ".py",
   "mimetype": "text/x-python",
   "name": "python",
   "nbconvert_exporter": "python",
   "pygments_lexer": "ipython3",
   "version": "3.7.6"
  }
 },
 "nbformat": 4,
 "nbformat_minor": 4
}
