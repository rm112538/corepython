{
 "cells": [
  {
   "cell_type": "code",
   "execution_count": 1,
   "metadata": {},
   "outputs": [],
   "source": [
    "s = 'foobar'"
   ]
  },
  {
   "cell_type": "code",
   "execution_count": 2,
   "metadata": {},
   "outputs": [
    {
     "name": "stdout",
     "output_type": "stream",
     "text": [
      "foo\n",
      "bar\n",
      "foo\\bar\n",
      "foo\\nbar\n",
      "foo\\\\bar\n"
     ]
    }
   ],
   "source": [
    "print('foo\\nbar')\n",
    "print('foo\\\\bar')\n",
    "print(r'foo\\nbar')\n",
    "print(R'foo\\\\bar')"
   ]
  },
  {
   "cell_type": "code",
   "execution_count": 3,
   "metadata": {},
   "outputs": [
    {
     "data": {
      "text/plain": [
       "102"
      ]
     },
     "execution_count": 3,
     "metadata": {},
     "output_type": "execute_result"
    }
   ],
   "source": [
    "ord('f')"
   ]
  },
  {
   "cell_type": "code",
   "execution_count": 1,
   "metadata": {},
   "outputs": [],
   "source": [
    "#ord('foo')           # TypeError: ord() expected a character, but string of length 3 found"
   ]
  },
  {
   "cell_type": "code",
   "execution_count": 11,
   "metadata": {},
   "outputs": [
    {
     "name": "stdout",
     "output_type": "stream",
     "text": [
      "1234512345\n",
      "5241\n",
      "5241\n",
      "524\n",
      "524\n"
     ]
    }
   ],
   "source": [
    "n = 2\n",
    "s = '12345'* n\n",
    "print(s)\n",
    "print(s[::-3])       # Architecture      s[-10],s[-7],s[-4],s[-1]\n",
    "print(s[-1::-3])\n",
    "\n",
    "print(s[:0:-3])\n",
    "print(s[-1:0:-3])"
   ]
  },
  {
   "cell_type": "code",
   "execution_count": 4,
   "metadata": {},
   "outputs": [
    {
     "name": "stdout",
     "output_type": "stream",
     "text": [
      "This is the origial string = foobar.\n",
      "\n",
      "fr\n",
      "fr\n",
      "fr\n",
      "fr\n",
      "\n",
      "rf\n"
     ]
    }
   ],
   "source": [
    "# slicing a string\n",
    "s = 'foobar'                    # #s = '123456'\n",
    "\n",
    "print(f'This is the origial string = {s}.')\n",
    "print()\n",
    "print(s[::-1][::-5])\n",
    "print(s[::5])\n",
    "print(s[0] + s[-1])\n",
    "print(s[::-1][-1] + s[len(s)-1])\n",
    "print()\n",
    "print(s[::-5]) # notice how the result is different"
   ]
  },
  {
   "cell_type": "code",
   "execution_count": 2,
   "metadata": {},
   "outputs": [
    {
     "name": "stdout",
     "output_type": "stream",
     "text": [
      "1\n"
     ]
    }
   ],
   "source": [
    "print('$100 $200 $300'.count('$', 5, 10)) # count(<substring>[,<start>][,<end>])"
   ]
  },
  {
   "cell_type": "code",
   "execution_count": 59,
   "metadata": {},
   "outputs": [
    {
     "name": "stdout",
     "output_type": "stream",
     "text": [
      "2\n",
      "The string starts at 5 index location\n",
      "The highest index of $ is at 10th index location\n"
     ]
    }
   ],
   "source": [
    "s = '$100 $200 $300'\n",
    "sub = '$'\n",
    "print(s.count('$', 5)) \n",
    "print(f'The string starts at {s.find(sub,5)} index location') # spaces are counted as \n",
    "                                                              #index positions\n",
    "print(f'The highest index of {sub} is at {s.rfind(sub, 5, 20)}th index location')"
   ]
  },
  {
   "cell_type": "code",
   "execution_count": 51,
   "metadata": {},
   "outputs": [
    {
     "name": "stdout",
     "output_type": "stream",
     "text": [
      "Help on method_descriptor:\n",
      "\n",
      "rfind(...)\n",
      "    S.rfind(sub[, start[, end]]) -> int\n",
      "    \n",
      "    Return the highest index in S where substring sub is found,\n",
      "    such that sub is contained within S[start:end].  Optional\n",
      "    arguments start and end are interpreted as in slice notation.\n",
      "    \n",
      "    Return -1 on failure.\n",
      "\n"
     ]
    }
   ],
   "source": [
    "help(str.rfind)\n"
   ]
  },
  {
   "cell_type": "code",
   "execution_count": 7,
   "metadata": {},
   "outputs": [
    {
     "name": "stdout",
     "output_type": "stream",
     "text": [
      "foo-bar-baz\n",
      "foo-bar-baz\n",
      "foo-bar-baz\n",
      "foo-bar-baz\n",
      "----------\n",
      "foo bar baz\n",
      "foo---bar-baz\n"
     ]
    }
   ],
   "source": [
    "s = 'foo-bar-baz'\n",
    "print(s.upper().lower())\n",
    "print('-'.join(s.split('-')))\n",
    "print(s.strip('-'))\n",
    "print(''.join(s.partition('-')))\n",
    "\n",
    "print('----------')\n",
    "\n",
    "print(' '.join(s.split('-')))\n",
    "print('-'.join(s.partition('-')))"
   ]
  },
  {
   "cell_type": "code",
   "execution_count": 85,
   "metadata": {},
   "outputs": [
    {
     "name": "stdout",
     "output_type": "stream",
     "text": [
      "b'\\x00\\x00\\x00\\x00\\x00'\n",
      "b'\\x00\\x00\\x00\\x00\\x00'\n",
      "[0, 0, 0, 0, 0]\n",
      "0 0 0 0 0\n"
     ]
    }
   ],
   "source": [
    "print(bytes(5))\n",
    "print(bytes('\\x00\\x00\\x00\\x00\\x00', 'utf8'))\n",
    "\n",
    "print([0]*5)\n",
    "print(0,0,0,0,0) ## this is false"
   ]
  },
  {
   "cell_type": "code",
   "execution_count": 14,
   "metadata": {},
   "outputs": [
    {
     "name": "stdout",
     "output_type": "stream",
     "text": [
      "[1, 2, 3, 4, 5, 6, 7, 7, 8]\n"
     ]
    }
   ],
   "source": [
    "# insert the missing numbers between 2-to-7\n",
    "a = [1, 2, 7, 8]\n",
    "a[2:2] = [3,4,5,6,7]\n",
    "print(a)"
   ]
  },
  {
   "cell_type": "code",
   "execution_count": 11,
   "metadata": {},
   "outputs": [
    {
     "name": "stdout",
     "output_type": "stream",
     "text": [
      "Help on method_descriptor:\n",
      "\n",
      "replace(self, old, new, count=-1, /)\n",
      "    Return a copy with all occurrences of substring old replaced by new.\n",
      "    \n",
      "      count\n",
      "        Maximum number of occurrences to replace.\n",
      "        -1 (the default value) means replace all occurrences.\n",
      "    \n",
      "    If the optional argument count is given, only the first count occurrences are\n",
      "    replaced.\n",
      "\n"
     ]
    }
   ],
   "source": [
    "help(str.replace)"
   ]
  },
  {
   "cell_type": "code",
   "execution_count": null,
   "metadata": {},
   "outputs": [],
   "source": []
  }
 ],
 "metadata": {
  "kernelspec": {
   "display_name": "Python 3",
   "language": "python",
   "name": "python3"
  },
  "language_info": {
   "codemirror_mode": {
    "name": "ipython",
    "version": 3
   },
   "file_extension": ".py",
   "mimetype": "text/x-python",
   "name": "python",
   "nbconvert_exporter": "python",
   "pygments_lexer": "ipython3",
   "version": "3.7.6"
  }
 },
 "nbformat": 4,
 "nbformat_minor": 4
}
