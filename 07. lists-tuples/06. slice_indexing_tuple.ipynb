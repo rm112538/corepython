{
 "cells": [
  {
   "cell_type": "markdown",
   "metadata": {},
   "source": [
    "##### Working with tuples"
   ]
  },
  {
   "cell_type": "code",
   "execution_count": 1,
   "metadata": {},
   "outputs": [
    {
     "name": "stdout",
     "output_type": "stream",
     "text": [
      "The output of t[1] index is: egg\n"
     ]
    }
   ],
   "source": [
    "# tuples indexing\n",
    "t = ('spam','egg','bacon','tomato','lobster')\n",
    "print(f'The output of t[1] index is: {t[1]}')"
   ]
  },
  {
   "cell_type": "code",
   "execution_count": 2,
   "metadata": {},
   "outputs": [
    {
     "name": "stdout",
     "output_type": "stream",
     "text": [
      "The output of t[-1] index is: lobster\n"
     ]
    }
   ],
   "source": [
    "# tuples indexing\n",
    "t = ('spam','egg','bacon','tomato','lobster')\n",
    "print(f'The output of t[-1] index is: {t[-1]}')"
   ]
  },
  {
   "cell_type": "code",
   "execution_count": 3,
   "metadata": {},
   "outputs": [
    {
     "name": "stdout",
     "output_type": "stream",
     "text": [
      "The output of t[1:] index is: ('egg', 'bacon', 'tomato', 'lobster')\n"
     ]
    }
   ],
   "source": [
    "# tuples slicing\n",
    "t = ('spam','egg','bacon','tomato','lobster')\n",
    "print(f'The output of t[1:] index is: {t[1:]}') # notice the parenthesis in the output after applying the slice"
   ]
  },
  {
   "cell_type": "code",
   "execution_count": 4,
   "metadata": {},
   "outputs": [
    {
     "name": "stdout",
     "output_type": "stream",
     "text": [
      "The output of t[1:2] index is: ('egg',)\n"
     ]
    }
   ],
   "source": [
    "# tuples slicing\n",
    "t = ('spam','egg','bacon','tomato','lobster')\n",
    "print(f'The output of t[1:2] index is: {t[1:2]}') # notice the ',' after the string"
   ]
  },
  {
   "cell_type": "code",
   "execution_count": 5,
   "metadata": {},
   "outputs": [
    {
     "name": "stdout",
     "output_type": "stream",
     "text": [
      "The output of t[1:1] index is: ()\n"
     ]
    }
   ],
   "source": [
    "# tuples slicing\n",
    "t = ('spam','egg','bacon','tomato','lobster')\n",
    "print(f'The output of t[1:1] index is: {t[1:1]}') # notices that this action produced an empty tuple"
   ]
  },
  {
   "cell_type": "code",
   "execution_count": 6,
   "metadata": {
    "scrolled": true
   },
   "outputs": [
    {
     "name": "stdout",
     "output_type": "stream",
     "text": [
      "The output of t reversed is: ('lobster', 'tomato', 'bacon', 'egg', 'spam')\n"
     ]
    }
   ],
   "source": [
    "# using reverse operator\n",
    "t = ('spam','egg','bacon','tomato','lobster')\n",
    "print(f'The output of t reversed is: {t[::-1]}')"
   ]
  },
  {
   "cell_type": "code",
   "execution_count": 7,
   "metadata": {},
   "outputs": [],
   "source": [
    "# using reverse operator\n",
    "t = ('spam','egg','bacon','tomato','lobster')\n",
    "#u = t.reverse()                                     # AttributeError: 'tuple' object has no attribute 'reverse'\n",
    "#print(f'The output of t reversed is: {u}')"
   ]
  },
  {
   "cell_type": "markdown",
   "metadata": {},
   "source": [
    "##### available methods?"
   ]
  },
  {
   "cell_type": "code",
   "execution_count": 8,
   "metadata": {},
   "outputs": [
    {
     "data": {
      "text/plain": [
       "['__add__',\n",
       " '__class__',\n",
       " '__contains__',\n",
       " '__delattr__',\n",
       " '__dir__',\n",
       " '__doc__',\n",
       " '__eq__',\n",
       " '__format__',\n",
       " '__ge__',\n",
       " '__getattribute__',\n",
       " '__getitem__',\n",
       " '__getnewargs__',\n",
       " '__gt__',\n",
       " '__hash__',\n",
       " '__init__',\n",
       " '__init_subclass__',\n",
       " '__iter__',\n",
       " '__le__',\n",
       " '__len__',\n",
       " '__lt__',\n",
       " '__mul__',\n",
       " '__ne__',\n",
       " '__new__',\n",
       " '__reduce__',\n",
       " '__reduce_ex__',\n",
       " '__repr__',\n",
       " '__rmul__',\n",
       " '__setattr__',\n",
       " '__sizeof__',\n",
       " '__str__',\n",
       " '__subclasshook__',\n",
       " 'count',\n",
       " 'index']"
      ]
     },
     "execution_count": 8,
     "metadata": {},
     "output_type": "execute_result"
    }
   ],
   "source": [
    "dir(tuple)"
   ]
  },
  {
   "cell_type": "code",
   "execution_count": 9,
   "metadata": {},
   "outputs": [
    {
     "name": "stdout",
     "output_type": "stream",
     "text": [
      "The count \"egg\" is 2.\n"
     ]
    }
   ],
   "source": [
    "# tuple-count method\n",
    "t = ('spam','egg','bacon','tomato','lobster', 'egg')\n",
    "x = t.count('egg') \n",
    "print(f'The count \"egg\" is {x}.')"
   ]
  },
  {
   "cell_type": "code",
   "execution_count": 10,
   "metadata": {},
   "outputs": [
    {
     "name": "stdout",
     "output_type": "stream",
     "text": [
      "The first index of \"egg\" is found at index location 1.\n"
     ]
    }
   ],
   "source": [
    "# tuple-index method\n",
    "t = ('spam','egg','bacon','tomato','lobster', 'egg')\n",
    "y = t.index('egg')\n",
    "print(f'The first index of \"egg\" is found at index location {y}.')"
   ]
  },
  {
   "cell_type": "markdown",
   "metadata": {},
   "source": [
    "##### question"
   ]
  },
  {
   "cell_type": "code",
   "execution_count": 11,
   "metadata": {},
   "outputs": [
    {
     "name": "stdout",
     "output_type": "stream",
     "text": [
      "Following execution, the value of \"b\" is: (5,).\n"
     ]
    }
   ],
   "source": [
    "# consider the following assignment.\n",
    "a, b, c = (1, 2, 3, 4, 5, 6, 7, 8, 9)[1::3]\n",
    "\n",
    "#Following execution of this statement, what is the value of b:\n",
    "print(f'Following execution, the value of \"b\" is: {b,}.')"
   ]
  },
  {
   "cell_type": "code",
   "execution_count": null,
   "metadata": {},
   "outputs": [],
   "source": []
  }
 ],
 "metadata": {
  "kernelspec": {
   "display_name": "Python 3",
   "language": "python",
   "name": "python3"
  },
  "language_info": {
   "codemirror_mode": {
    "name": "ipython",
    "version": 3
   },
   "file_extension": ".py",
   "mimetype": "text/x-python",
   "name": "python",
   "nbconvert_exporter": "python",
   "pygments_lexer": "ipython3",
   "version": "3.7.6"
  }
 },
 "nbformat": 4,
 "nbformat_minor": 4
}
