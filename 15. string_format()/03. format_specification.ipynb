{
 "cells": [
  {
   "cell_type": "code",
   "execution_count": 1,
   "metadata": {},
   "outputs": [
    {
     "name": "stdout",
     "output_type": "stream",
     "text": [
      "1.25\n",
      "3.00\n",
      "3.44\n",
      "4.09\n",
      "4.10\n"
     ]
    }
   ],
   "source": [
    "# precision\n",
    "nums = [1.25, 3, 3.439, 4.09324, 4.1]\n",
    "for item in nums:\n",
    "    print('{:.2f}'.format(item))"
   ]
  },
  {
   "cell_type": "code",
   "execution_count": 6,
   "metadata": {
    "scrolled": true
   },
   "outputs": [
    {
     "name": "stdout",
     "output_type": "stream",
     "text": [
      "00000003\n",
      "00000300\n",
      "00004832\n",
      "00932448\n",
      "34890209\n"
     ]
    }
   ],
   "source": [
    "# padding with zero to the left\n",
    "nums = [3, 300, 4832, 932448, 34890209]\n",
    "for item in nums:\n",
    "    print('{:08}'.format(item))"
   ]
  },
  {
   "cell_type": "code",
   "execution_count": 8,
   "metadata": {},
   "outputs": [
    {
     "name": "stdout",
     "output_type": "stream",
     "text": [
      "~~~~~~~3\n",
      "~~~~~300\n",
      "~~~~4832\n",
      "~~932448\n",
      "34890209\n"
     ]
    }
   ],
   "source": [
    "# padding with ~ to the left\n",
    "nums = [3, 300, 4832, 932448, 34890209]\n",
    "for item in nums:\n",
    "    print('{:~>8}'.format(item))"
   ]
  },
  {
   "cell_type": "code",
   "execution_count": 9,
   "metadata": {},
   "outputs": [
    {
     "name": "stdout",
     "output_type": "stream",
     "text": [
      "3~~~~~~~\n",
      "300~~~~~\n",
      "4832~~~~\n",
      "932448~~\n",
      "34890209\n"
     ]
    }
   ],
   "source": [
    "# padding with zero to the right\n",
    "nums = [3, 300, 4832, 932448, 34890209]\n",
    "for item in nums:\n",
    "    print('{:~<8}'.format(item))"
   ]
  },
  {
   "cell_type": "code",
   "execution_count": 11,
   "metadata": {},
   "outputs": [
    {
     "name": "stdout",
     "output_type": "stream",
     "text": [
      "~~~3~~~~\n",
      "~~300~~~\n",
      "~~4832~~\n",
      "~932448~\n",
      "34890209\n"
     ]
    }
   ],
   "source": [
    "# padding with center justifier\n",
    "nums = [3, 300, 4832, 932448, 34890209]\n",
    "for item in nums:\n",
    "    print('{:~^8}'.format(item))"
   ]
  },
  {
   "cell_type": "code",
   "execution_count": 12,
   "metadata": {},
   "outputs": [
    {
     "name": "stdout",
     "output_type": "stream",
     "text": [
      "0xa\n"
     ]
    }
   ],
   "source": [
    "# print with different bases\n",
    "# hexadecimal\n",
    "print('{:#x}'.format(10))"
   ]
  },
  {
   "cell_type": "code",
   "execution_count": 13,
   "metadata": {},
   "outputs": [
    {
     "name": "stdout",
     "output_type": "stream",
     "text": [
      "0o12\n"
     ]
    }
   ],
   "source": [
    "# print with different bases\n",
    "# octal\n",
    "print('{:#o}'.format(10))"
   ]
  },
  {
   "cell_type": "code",
   "execution_count": 14,
   "metadata": {},
   "outputs": [
    {
     "name": "stdout",
     "output_type": "stream",
     "text": [
      "0o12\n"
     ]
    }
   ],
   "source": [
    "# print with different bases\n",
    "# octal\n",
    "print('{:#o}'.format(10))"
   ]
  },
  {
   "cell_type": "code",
   "execution_count": 15,
   "metadata": {},
   "outputs": [
    {
     "name": "stdout",
     "output_type": "stream",
     "text": [
      "0x000000000a\n"
     ]
    }
   ],
   "source": [
    "# print with different bases with a 12 character spaces\n",
    "# hexadecimal\n",
    "print('{:#012x}'.format(10))"
   ]
  },
  {
   "cell_type": "code",
   "execution_count": 16,
   "metadata": {},
   "outputs": [
    {
     "name": "stdout",
     "output_type": "stream",
     "text": [
      "0b0000001010\n"
     ]
    }
   ],
   "source": [
    "# print with different bases with 12 character spaces\n",
    "# binary\n",
    "print('{:#012b}'.format(10))"
   ]
  },
  {
   "cell_type": "code",
   "execution_count": 7,
   "metadata": {},
   "outputs": [
    {
     "ename": "AttributeError",
     "evalue": "'int' object has no attribute 'zfill'",
     "output_type": "error",
     "traceback": [
      "\u001b[1;31m---------------------------------------------------------------------------\u001b[0m",
      "\u001b[1;31mAttributeError\u001b[0m                            Traceback (most recent call last)",
      "\u001b[1;32m<ipython-input-7-6bd9c704df3a>\u001b[0m in \u001b[0;36m<module>\u001b[1;34m\u001b[0m\n\u001b[0;32m      2\u001b[0m \u001b[0mnums\u001b[0m \u001b[1;33m=\u001b[0m \u001b[1;33m[\u001b[0m\u001b[1;36m3\u001b[0m\u001b[1;33m,\u001b[0m \u001b[1;36m300\u001b[0m\u001b[1;33m,\u001b[0m \u001b[1;36m4832\u001b[0m\u001b[1;33m,\u001b[0m \u001b[1;36m932448\u001b[0m\u001b[1;33m,\u001b[0m \u001b[1;36m34890209\u001b[0m\u001b[1;33m]\u001b[0m\u001b[1;33m\u001b[0m\u001b[1;33m\u001b[0m\u001b[0m\n\u001b[0;32m      3\u001b[0m \u001b[1;32mfor\u001b[0m \u001b[0mitem\u001b[0m \u001b[1;32min\u001b[0m \u001b[0mnums\u001b[0m\u001b[1;33m:\u001b[0m\u001b[1;33m\u001b[0m\u001b[1;33m\u001b[0m\u001b[0m\n\u001b[1;32m----> 4\u001b[1;33m     \u001b[0moutput\u001b[0m \u001b[1;33m=\u001b[0m \u001b[0mstr\u001b[0m\u001b[1;33m(\u001b[0m\u001b[0mitem\u001b[0m\u001b[1;33m.\u001b[0m\u001b[0mzfill\u001b[0m\u001b[1;33m(\u001b[0m\u001b[1;36m8\u001b[0m\u001b[1;33m)\u001b[0m\u001b[1;33m)\u001b[0m\u001b[1;33m\u001b[0m\u001b[1;33m\u001b[0m\u001b[0m\n\u001b[0m\u001b[0;32m      5\u001b[0m     \u001b[0mprint\u001b[0m\u001b[1;33m(\u001b[0m\u001b[1;34mf'{output}'\u001b[0m\u001b[1;33m)\u001b[0m     \u001b[1;31m# zfill() a string method\u001b[0m\u001b[1;33m\u001b[0m\u001b[1;33m\u001b[0m\u001b[0m\n\u001b[0;32m      6\u001b[0m \u001b[1;33m\u001b[0m\u001b[0m\n",
      "\u001b[1;31mAttributeError\u001b[0m: 'int' object has no attribute 'zfill'"
     ]
    }
   ],
   "source": [
    "# padding with zero to the left\n",
    "nums = [3, 300, 4832, 932448, 34890209]\n",
    "for item in nums:\n",
    "    output = str(item.zfill(8))\n",
    "    print(f'{output}')     # zfill() a string method\n",
    "    "
   ]
  },
  {
   "cell_type": "code",
   "execution_count": null,
   "metadata": {},
   "outputs": [],
   "source": []
  }
 ],
 "metadata": {
  "kernelspec": {
   "display_name": "Python 3",
   "language": "python",
   "name": "python3"
  },
  "language_info": {
   "codemirror_mode": {
    "name": "ipython",
    "version": 3
   },
   "file_extension": ".py",
   "mimetype": "text/x-python",
   "name": "python",
   "nbconvert_exporter": "python",
   "pygments_lexer": "ipython3",
   "version": "3.7.6"
  }
 },
 "nbformat": 4,
 "nbformat_minor": 4
}
