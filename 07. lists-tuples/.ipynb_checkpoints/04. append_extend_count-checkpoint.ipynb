{
 "cells": [
  {
   "cell_type": "markdown",
   "metadata": {},
   "source": [
    "##### list.append()"
   ]
  },
  {
   "cell_type": "code",
   "execution_count": 1,
   "metadata": {},
   "outputs": [
    {
     "name": "stdout",
     "output_type": "stream",
     "text": [
      "Here is how append is handled:['car', 'truck', 'plane', 123]\n"
     ]
    }
   ],
   "source": [
    "# available methods: ['append','clear','copy','count','extend','index','insert','pop','remove','reverse','sort']\n",
    "\n",
    "a = ['car', 'truck', 'plane']  #\n",
    "a.append(123)\n",
    "print(f'Here is how append is handled:{a}')"
   ]
  },
  {
   "cell_type": "code",
   "execution_count": 2,
   "metadata": {},
   "outputs": [
    {
     "name": "stdout",
     "output_type": "stream",
     "text": [
      "Here is how append is handled:['car', 'truck', 'plane', [123]]\n"
     ]
    }
   ],
   "source": [
    "a = ['car', 'truck', 'plane']\n",
    "a.append([123])\n",
    "print(f'Here is how append is handled:{a}')"
   ]
  },
  {
   "cell_type": "markdown",
   "metadata": {},
   "source": [
    "##### list.extend()"
   ]
  },
  {
   "cell_type": "code",
   "execution_count": 3,
   "metadata": {},
   "outputs": [
    {
     "name": "stdout",
     "output_type": "stream",
     "text": [
      "This is how extend works: ['car', 'truck', 'plane', 'r', 'i', 'c', 'h']\n"
     ]
    }
   ],
   "source": [
    "a = ['car', 'truck', 'plane']\n",
    "a.extend('rich')\n",
    "print(f'This is how extend works: {a}')"
   ]
  },
  {
   "cell_type": "code",
   "execution_count": 4,
   "metadata": {},
   "outputs": [
    {
     "name": "stdout",
     "output_type": "stream",
     "text": [
      "This is how extend works: ['car', 'truck', 'plane', '1', '2', '3']\n"
     ]
    }
   ],
   "source": [
    "a = ['car', 'truck', 'plane']\n",
    "a.extend('123')\n",
    "print(f'This is how extend works: {a}')"
   ]
  },
  {
   "cell_type": "code",
   "execution_count": 5,
   "metadata": {},
   "outputs": [
    {
     "name": "stdout",
     "output_type": "stream",
     "text": [
      "This is how extend works on integer as a singleton list: ['car', 'truck', 'plane', 456]\n"
     ]
    }
   ],
   "source": [
    "a = ['car', 'truck', 'plane']\n",
    "a.extend([456])\n",
    "print(f'This is how extend works on integer as a singleton list: {a}')"
   ]
  },
  {
   "cell_type": "code",
   "execution_count": 6,
   "metadata": {},
   "outputs": [
    {
     "name": "stdout",
     "output_type": "stream",
     "text": [
      "This is how extend works: ['car', 'truck', 'plane', 4, 5, 6]\n"
     ]
    }
   ],
   "source": [
    "a = ['car', 'truck', 'plane']\n",
    "a.extend([4,5,6])\n",
    "print(f'This is how extend works: {a}')"
   ]
  },
  {
   "cell_type": "markdown",
   "metadata": {},
   "source": [
    "##### list.count()"
   ]
  },
  {
   "cell_type": "code",
   "execution_count": 7,
   "metadata": {},
   "outputs": [
    {
     "name": "stdout",
     "output_type": "stream",
     "text": [
      "Here is how count is handled: 1\n",
      "Here is how index is handled: 2\n"
     ]
    }
   ],
   "source": [
    "a = ['car', 'truck', 'plane', 'motorcycle', 'tank'] \n",
    "x = a.count('car')\n",
    "print(f'Here is how count is handled: {x}') # notice: we had to assign the count to a new variable\n",
    "\n",
    "y = a.index('plane')\n",
    "print(f'Here is how index is handled: {y}')"
   ]
  },
  {
   "cell_type": "code",
   "execution_count": null,
   "metadata": {},
   "outputs": [],
   "source": []
  },
  {
   "cell_type": "code",
   "execution_count": null,
   "metadata": {},
   "outputs": [],
   "source": []
  },
  {
   "cell_type": "markdown",
   "metadata": {},
   "source": [
    "##### methods with return"
   ]
  },
  {
   "cell_type": "code",
   "execution_count": 8,
   "metadata": {},
   "outputs": [
    {
     "name": "stdout",
     "output_type": "stream",
     "text": [
      "The method pop() returns: plane\n"
     ]
    }
   ],
   "source": [
    "a = ['car', 'truck', 'plane']\n",
    "\n",
    "# returns somethins\n",
    "print(f'The method pop() returns: {a.pop()}')"
   ]
  },
  {
   "cell_type": "code",
   "execution_count": 9,
   "metadata": {},
   "outputs": [
    {
     "name": "stdout",
     "output_type": "stream",
     "text": [
      "The method pop(-3) returns: car\n"
     ]
    }
   ],
   "source": [
    "# pop() method\n",
    "a = ['car', 'truck', 'plane']\n",
    "print(f'The method pop(-3) returns: {a.pop(-3)}')"
   ]
  },
  {
   "cell_type": "code",
   "execution_count": 10,
   "metadata": {},
   "outputs": [],
   "source": [
    "# extend an integer\n",
    "#a.extend(123)                                          # TypeError: 'int' object is not iterable\n",
    "#print(f'This is how extend works on integers: {a}') \n"
   ]
  }
 ],
 "metadata": {
  "kernelspec": {
   "display_name": "Python 3",
   "language": "python",
   "name": "python3"
  },
  "language_info": {
   "codemirror_mode": {
    "name": "ipython",
    "version": 3
   },
   "file_extension": ".py",
   "mimetype": "text/x-python",
   "name": "python",
   "nbconvert_exporter": "python",
   "pygments_lexer": "ipython3",
   "version": "3.7.6"
  }
 },
 "nbformat": 4,
 "nbformat_minor": 4
}
