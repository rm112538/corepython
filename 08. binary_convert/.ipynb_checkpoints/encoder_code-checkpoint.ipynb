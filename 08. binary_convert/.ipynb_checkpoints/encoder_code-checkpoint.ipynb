{
 "cells": [
  {
   "cell_type": "code",
   "execution_count": 1,
   "metadata": {},
   "outputs": [
    {
     "name": "stdout",
     "output_type": "stream",
     "text": [
      "oct\n",
      "b64\n",
      "hex\n",
      "bin\n",
      "3392\n"
     ]
    }
   ],
   "source": [
    "\"\"\"\n",
    "Challenge creator for A Basic Challenge\n",
    "\"\"\"\n",
    "\n",
    "from base64 import b64encode\n",
    "\n",
    "\n",
    "def str_to_bin(s: str) -> str:\n",
    "    print(\"bin\")\n",
    "    return \" \".join([bin(ord(c))[2:] for c in s])\n",
    "\n",
    "\n",
    "def str_to_oct(s: str) -> str:\n",
    "    print(\"oct\")\n",
    "    return \" \".join([oct(ord(c))[2:] for c in s])\n",
    "\n",
    "\n",
    "def str_to_hex(s: str) -> str:\n",
    "    print(\"hex\")\n",
    "    return \" \".join([hex(ord(c))[2:] for c in s])\n",
    "\n",
    "\n",
    "def str_to_b64(s: str) -> str:\n",
    "    print(\"b64\")\n",
    "    return b64encode(s.encode()).decode()\n",
    "\n",
    "\n",
    "operations = [str_to_oct, str_to_b64, str_to_hex, str_to_bin]\n",
    "\n",
    "flag = \"rgbCTF{c0ngr4ts_0n_b3ing_B4SIC}\"\n",
    "for op in operations:\n",
    "    flag = op(flag)\n",
    "\n",
    "# flag = str_to_b64(flag)\n",
    "with open(\"basic_chall.txt\", 'w') as out:\n",
    "    print(len(flag))\n",
    "    out.write(flag)"
   ]
  },
  {
   "cell_type": "code",
   "execution_count": null,
   "metadata": {},
   "outputs": [],
   "source": []
  }
 ],
 "metadata": {
  "kernelspec": {
   "display_name": "Python 3",
   "language": "python",
   "name": "python3"
  },
  "language_info": {
   "codemirror_mode": {
    "name": "ipython",
    "version": 3
   },
   "file_extension": ".py",
   "mimetype": "text/x-python",
   "name": "python",
   "nbconvert_exporter": "python",
   "pygments_lexer": "ipython3",
   "version": "3.7.6"
  }
 },
 "nbformat": 4,
 "nbformat_minor": 4
}
