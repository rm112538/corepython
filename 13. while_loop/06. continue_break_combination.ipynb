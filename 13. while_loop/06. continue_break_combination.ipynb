{
 "cells": [
  {
   "cell_type": "code",
   "execution_count": 7,
   "metadata": {},
   "outputs": [],
   "source": [
    "# Assume a non-empty list a. Write a one-line while loop that uses the list.pop() method \n",
    "# to remove all the values from a.\n",
    "a = ['a', 'b', 'c', 'd', 1, 4]\n",
    "while a: a.pop()\n",
    "#print(a)"
   ]
  },
  {
   "cell_type": "code",
   "execution_count": 10,
   "metadata": {},
   "outputs": [
    {
     "name": "stdout",
     "output_type": "stream",
     "text": [
      "3foo3bar1foo1bar\n"
     ]
    }
   ],
   "source": [
    "#After execution of the following code, what is the value of s?\n",
    "\n",
    "s = \"\"\n",
    "n = 5\n",
    "while n > 0:\n",
    "    n -= 1\n",
    "    if (n % 2) == 0:\n",
    "        continue\n",
    "\n",
    "    a = ['foo', 'bar', 'baz']\n",
    "    while a:\n",
    "        s += str(n) + a.pop(0)\n",
    "        if len(a) < 2:\n",
    "            break\n",
    "print(s)"
   ]
  },
  {
   "cell_type": "code",
   "execution_count": null,
   "metadata": {},
   "outputs": [],
   "source": []
  }
 ],
 "metadata": {
  "kernelspec": {
   "display_name": "Python 3",
   "language": "python",
   "name": "python3"
  },
  "language_info": {
   "codemirror_mode": {
    "name": "ipython",
    "version": 3
   },
   "file_extension": ".py",
   "mimetype": "text/x-python",
   "name": "python",
   "nbconvert_exporter": "python",
   "pygments_lexer": "ipython3",
   "version": "3.7.6"
  }
 },
 "nbformat": 4,
 "nbformat_minor": 4
}
