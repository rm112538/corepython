{
 "cells": [
  {
   "cell_type": "markdown",
   "metadata": {},
   "source": [
    "##### update"
   ]
  },
  {
   "cell_type": "code",
   "execution_count": 6,
   "metadata": {},
   "outputs": [
    {
     "name": "stdout",
     "output_type": "stream",
     "text": [
      "What did update return? {'foo', 'corge', 'bar', 'baz', 'garply'}.\n"
     ]
    }
   ],
   "source": [
    "# adds the element that doesn't exist already\n",
    "x1 = {'foo', 'bar','baz'}\n",
    "\n",
    "x1.update(['corge', 'garply'])                 # update using a list\n",
    "print(f'What did update return? {x1}.') "
   ]
  },
  {
   "cell_type": "code",
   "execution_count": 9,
   "metadata": {},
   "outputs": [
    {
     "name": "stdout",
     "output_type": "stream",
     "text": [
      "What did update return? {'foo', 'bar', 'corge', 'baz', 'garply'}.\n"
     ]
    }
   ],
   "source": [
    "# using an augment assignment\n",
    "x1 = {'foo', 'bar','baz'}\n",
    "x2 = {'corge', 'garply'}\n",
    "\n",
    "x1 |= x2                                 # update using a set\n",
    "print(f'What did update return? {x1}.')  # note: nothing happened to the original set"
   ]
  },
  {
   "cell_type": "code",
   "execution_count": 15,
   "metadata": {},
   "outputs": [
    {
     "name": "stdout",
     "output_type": "stream",
     "text": [
      "What did update return? {'foo', 'bar', 'me', 'you', 'baz'}.\n"
     ]
    }
   ],
   "source": [
    "# adds the element that doesn't exist already\n",
    "x1 = {'foo', 'bar','baz'}\n",
    "\n",
    "x1.update({'me': 1, 'you': 2})           # dictionary :non-hashable but iterable\n",
    "print(f'What did update return? {x1}.') "
   ]
  },
  {
   "cell_type": "code",
   "execution_count": 18,
   "metadata": {},
   "outputs": [
    {
     "name": "stdout",
     "output_type": "stream",
     "text": [
      "What did update return? {'baz', 'foo', 'bar', 'qux'}.\n"
     ]
    }
   ],
   "source": [
    "# adding the element that doesn't exist already\n",
    "x1 = {'foo', 'bar','baz'}\n",
    "\n",
    "x1.update({'qux'})                         # updating using a single item set\n",
    "print(f'What did update return? {x1}.') "
   ]
  },
  {
   "cell_type": "code",
   "execution_count": 16,
   "metadata": {},
   "outputs": [
    {
     "name": "stdout",
     "output_type": "stream",
     "text": [
      "What did update return? {'foo', 'x', 'u', 'bar', 'q', 'baz'}.\n"
     ]
    }
   ],
   "source": [
    "# adding the element that doesn't exist already\n",
    "x1 = {'foo', 'bar','baz'}\n",
    "\n",
    "x1.update('qux')                           # using string: not what we were looking for\n",
    "print(f'What did update return? {x1}.') "
   ]
  },
  {
   "cell_type": "code",
   "execution_count": 17,
   "metadata": {},
   "outputs": [],
   "source": [
    "# adding the element that doesn't exist already\n",
    "x1 = {'foo', 'bar','baz'}\n",
    "\n",
    "#x1.update(100)                          # TypeError: 'int' object is not iterable\n",
    "#print(f'What did update return? {x1}.') "
   ]
  },
  {
   "cell_type": "code",
   "execution_count": null,
   "metadata": {},
   "outputs": [],
   "source": []
  },
  {
   "cell_type": "code",
   "execution_count": null,
   "metadata": {},
   "outputs": [],
   "source": []
  }
 ],
 "metadata": {
  "kernelspec": {
   "display_name": "Python 3",
   "language": "python",
   "name": "python3"
  },
  "language_info": {
   "codemirror_mode": {
    "name": "ipython",
    "version": 3
   },
   "file_extension": ".py",
   "mimetype": "text/x-python",
   "name": "python",
   "nbconvert_exporter": "python",
   "pygments_lexer": "ipython3",
   "version": "3.7.6"
  }
 },
 "nbformat": 4,
 "nbformat_minor": 4
}
