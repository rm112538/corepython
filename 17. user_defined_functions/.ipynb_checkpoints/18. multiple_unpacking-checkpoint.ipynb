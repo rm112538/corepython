{
 "cells": [
  {
   "cell_type": "markdown",
   "metadata": {},
   "source": [
    "##### Multiple Unpackings in a Python Function Call\n",
    "\n",
    "Python version 3.5 introduced support for additional unpacking generalizations, as outlined in PEP 448. \n",
    "One thing these enhancements allow is multiple unpackings in a single Python function call:\n"
   ]
  },
  {
   "cell_type": "code",
   "execution_count": 1,
   "metadata": {},
   "outputs": [
    {
     "name": "stdout",
     "output_type": "stream",
     "text": [
      "2\n",
      "3\n",
      "4\n",
      "5\n",
      "9\n",
      "mango\n",
      "papaya\n",
      "guava\n",
      "pomegranate\n",
      "0.49\n",
      "1.59\n",
      "2.24\n",
      "0.99\n",
      "motocycle\n",
      "bicycle\n",
      "car\n",
      "truck\n"
     ]
    }
   ],
   "source": [
    "# https://realpython.com/defining-your-own-python-function/\n",
    "\n",
    "def f(*args):\n",
    "    for i in args:\n",
    "        print(i)\n",
    "\n",
    "r = [2, 3, 4, 5, 9]\n",
    "s = ('mango', 'papaya', 'guava', 'pomegranate', 0.49, 1.59, 2.24, 0.99)\n",
    "t = {'car', 'bicycle', 'motocycle', 'truck'}\n",
    "\n",
    "f(*r, *s, *t)              "
   ]
  },
  {
   "cell_type": "code",
   "execution_count": 2,
   "metadata": {},
   "outputs": [
    {
     "name": "stdout",
     "output_type": "stream",
     "text": [
      "2\n",
      "3\n",
      "4\n",
      "5\n",
      "9\n",
      "motocycle\n",
      "bicycle\n",
      "car\n",
      "truck\n"
     ]
    }
   ],
   "source": [
    "# unpacking literals\n",
    "\n",
    "def f(*args):\n",
    "    for i in args:\n",
    "        print(i, sep=',') # sep doesn't work, end works but not the way I would like\n",
    "        \n",
    "f(*[2, 3, 4, 5, 9], *{'car', 'bicycle', 'motocycle', 'truck'})  "
   ]
  },
  {
   "cell_type": "code",
   "execution_count": 5,
   "metadata": {},
   "outputs": [
    {
     "name": "stdout",
     "output_type": "stream",
     "text": [
      "a --> boat\n",
      "b --> car\n",
      "c --> airplane\n",
      "d --> ship\n",
      "e --> bicycle\n",
      "f --> buggy\n"
     ]
    }
   ],
   "source": [
    "# unpacking a dictionary\n",
    "# literal dictionary approach\n",
    "# the key of the dictionary must be a string for unpacking to work!!!!!!\n",
    "\n",
    "def f(**kwargs):\n",
    "    for k, v in kwargs.items():\n",
    "        print(f'{k} --> {v}')\n",
    "\n",
    "f(**{'a': 'boat', 'b': 'car', 'c': 'airplane'}, **{'d': 'ship', 'e': 'bicycle', 'f': 'buggy'})"
   ]
  },
  {
   "cell_type": "code",
   "execution_count": 3,
   "metadata": {},
   "outputs": [],
   "source": [
    "# unpacking a dictionary\n",
    "\n",
    "def f(**kwargs):\n",
    "    for k, v in kwargs.items():\n",
    "        print(f'{k} --> {v}')\n",
    "        \n",
    "d = {0:'boat', 'car': 'chevy', frozenset({1, 3, 4}): \n",
    "     'strange_set', (1, 4, 9): 'tuple', (1,): 144,\n",
    "    2: ['boat', 0.314, 125]}\n",
    "\n",
    "\n",
    "#f(**d)                                              # TypeError: f() keywords must be strings\n"
   ]
  },
  {
   "cell_type": "markdown",
   "metadata": {},
   "source": [
    "##### packing and unpacking dictionaries"
   ]
  },
  {
   "cell_type": "code",
   "execution_count": 4,
   "metadata": {},
   "outputs": [
    {
     "name": "stdout",
     "output_type": "stream",
     "text": [
      "packing output\n",
      "abc --> [1, 2, 3]\n",
      "deg --> 10\n",
      "\n",
      "packing / unpacking output\n",
      "abc --> [1, 2, 3]\n",
      "deg --> 10\n"
     ]
    }
   ],
   "source": [
    "# unpacking a dictionary\n",
    "\n",
    "def f(**kwargs):\n",
    "    for k, v in kwargs.items():\n",
    "        print(f'{k} --> {v}')\n",
    "\n",
    "print(f'packing output')        \n",
    "f(abc= [1, 2, 3], deg = 10) # packing\n",
    "\n",
    "print()\n",
    "\n",
    "print(f'packing / unpacking output')\n",
    "d = {'abc' : [1, 2, 3], 'deg' : 10}\n",
    "f(**d)                              # unpacking already created dictionary\n"
   ]
  },
  {
   "cell_type": "code",
   "execution_count": 5,
   "metadata": {},
   "outputs": [
    {
     "ename": "TypeError",
     "evalue": "f() takes 0 positional arguments but 17 were given",
     "output_type": "error",
     "traceback": [
      "\u001b[1;31m---------------------------------------------------------------------------\u001b[0m",
      "\u001b[1;31mTypeError\u001b[0m                                 Traceback (most recent call last)",
      "\u001b[1;32m<ipython-input-5-d1b86b301f1d>\u001b[0m in \u001b[0;36m<module>\u001b[1;34m\u001b[0m\n\u001b[0;32m      1\u001b[0m \u001b[1;31m# how could I format this dump?\u001b[0m\u001b[1;33m\u001b[0m\u001b[1;33m\u001b[0m\u001b[1;33m\u001b[0m\u001b[0m\n\u001b[0;32m      2\u001b[0m \u001b[1;33m\u001b[0m\u001b[0m\n\u001b[1;32m----> 3\u001b[1;33m \u001b[0mc\u001b[0m \u001b[1;33m=\u001b[0m \u001b[0mlist\u001b[0m\u001b[1;33m(\u001b[0m\u001b[0mf\u001b[0m\u001b[1;33m(\u001b[0m\u001b[1;33m*\u001b[0m\u001b[0mr\u001b[0m\u001b[1;33m,\u001b[0m \u001b[1;33m*\u001b[0m\u001b[0ms\u001b[0m\u001b[1;33m,\u001b[0m \u001b[1;33m*\u001b[0m\u001b[0mt\u001b[0m\u001b[1;33m)\u001b[0m\u001b[1;33m)\u001b[0m\u001b[1;33m\u001b[0m\u001b[1;33m\u001b[0m\u001b[0m\n\u001b[0m\u001b[0;32m      4\u001b[0m \u001b[1;32mfor\u001b[0m \u001b[0mraw\u001b[0m \u001b[1;32min\u001b[0m \u001b[0mc\u001b[0m\u001b[1;33m:\u001b[0m\u001b[1;33m\u001b[0m\u001b[1;33m\u001b[0m\u001b[0m\n\u001b[0;32m      5\u001b[0m     \u001b[0mprint\u001b[0m\u001b[1;33m(\u001b[0m\u001b[1;33m*\u001b[0m\u001b[0mraw\u001b[0m\u001b[1;33m,\u001b[0m \u001b[0msep\u001b[0m\u001b[1;33m=\u001b[0m\u001b[1;34m','\u001b[0m\u001b[1;33m)\u001b[0m  \u001b[1;31m# oh man!\u001b[0m\u001b[1;33m\u001b[0m\u001b[1;33m\u001b[0m\u001b[0m\n",
      "\u001b[1;31mTypeError\u001b[0m: f() takes 0 positional arguments but 17 were given"
     ]
    }
   ],
   "source": [
    "# how could I format this dump?\n",
    "\n",
    "c = list(f(*r, *s, *t))\n",
    "for raw in c:\n",
    "    print(*raw, sep=',')  # oh man!"
   ]
  }
 ],
 "metadata": {
  "kernelspec": {
   "display_name": "Python 3",
   "language": "python",
   "name": "python3"
  },
  "language_info": {
   "codemirror_mode": {
    "name": "ipython",
    "version": 3
   },
   "file_extension": ".py",
   "mimetype": "text/x-python",
   "name": "python",
   "nbconvert_exporter": "python",
   "pygments_lexer": "ipython3",
   "version": "3.7.6"
  }
 },
 "nbformat": 4,
 "nbformat_minor": 4
}
