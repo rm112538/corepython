{
 "cells": [
  {
   "cell_type": "markdown",
   "metadata": {},
   "source": [
    "##### intersection_update"
   ]
  },
  {
   "cell_type": "code",
   "execution_count": 9,
   "metadata": {},
   "outputs": [
    {
     "name": "stdout",
     "output_type": "stream",
     "text": [
      "Given a list, return what exists in x1 set and the list then update x1 set: {'baz'}.\n",
      "Here is a new x1 set: {'baz'}.\n"
     ]
    }
   ],
   "source": [
    "# using a method\n",
    "x1 = {'foo', 'bar', 'baz'}\n",
    "\n",
    "x1.intersection_update(['baz', 'qux'])    # list updating a set\n",
    "print(f'Given a list, return what exists in the set and the list then update x1 set: {x1}.')\n",
    "print(f'Here is a new x1 set: {x1}.')"
   ]
  },
  {
   "cell_type": "code",
   "execution_count": 10,
   "metadata": {},
   "outputs": [
    {
     "name": "stdout",
     "output_type": "stream",
     "text": [
      "Given two set, x1, x2; return what exists in both sets then update x1 set: {'foo', 'baz'}.\n",
      "Here is a new x1 set: {'foo', 'baz'}.\n"
     ]
    }
   ],
   "source": [
    "# using assignment operator\n",
    "x1 = {'foo', 'bar', 'baz'}\n",
    "x2 = {'foo', 'baz', 'qux'}\n",
    "\n",
    "x1 &= x2                                  # set updating a set\n",
    "print(f'Given two set; x1 and x2, return what exists in both sets then update x1 set: {x1}.')\n",
    "print(f'Here is a new x1 set: {x1}.')"
   ]
  },
  {
   "cell_type": "code",
   "execution_count": null,
   "metadata": {},
   "outputs": [],
   "source": []
  }
 ],
 "metadata": {
  "kernelspec": {
   "display_name": "Python 3",
   "language": "python",
   "name": "python3"
  },
  "language_info": {
   "codemirror_mode": {
    "name": "ipython",
    "version": 3
   },
   "file_extension": ".py",
   "mimetype": "text/x-python",
   "name": "python",
   "nbconvert_exporter": "python",
   "pygments_lexer": "ipython3",
   "version": "3.7.6"
  }
 },
 "nbformat": 4,
 "nbformat_minor": 4
}
