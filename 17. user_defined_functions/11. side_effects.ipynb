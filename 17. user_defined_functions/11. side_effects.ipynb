{
 "cells": [
  {
   "cell_type": "markdown",
   "metadata": {},
   "source": [
    "###### Revisiting Side Effects\n",
    "\n",
    "\n",
    "Suppose you want to write a function that takes an integer argument and doubles it. \n",
    "That is, you want to pass an integer variable to the function, and when the function returns, \n",
    "the value of the variable in the calling environment should be twice what it was. "
   ]
  },
  {
   "cell_type": "code",
   "execution_count": 1,
   "metadata": {},
   "outputs": [
    {
     "name": "stdout",
     "output_type": "stream",
     "text": [
      "2\n"
     ]
    }
   ],
   "source": [
    "# won't work with python\n",
    "def f(x):\n",
    "    x *= 2\n",
    "\n",
    "x = 2\n",
    "f(x)\n",
    "print(f'{x}')     # Python integers are immutable, so a Python function can’t change an integer argument by side effect"
   ]
  },
  {
   "cell_type": "code",
   "execution_count": 2,
   "metadata": {},
   "outputs": [
    {
     "name": "stdout",
     "output_type": "stream",
     "text": [
      "8\n"
     ]
    }
   ],
   "source": [
    "# doubling the supplied argument\n",
    "\n",
    "def f(x):\n",
    "    return x * 2\n",
    "\n",
    "x = 4\n",
    "x = f(x)\n",
    "print(f'{x}')   # the caller takes an integer argument, doubles it, and returns the doubled value"
   ]
  },
  {
   "cell_type": "code",
   "execution_count": 3,
   "metadata": {},
   "outputs": [
    {
     "name": "stdout",
     "output_type": "stream",
     "text": [
      "[2, 4, 6, 8, 10]\n"
     ]
    }
   ],
   "source": [
    "# uppose you want to double every item in a list. \n",
    "# Because lists are mutable, you could define a Python function that modifies the list in place\n",
    "\n",
    "def double_list(x):\n",
    "    i = 0\n",
    "    while i < len(x):\n",
    "        x[i] *= 2\n",
    "        i += 1\n",
    "        \n",
    "a = [1, 2, 3, 4, 5]\n",
    "double_list(a)\n",
    "print(f'{a}')"
   ]
  },
  {
   "cell_type": "code",
   "execution_count": 4,
   "metadata": {},
   "outputs": [
    {
     "name": "stdout",
     "output_type": "stream",
     "text": [
      "[2, 4, 6, 8, 10]\n"
     ]
    }
   ],
   "source": [
    "# double_list() pass the desired list back by return value and allow the caller to make the assignment\n",
    "\n",
    "def double_list(x):\n",
    "    r = []\n",
    "    for i in x:\n",
    "        r.append(i * 2)\n",
    "    return r\n",
    "\n",
    "a = [1, 2, 3, 4, 5]\n",
    "new_a = double_list(a)\n",
    "print(f'{new_a}')        "
   ]
  },
  {
   "cell_type": "code",
   "execution_count": null,
   "metadata": {},
   "outputs": [],
   "source": []
  }
 ],
 "metadata": {
  "kernelspec": {
   "display_name": "Python 3",
   "language": "python",
   "name": "python3"
  },
  "language_info": {
   "codemirror_mode": {
    "name": "ipython",
    "version": 3
   },
   "file_extension": ".py",
   "mimetype": "text/x-python",
   "name": "python",
   "nbconvert_exporter": "python",
   "pygments_lexer": "ipython3",
   "version": "3.7.6"
  }
 },
 "nbformat": 4,
 "nbformat_minor": 4
}
