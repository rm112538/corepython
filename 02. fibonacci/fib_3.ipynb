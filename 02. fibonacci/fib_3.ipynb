{
 "cells": [
  {
   "cell_type": "code",
   "execution_count": 8,
   "metadata": {},
   "outputs": [
    {
     "data": {
      "text/plain": [
       "[1, 1, 2, 3, 5, 8, 13, 21, 34, 55]"
      ]
     },
     "execution_count": 8,
     "metadata": {},
     "output_type": "execute_result"
    }
   ],
   "source": [
    "# The better way to produce a sequncer \n",
    "def simple_recurrent_sequence(n, first, second, combine_fun):\n",
    "    sequence = []\n",
    "    current, next = first, second\n",
    "    for _ in range(n):        \n",
    "        current, next = next, combine_fun(current, next)\n",
    "        sequence.append(current)\n",
    "    return sequence\n",
    "def fibonacci(n):    \n",
    "    return simple_recurrent_sequence(n, 0, 1, lambda x, y: x + y)\n",
    " #return simple_recurrent_sequence(n, 0, 5, lambda x, y: x + y) # start the sequence from 5\n",
    "    \n",
    "fibonacci(10)"
   ]
  },
  {
   "cell_type": "code",
   "execution_count": null,
   "metadata": {},
   "outputs": [],
   "source": []
  },
  {
   "cell_type": "code",
   "execution_count": 9,
   "metadata": {},
   "outputs": [
    {
     "data": {
      "text/plain": [
       "55"
      ]
     },
     "execution_count": 9,
     "metadata": {},
     "output_type": "execute_result"
    }
   ],
   "source": [
    "# Extracting the value of the nth number in the fibonacci series\n",
    "def fib():\n",
    "    first = 0\n",
    "    second = 1\n",
    "    \n",
    "    while True:\n",
    "        yield first  # yield denotes that the fib() is a generator function. The function goes to sleep instead of return\n",
    "        first, second = second, first+second\n",
    "        \n",
    "def fibn(n):\n",
    "    for index, one_number in enumerate(fib()):\n",
    "        if index == n:\n",
    "            return one_number\n",
    "fibn(10)"
   ]
  },
  {
   "cell_type": "code",
   "execution_count": null,
   "metadata": {},
   "outputs": [],
   "source": []
  },
  {
   "cell_type": "code",
   "execution_count": null,
   "metadata": {},
   "outputs": [],
   "source": []
  }
 ],
 "metadata": {
  "kernelspec": {
   "display_name": "Python 3",
   "language": "python",
   "name": "python3"
  },
  "language_info": {
   "codemirror_mode": {
    "name": "ipython",
    "version": 3
   },
   "file_extension": ".py",
   "mimetype": "text/x-python",
   "name": "python",
   "nbconvert_exporter": "python",
   "pygments_lexer": "ipython3",
   "version": "3.7.6"
  }
 },
 "nbformat": 4,
 "nbformat_minor": 4
}
