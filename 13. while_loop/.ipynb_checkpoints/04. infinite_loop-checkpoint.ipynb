{
 "cells": [
  {
   "cell_type": "code",
   "execution_count": 1,
   "metadata": {},
   "outputs": [],
   "source": [
    "# there isn't a time when the n != 5\n",
    "n = 5\n",
    "#while n > 0:\n",
    "    #print(n)"
   ]
  },
  {
   "cell_type": "code",
   "execution_count": 19,
   "metadata": {},
   "outputs": [
    {
     "name": "stdout",
     "output_type": "stream",
     "text": [
      "5 4 3 "
     ]
    }
   ],
   "source": [
    "# breaking out of infinite loop\n",
    "n = 5\n",
    "while n > 0:\n",
    "    if n == 2:\n",
    "        break\n",
    "    print(n, end= ' ')\n",
    "    n = n - 1\n",
    "    "
   ]
  },
  {
   "cell_type": "code",
   "execution_count": 2,
   "metadata": {},
   "outputs": [],
   "source": [
    "# boolean\n",
    "#while True:\n",
    "    #print('Hello')"
   ]
  },
  {
   "cell_type": "code",
   "execution_count": 3,
   "metadata": {},
   "outputs": [
    {
     "name": "stdout",
     "output_type": "stream",
     "text": [
      "Hello\n",
      "Hello\n",
      "Hello\n",
      "Hello\n",
      "Hello\n"
     ]
    }
   ],
   "source": [
    "# boolean\n",
    "n = 0\n",
    "while True:\n",
    "    if n == 5:\n",
    "        break\n",
    "    print('Hello')\n",
    "    n += 1"
   ]
  },
  {
   "cell_type": "code",
   "execution_count": null,
   "metadata": {},
   "outputs": [],
   "source": [
    "#This code is identical to the code in the previous question except that the break statement \n",
    "#is replaced by a continue statement:\n",
    "\n",
    "a = ['foo', 'bar', 'baz', 'qux', 'corge']\n",
    "while a:\n",
    "    if len(a) < 3:\n",
    "        continue        # the loop never terminates\n",
    "    print(a.pop())\n",
    "print('Done.')"
   ]
  },
  {
   "cell_type": "code",
   "execution_count": null,
   "metadata": {},
   "outputs": [],
   "source": [
    "def main():\n",
    "    hours,rate=get_user_input()\n",
    "    regularhours,overtimehours=calculate_hours(hours)\n",
    "    regularpay,overtimepay,totalpay=calculate_pay(regularhour,overtimehours,rate)\n",
    "    #printing results"
   ]
  },
  {
   "cell_type": "code",
   "execution_count": null,
   "metadata": {},
   "outputs": [],
   "source": [
    "def calculate_hours(hours):\n",
    "    if hours<=40:\n",
    "        return hours,0\n",
    "    else:\n",
    "        return 40,hours-40"
   ]
  }
 ],
 "metadata": {
  "kernelspec": {
   "display_name": "Python 3",
   "language": "python",
   "name": "python3"
  },
  "language_info": {
   "codemirror_mode": {
    "name": "ipython",
    "version": 3
   },
   "file_extension": ".py",
   "mimetype": "text/x-python",
   "name": "python",
   "nbconvert_exporter": "python",
   "pygments_lexer": "ipython3",
   "version": "3.7.6"
  }
 },
 "nbformat": 4,
 "nbformat_minor": 4
}
