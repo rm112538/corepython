{
 "cells": [
  {
   "cell_type": "code",
   "execution_count": 3,
   "metadata": {},
   "outputs": [
    {
     "name": "stdout",
     "output_type": "stream",
     "text": [
      "This is a mutable object: ['foo', 'bar', 'Obizo', 'Richard'].\n",
      "This is a mutable object: ['foo', 'bar', 'Obizo', 'Richard']\n",
      "This is a mutable object called with an empty function: ['Richard'].\n"
     ]
    }
   ],
   "source": [
    "# None ---> ensures that my_list now truly defaults to an empty list whenever f() is called without an argument\n",
    "def f(my_list=None):\n",
    "    if my_list is None:\n",
    "        my_list = []\n",
    "    my_list.append('Richard')\n",
    "    return my_list\n",
    "\n",
    "print(f\"This is a mutable object: {f(['foo', 'bar', 'Obizo'])}.\")\n",
    "print(\"This is a mutable object:\", f(['foo', 'bar', 'Obizo']))\n",
    "print(f'This is a mutable object called with an empty function: {f()}.')  # thought f() returned empty list []?"
   ]
  },
  {
   "cell_type": "markdown",
   "metadata": {},
   "source": [
    "###### Not sure why I am returning an append with f() called"
   ]
  },
  {
   "cell_type": "code",
   "execution_count": 16,
   "metadata": {},
   "outputs": [
    {
     "name": "stdout",
     "output_type": "stream",
     "text": [
      "This is a mutable object: ['foo', 'bar', 'Obizo', 'Richard'].\n",
      "calling with an empty function: ['Richard'].\n"
     ]
    }
   ],
   "source": [
    "# None ---> ensures that my_list now truly defaults to an empty list whenever f() is called without an argument\n",
    "\n",
    "# https://realpython.com/defining-your-own-python-function/\n",
    "\n",
    "def f(my_list=None):\n",
    "    if my_list is None:             \n",
    "        my_list = []\n",
    "    my_list.append('Richard')\n",
    "    return my_list \n",
    "\n",
    "print(f\"This is a mutable object: {f(['foo', 'bar', 'Obizo'])}.\")\n",
    "print(f'calling with an empty function: {f()}.')       #Not sure why I am returning an append with f() called"
   ]
  },
  {
   "cell_type": "code",
   "execution_count": null,
   "metadata": {},
   "outputs": [],
   "source": []
  }
 ],
 "metadata": {
  "kernelspec": {
   "display_name": "Python 3",
   "language": "python",
   "name": "python3"
  },
  "language_info": {
   "codemirror_mode": {
    "name": "ipython",
    "version": 3
   },
   "file_extension": ".py",
   "mimetype": "text/x-python",
   "name": "python",
   "nbconvert_exporter": "python",
   "pygments_lexer": "ipython3",
   "version": "3.7.6"
  }
 },
 "nbformat": 4,
 "nbformat_minor": 4
}
