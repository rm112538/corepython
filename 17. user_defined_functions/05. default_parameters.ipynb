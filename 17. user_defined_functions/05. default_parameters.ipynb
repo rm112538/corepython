{
 "cells": [
  {
   "cell_type": "markdown",
   "metadata": {},
   "source": [
    "###### Summary\n",
    "\n",
    "1. Positional arguments must agree in order and number with the parameters declared in the function definition.\n",
    "2. Keyword arguments must agree with declared parameters in number, but they may be specified in arbitrary order.\n",
    "3. Default parameters allow some arguments to be omitted when the function is called."
   ]
  },
  {
   "cell_type": "code",
   "execution_count": 1,
   "metadata": {},
   "outputs": [
    {
     "name": "stdout",
     "output_type": "stream",
     "text": [
      " 2 mangos and cost $0.98\n",
      " 6 mangos and cost $2.94\n",
      " 4 apples and cost $1.96\n",
      " 4 apples and cost $1.00\n",
      "\n",
      " 2 mangos and cost $0.98\n",
      " 5 mangos and cost $2.45\n",
      " 3 papaya and cost $1.47\n",
      " 2 persimmons and cost $1.98\n"
     ]
    }
   ],
   "source": [
    "# form <name>=<value>, then <value> becomes a default value for that parameter\n",
    "\n",
    "def f(qty=2, item='mangos', price=0.49):        # default or optional parameters\n",
    "    tot_cost =  qty * price\n",
    "    print(f' {qty} {item} and cost ${tot_cost:.2f}')\n",
    "f()\n",
    "f(6, 'mangos')\n",
    "f(4, 'apples')  # notice, the apples were priced at default price\n",
    "f(4, 'apples', 0.25)\n",
    "print()\n",
    "f(2, 'mangos')\n",
    "f(5)\n",
    "f(3,'papaya')   # must provide qty to avoid error\n",
    "f(item='persimmons', qty=2, price= 0.99)"
   ]
  },
  {
   "cell_type": "code",
   "execution_count": null,
   "metadata": {},
   "outputs": [],
   "source": []
  }
 ],
 "metadata": {
  "kernelspec": {
   "display_name": "Python 3",
   "language": "python",
   "name": "python3"
  },
  "language_info": {
   "codemirror_mode": {
    "name": "ipython",
    "version": 3
   },
   "file_extension": ".py",
   "mimetype": "text/x-python",
   "name": "python",
   "nbconvert_exporter": "python",
   "pygments_lexer": "ipython3",
   "version": "3.7.6"
  }
 },
 "nbformat": 4,
 "nbformat_minor": 4
}
