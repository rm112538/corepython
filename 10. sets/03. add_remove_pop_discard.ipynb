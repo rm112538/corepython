{
 "cells": [
  {
   "cell_type": "markdown",
   "metadata": {},
   "source": [
    "##### add()"
   ]
  },
  {
   "cell_type": "code",
   "execution_count": 23,
   "metadata": {},
   "outputs": [
    {
     "name": "stdout",
     "output_type": "stream",
     "text": [
      "Adding an element to x1 set leads to: {'baz', 'foo', 'quux', 'bar'}.\n"
     ]
    }
   ],
   "source": [
    "# using a method\n",
    "x1 = {'foo', 'bar','baz'}\n",
    "x2 = {'baz', 'qux', 'quux'}   \n",
    "\n",
    "x1.add(\"quux\")  # string element (hashable)\n",
    "print(f'Adding an element to x1 set leads to: {x1}.')"
   ]
  },
  {
   "cell_type": "code",
   "execution_count": 1,
   "metadata": {},
   "outputs": [
    {
     "name": "stdout",
     "output_type": "stream",
     "text": [
      "Adding x2 set? {'baz', 'foo', 'bar'}.\n"
     ]
    }
   ],
   "source": [
    "# using a method\n",
    "x1 = {'foo', 'bar','baz'}\n",
    "x2 = {'baz', 'qux', 'quux'}   \n",
    "\n",
    "#x1.add(x2)                              # TypeError: unhashable type: 'set'\n",
    "print(f'Adding x2 set? {x1}.')  "
   ]
  },
  {
   "cell_type": "code",
   "execution_count": 25,
   "metadata": {},
   "outputs": [
    {
     "name": "stdout",
     "output_type": "stream",
     "text": [
      "Adding integer into a set? {100, 'baz', 'foo', 'bar'}.\n"
     ]
    }
   ],
   "source": [
    "# using a method\n",
    "x1 = {'foo', 'bar','baz'}\n",
    "x2 = 100   \n",
    "\n",
    "x1.add(x2)\n",
    "print(f'Adding integer into a set? {x1}.')  "
   ]
  },
  {
   "cell_type": "markdown",
   "metadata": {},
   "source": [
    "##### remove()"
   ]
  },
  {
   "cell_type": "code",
   "execution_count": 2,
   "metadata": {},
   "outputs": [
    {
     "name": "stdout",
     "output_type": "stream",
     "text": [
      "Remove object from a set? {'baz', 'bar'}.\n"
     ]
    }
   ],
   "source": [
    "# using a method\n",
    "x1 = {'foo', 'bar','baz'}\n",
    "\n",
    "x1.remove('foo')\n",
    "print(f'Remove an element from a set? {x1}.')  "
   ]
  },
  {
   "cell_type": "code",
   "execution_count": 22,
   "metadata": {},
   "outputs": [
    {
     "name": "stdout",
     "output_type": "stream",
     "text": [
      "add and remove:{'baz', 'foo', 'bar'}.\n"
     ]
    }
   ],
   "source": [
    "# adding and removing \n",
    "x1 = {'foo', 'bar','baz'}\n",
    "x2 = 100\n",
    "\n",
    "x1.add(x2)\n",
    "x1.remove(x2)\n",
    "print(f'Add and remove:{x1}.')"
   ]
  },
  {
   "cell_type": "markdown",
   "metadata": {},
   "source": [
    "##### discard()"
   ]
  },
  {
   "cell_type": "code",
   "execution_count": 29,
   "metadata": {},
   "outputs": [
    {
     "name": "stdout",
     "output_type": "stream",
     "text": [
      "Discarding an element from a set leadds to: {'baz', 'bar'}.\n"
     ]
    }
   ],
   "source": [
    "# discarding element using a method\n",
    "x1 = {'foo', 'bar','baz'}\n",
    "\n",
    "x1.discard('foo')\n",
    "print(f'Discarding an element from a set leadds to: {x1}.') "
   ]
  },
  {
   "cell_type": "code",
   "execution_count": 31,
   "metadata": {},
   "outputs": [
    {
     "name": "stdout",
     "output_type": "stream",
     "text": [
      "Discard element not in the set leads to : {'baz', 'foo', 'bar'}.\n"
     ]
    }
   ],
   "source": [
    "# discarding an element not in the set using a method\n",
    "x1 = {'foo', 'bar','baz'}\n",
    "\n",
    "x1.discard('qux')\n",
    "print(f'Discard element not in the set leads to : {x1}.') # returns nothing"
   ]
  },
  {
   "cell_type": "markdown",
   "metadata": {},
   "source": [
    "##### pop()"
   ]
  },
  {
   "cell_type": "code",
   "execution_count": 35,
   "metadata": {},
   "outputs": [
    {
     "name": "stdout",
     "output_type": "stream",
     "text": [
      "What did pop() return? {'foo', 'bar'}.\n"
     ]
    }
   ],
   "source": [
    "# pop() using a method\n",
    "x1 = {'foo', 'bar','baz'}\n",
    "\n",
    "x1.pop()  # pop randomly delete an element from the set\n",
    "print(f'What did pop() return? {x1}.') "
   ]
  },
  {
   "cell_type": "markdown",
   "metadata": {},
   "source": [
    "##### clear()"
   ]
  },
  {
   "cell_type": "code",
   "execution_count": 37,
   "metadata": {},
   "outputs": [
    {
     "name": "stdout",
     "output_type": "stream",
     "text": [
      "What did pop() return? set().\n"
     ]
    }
   ],
   "source": [
    "# clear() using a method\n",
    "x1 = {'foo', 'bar','baz'}\n",
    "\n",
    "x1.clear()  \n",
    "print(f'What did pop() return? {x1}.') "
   ]
  },
  {
   "cell_type": "code",
   "execution_count": null,
   "metadata": {},
   "outputs": [],
   "source": []
  }
 ],
 "metadata": {
  "kernelspec": {
   "display_name": "Python 3",
   "language": "python",
   "name": "python3"
  },
  "language_info": {
   "codemirror_mode": {
    "name": "ipython",
    "version": 3
   },
   "file_extension": ".py",
   "mimetype": "text/x-python",
   "name": "python",
   "nbconvert_exporter": "python",
   "pygments_lexer": "ipython3",
   "version": "3.7.6"
  }
 },
 "nbformat": 4,
 "nbformat_minor": 4
}
