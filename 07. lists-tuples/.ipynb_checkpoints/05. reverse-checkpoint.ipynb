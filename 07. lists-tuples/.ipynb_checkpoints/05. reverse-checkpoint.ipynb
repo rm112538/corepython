{
 "cells": [
  {
   "cell_type": "code",
   "execution_count": 1,
   "metadata": {},
   "outputs": [
    {
     "name": "stdout",
     "output_type": "stream",
     "text": [
      "This is a reversed list: ['tank', 'motorcycle', 'plane', 'truck', 'car'].\n"
     ]
    }
   ],
   "source": [
    "a = ['car', 'truck', 'plane', 'motorcycle', 'tank']\n",
    "a.reverse()\n",
    "print(f'This is a reversed list: {a}.') # Must reverse the list first and then print it"
   ]
  },
  {
   "cell_type": "code",
   "execution_count": 2,
   "metadata": {},
   "outputs": [
    {
     "name": "stdout",
     "output_type": "stream",
     "text": [
      "This is a reversed list: ['tank', 'motorcycle', 'plane', 'truck', 'car'].\n"
     ]
    }
   ],
   "source": [
    "a = ['car', 'truck', 'plane', 'motorcycle', 'tank']\n",
    "print(f'This is a reversed list: {a[::-1]}.')"
   ]
  },
  {
   "cell_type": "code",
   "execution_count": null,
   "metadata": {},
   "outputs": [],
   "source": []
  }
 ],
 "metadata": {
  "kernelspec": {
   "display_name": "Python 3",
   "language": "python",
   "name": "python3"
  },
  "language_info": {
   "codemirror_mode": {
    "name": "ipython",
    "version": 3
   },
   "file_extension": ".py",
   "mimetype": "text/x-python",
   "name": "python",
   "nbconvert_exporter": "python",
   "pygments_lexer": "ipython3",
   "version": "3.7.6"
  }
 },
 "nbformat": 4,
 "nbformat_minor": 4
}
