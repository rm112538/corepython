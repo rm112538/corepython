{
 "cells": [
  {
   "cell_type": "code",
   "execution_count": 1,
   "metadata": {},
   "outputs": [
    {
     "name": "stdout",
     "output_type": "stream",
     "text": [
      "Hello, Richard.\n"
     ]
    }
   ],
   "source": [
    "# always build automated tests for non-trivial code\n",
    "# how do you know if print prints out the right things you want?\n",
    "\n",
    "def greet(name):\n",
    "    print(f'Hello, {name}.')\n",
    "\n",
    "\n",
    "greet('Richard')"
   ]
  },
  {
   "cell_type": "markdown",
   "metadata": {},
   "source": [
    "##### dependency injection"
   ]
  },
  {
   "cell_type": "code",
   "execution_count": 2,
   "metadata": {},
   "outputs": [],
   "source": [
    "def greet(name, display=print):\n",
    "    display(f'Hello {name}')\n",
    "    \n",
    "def mock_print(message, *args):\n",
    "    mock_print.last_message = message\n",
    "    \n",
    "def test_greet():\n",
    "    greet('Richard', display=mock_print)\n",
    "    assert mock_print.last_message == 'Hello Richard'\n",
    "    \n",
    "test_greet() # no errors reported --> our test on print function checked out okay"
   ]
  },
  {
   "cell_type": "code",
   "execution_count": 3,
   "metadata": {},
   "outputs": [],
   "source": [
    "def greet(name, display=print):\n",
    "    display(f'Hi {name}.')                    # test_greet() failed because of '.' and 'Hi\n",
    "    \n",
    "def mock_print(message, *args):\n",
    "    mock_print.last_message = message\n",
    "    \n",
    "def test_greet():\n",
    "    greet('Richard', display=mock_print)\n",
    "    assert mock_print.last_message == 'Hello Richard' # test_greet() failed because of '.' and 'Hi'\n",
    "    \n",
    "#test_greet()"
   ]
  },
  {
   "cell_type": "code",
   "execution_count": 5,
   "metadata": {},
   "outputs": [
    {
     "name": "stdout",
     "output_type": "stream",
     "text": [
      "call('Hello ', 'Mangi')\n",
      "[call('Hello ', 'Richard'), call('Hello ', 'Mangi')]\n"
     ]
    }
   ],
   "source": [
    "def greet(name):\n",
    "    print('Hello ', name)\n",
    "    \n",
    "from unittest.mock import patch\n",
    "\n",
    "@patch('builtins.print')\n",
    "def test_greet(mock_print):\n",
    "    # the actual test\n",
    "    greet('Richard')\n",
    "    mock_print.assert_called_with('Hello ', 'Richard')      # watch for the space after 'Hello'\n",
    "    \n",
    "    greet('Mangi')\n",
    "    mock_print.assert_called_with('Hello ', 'Mangi')\n",
    "    \n",
    "    # showing what is in mock\n",
    "    import sys\n",
    "    sys.stdout.write(str(mock_print.call_args ) + '\\n')   # shows tha last function that was called\n",
    "    sys.stdout.write(str(mock_print.call_args_list ) + '\\n')     # shows the entire call history\n",
    "    \n",
    "test_greet()"
   ]
  },
  {
   "cell_type": "code",
   "execution_count": null,
   "metadata": {},
   "outputs": [],
   "source": []
  }
 ],
 "metadata": {
  "kernelspec": {
   "display_name": "Python 3",
   "language": "python",
   "name": "python3"
  },
  "language_info": {
   "codemirror_mode": {
    "name": "ipython",
    "version": 3
   },
   "file_extension": ".py",
   "mimetype": "text/x-python",
   "name": "python",
   "nbconvert_exporter": "python",
   "pygments_lexer": "ipython3",
   "version": "3.7.6"
  }
 },
 "nbformat": 4,
 "nbformat_minor": 4
}
