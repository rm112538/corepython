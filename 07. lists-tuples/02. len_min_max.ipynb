{
 "cells": [
  {
   "cell_type": "code",
   "execution_count": 1,
   "metadata": {},
   "outputs": [
    {
     "name": "stdout",
     "output_type": "stream",
     "text": [
      "The length is 4.\n",
      "The min value is Boat.\n",
      "The max value is truck.\n",
      "\n",
      "The ASCII value of the min is 66.\n",
      "The ASCII value of the max is 116.\n"
     ]
    }
   ],
   "source": [
    "# len, min, max\n",
    "a = ['car','Boat','truck', 'Tank']\n",
    "print(f'The length is {len(a)}.')\n",
    "print(f'The min value is {min(a)}.')\n",
    "print(f'The max value is {max(a)}.')\n",
    "print()\n",
    "print(f'The ASCII value of the min is {ord(\"B\")}.')\n",
    "print(f'The ASCII value of the max is {ord(\"t\")}.')"
   ]
  },
  {
   "cell_type": "code",
   "execution_count": 2,
   "metadata": {},
   "outputs": [
    {
     "name": "stdout",
     "output_type": "stream",
     "text": [
      "The length is 6.\n"
     ]
    }
   ],
   "source": [
    "# using a mixture of data types\n",
    "a = ['car','Boat','truck', 'Tank', 4, 7]\n",
    "print(f'The length is {len(a)}.')\n",
    "#print(f'The min value is {min(a)}.')        # TypeError: '<' not supported between instances of 'int' and 'str'\n",
    "#print(f'The max value is {max(a)}.')        # TypeError: '<' not supported between instances of 'int' and 'str'"
   ]
  },
  {
   "cell_type": "code",
   "execution_count": null,
   "metadata": {},
   "outputs": [],
   "source": []
  }
 ],
 "metadata": {
  "kernelspec": {
   "display_name": "Python 3",
   "language": "python",
   "name": "python3"
  },
  "language_info": {
   "codemirror_mode": {
    "name": "ipython",
    "version": 3
   },
   "file_extension": ".py",
   "mimetype": "text/x-python",
   "name": "python",
   "nbconvert_exporter": "python",
   "pygments_lexer": "ipython3",
   "version": "3.7.6"
  }
 },
 "nbformat": 4,
 "nbformat_minor": 4
}
