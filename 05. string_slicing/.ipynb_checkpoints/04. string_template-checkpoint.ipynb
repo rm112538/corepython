{
 "cells": [
  {
   "cell_type": "markdown",
   "metadata": {},
   "source": [
    "##### String Templates\n",
    "\n",
    "Used specifically when acquring user data input to avoid a malicious extraction of information"
   ]
  },
  {
   "cell_type": "code",
   "execution_count": 15,
   "metadata": {},
   "outputs": [
    {
     "data": {
      "text/plain": [
       "'Hey, Bob'"
      ]
     },
     "execution_count": 15,
     "metadata": {},
     "output_type": "execute_result"
    }
   ],
   "source": [
    "from string import Template\n",
    "errno = 50159747054\n",
    "fname = 'Bob'\n",
    "t = Template('Hey, $fname')\n",
    "t.substitute(fname=fname)                  # substitute has to come below the template"
   ]
  },
  {
   "cell_type": "code",
   "execution_count": 16,
   "metadata": {},
   "outputs": [
    {
     "data": {
      "text/plain": [
       "'Hey, Bob, there is an 0xbadc0ffee error!'"
      ]
     },
     "execution_count": 16,
     "metadata": {},
     "output_type": "execute_result"
    }
   ],
   "source": [
    "from string import Template\n",
    "errno = 50159747054\n",
    "fname = 'Bob'\n",
    "t = Template('Hey, $fname, there is an $error error!')\n",
    "t.substitute(fname=fname, error=hex(errno))                 # substitute has to come below the template"
   ]
  },
  {
   "cell_type": "code",
   "execution_count": 27,
   "metadata": {},
   "outputs": [
    {
     "name": "stdout",
     "output_type": "stream",
     "text": [
      "Please enter your first name:richard\n",
      "Please enter your last name:mchau\n",
      "Enter age, in number:42\n"
     ]
    },
    {
     "data": {
      "text/plain": [
       "'Hey, richard mchau, you are 42 years old!'"
      ]
     },
     "execution_count": 27,
     "metadata": {},
     "output_type": "execute_result"
    }
   ],
   "source": [
    "from string import Template\n",
    "fname = input('Please enter your first name:')\n",
    "lname = input('Please enter your last name:')\n",
    "age = int(input('Enter age, in number:'))\n",
    "\n",
    "t = Template(f'Hey, {fname} {lname}, you are {age} years old!')\n",
    "t.substitute(fname=fname, lname=lname)                       # substitute has to come below the template"
   ]
  },
  {
   "cell_type": "code",
   "execution_count": null,
   "metadata": {},
   "outputs": [],
   "source": []
  }
 ],
 "metadata": {
  "kernelspec": {
   "display_name": "Python 3",
   "language": "python",
   "name": "python3"
  },
  "language_info": {
   "codemirror_mode": {
    "name": "ipython",
    "version": 3
   },
   "file_extension": ".py",
   "mimetype": "text/x-python",
   "name": "python",
   "nbconvert_exporter": "python",
   "pygments_lexer": "ipython3",
   "version": "3.7.6"
  }
 },
 "nbformat": 4,
 "nbformat_minor": 4
}
