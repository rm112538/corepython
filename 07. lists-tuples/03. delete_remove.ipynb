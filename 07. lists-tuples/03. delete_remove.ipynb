{
 "cells": [
  {
   "cell_type": "code",
   "execution_count": 1,
   "metadata": {},
   "outputs": [
    {
     "name": "stdout",
     "output_type": "stream",
     "text": [
      "Here is a new list with a[1] replaced and a[-1] deleted ['car', 4, 'plane', 'motorcycle'].\n",
      "Here is the length of the new list 4.\n"
     ]
    }
   ],
   "source": [
    "a = ['car', 'truck', 'plane', 'motorcycle', 'tank']\n",
    "a[1] = 4\n",
    "del a[-1]\n",
    "\n",
    "print(f'Here is a new list with a[1] replaced and a[-1] deleted {a}.')\n",
    "print(f'Here is the length of the new list {len(a)}.')\n",
    "\n",
    "# cannot place assignment in {} and call {a} \n",
    "#print(f'Here is how you can replace indecies with integers{a}.') "
   ]
  },
  {
   "cell_type": "code",
   "execution_count": 2,
   "metadata": {},
   "outputs": [
    {
     "name": "stdout",
     "output_type": "stream",
     "text": [
      "Here is how you can replace indecies with integers['car', 'truck', 5, 6, 7].\n",
      "Changing the values of a[1:2] to a new list ['car', 0.1, 0.2, 0.3, 5, 6, 7].\n",
      "Replacing a[1:5] with alpha characters leads to ['car', 'a', 'b', 'c', 'd', 6, 7].\n",
      "Replacing a[2] with an empty list ['car', 'a', [], 'c', 'd', 6, 7].\n",
      "Replacing a[2:2] with an empty list ['car', 'a', [], 'c', 'd', 6, 7].\n",
      "Removing a[2:3] from the list ['car', 'a', 'c', 'd', 6, 7].\n",
      "Removing a[1] from the list ['car', 'c', 'd', 6, 7].\n"
     ]
    }
   ],
   "source": [
    "a = ['car', 'truck', 'plane', 'motorcycle', 'tank']\n",
    "a[2:] = [5,6,7]\n",
    "print(f'Here is how you can replace indecies with integers{a}.')\n",
    "\n",
    "a[1:2] = [0.1,0.2,0.3]\n",
    "print(f'Changing the values of a[1:2] to a new list {a}.') # notice 'truck' == a[1:2]\n",
    "\n",
    "a[1:5] = ['a', 'b', 'c', 'd']\n",
    "print(f'Replacing a[1:5] with alpha characters leads to {a}.')\n",
    "\n",
    "a[2] = []\n",
    "print(f'Replacing a[2] with an empty list {a}.')\n",
    "\n",
    "a[2:2] = [] # a[2:2] = ['A','B','C']\n",
    "print(f'Replacing a[2:2] with an empty list {a}.')\n",
    "\n",
    "a[2:3] = []\n",
    "print(f'Removing a[2:3] from the list {a}.')\n",
    "\n",
    "a.remove(a[1])\n",
    "print(f'Removing a[1] from the list {a}.')"
   ]
  },
  {
   "cell_type": "code",
   "execution_count": 3,
   "metadata": {},
   "outputs": [
    {
     "name": "stdout",
     "output_type": "stream",
     "text": [
      "Here is how removal tool works: ['car', 'truck', 'plane', 'motorcycle']\n",
      "Here is how removal tool works: ['car', 'truck', 'plane']\n"
     ]
    }
   ],
   "source": [
    "a = ['car', 'truck', 'plane', 'motorcycle', 'tank'] \n",
    "\n",
    "a.remove(a[4])                                          # doesn't take a slice\n",
    "print(f'Here is how removal tool works: {a}')\n",
    "\n",
    "a.remove('motorcycle')                                   # doesn't take a slice\n",
    "print(f'Here is how removal tool works: {a}')"
   ]
  },
  {
   "cell_type": "code",
   "execution_count": null,
   "metadata": {},
   "outputs": [],
   "source": []
  }
 ],
 "metadata": {
  "kernelspec": {
   "display_name": "Python 3",
   "language": "python",
   "name": "python3"
  },
  "language_info": {
   "codemirror_mode": {
    "name": "ipython",
    "version": 3
   },
   "file_extension": ".py",
   "mimetype": "text/x-python",
   "name": "python",
   "nbconvert_exporter": "python",
   "pygments_lexer": "ipython3",
   "version": "3.7.6"
  }
 },
 "nbformat": 4,
 "nbformat_minor": 4
}
