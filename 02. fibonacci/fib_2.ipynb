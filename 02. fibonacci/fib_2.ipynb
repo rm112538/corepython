{
 "cells": [
  {
   "cell_type": "code",
   "execution_count": 1,
   "metadata": {},
   "outputs": [],
   "source": [
    "# Fibonacci Series with a varying starting point.\n",
    "def fibonacci(n, f0=0, f1=1):\n",
    " sequence = []\n",
    " current, next = f0, f1 \n",
    " for _ in range(n):\n",
    "     current, next = next, current + next\n",
    "     sequence.append(current)\n",
    " return sequence"
   ]
  },
  {
   "cell_type": "code",
   "execution_count": 6,
   "metadata": {},
   "outputs": [
    {
     "data": {
      "text/plain": [
       "[3, 3, 6, 9, 15, 24, 39, 63, 102, 165]"
      ]
     },
     "execution_count": 6,
     "metadata": {},
     "output_type": "execute_result"
    }
   ],
   "source": [
    "# the caller code\n",
    "fibonacci(10, f0=0, f1=3)"
   ]
  },
  {
   "cell_type": "markdown",
   "metadata": {},
   "source": [
    "##### exploring enumerate"
   ]
  },
  {
   "cell_type": "code",
   "execution_count": 5,
   "metadata": {},
   "outputs": [
    {
     "name": "stdout",
     "output_type": "stream",
     "text": [
      "At index 0 our output is 3\n",
      "At index 1 our output is 3\n",
      "At index 2 our output is 6\n",
      "At index 3 our output is 9\n",
      "At index 4 our output is 15\n",
      "At index 5 our output is 24\n",
      "At index 6 our output is 39\n",
      "At index 7 our output is 63\n",
      "At index 8 our output is 102\n",
      "At index 9 our output is 165\n"
     ]
    }
   ],
   "source": [
    "# placing the caller code in iteration\n",
    "for count, i in enumerate(fibonacci(10, f0=0, f1=3)):\n",
    "    print(f'At index {count} our output is {i}')"
   ]
  },
  {
   "cell_type": "code",
   "execution_count": null,
   "metadata": {},
   "outputs": [],
   "source": []
  }
 ],
 "metadata": {
  "kernelspec": {
   "display_name": "Python 3",
   "language": "python",
   "name": "python3"
  },
  "language_info": {
   "codemirror_mode": {
    "name": "ipython",
    "version": 3
   },
   "file_extension": ".py",
   "mimetype": "text/x-python",
   "name": "python",
   "nbconvert_exporter": "python",
   "pygments_lexer": "ipython3",
   "version": "3.7.6"
  }
 },
 "nbformat": 4,
 "nbformat_minor": 4
}
