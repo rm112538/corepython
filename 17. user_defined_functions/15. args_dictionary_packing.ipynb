{
 "cells": [
  {
   "cell_type": "code",
   "execution_count": 1,
   "metadata": {},
   "outputs": [
    {
     "name": "stdout",
     "output_type": "stream",
     "text": [
      "{'me': 'Richard', 'father': 'Joseph', 'grandfather': 'Rikanga', 'greatgrandfather': 'Kichenge'}\n",
      "<class 'dict'>\n",
      " me ---> Richard\n",
      " father ---> Joseph\n",
      " grandfather ---> Rikanga\n",
      " greatgrandfather ---> Kichenge\n"
     ]
    }
   ],
   "source": [
    "def f(**kwargs):\n",
    "    print(kwargs)\n",
    "    print(type(kwargs))\n",
    "    for key, val in kwargs.items():\n",
    "        print(f' {key} ---> {val}')\n",
    "        \n",
    "f(me='Richard', father='Joseph', grandfather='Rikanga', greatgrandfather='Kichenge')"
   ]
  },
  {
   "cell_type": "code",
   "execution_count": 2,
   "metadata": {},
   "outputs": [
    {
     "ename": "SyntaxError",
     "evalue": "keyword can't be an expression (<ipython-input-2-6dd6d75a5a5e>, line 7)",
     "output_type": "error",
     "traceback": [
      "\u001b[1;36m  File \u001b[1;32m\"<ipython-input-2-6dd6d75a5a5e>\"\u001b[1;36m, line \u001b[1;32m7\u001b[0m\n\u001b[1;33m    f(0='Richard', 1='Joseph', 2='Rikanga', 3='Kichenge')\u001b[0m\n\u001b[1;37m     ^\u001b[0m\n\u001b[1;31mSyntaxError\u001b[0m\u001b[1;31m:\u001b[0m keyword can't be an expression\n"
     ]
    }
   ],
   "source": [
    "def f(**kwargs):\n",
    "    print(kwargs)\n",
    "    print(type(kwargs))\n",
    "    for key, val in kwargs.items():\n",
    "        print(f' {key} ---> {val}')\n",
    "        \n",
    "f(0='Richard', 1='Joseph', 2='Rikanga', 3='Kichenge') # what make 0 = 'Richard' an expression?"
   ]
  },
  {
   "cell_type": "code",
   "execution_count": 3,
   "metadata": {},
   "outputs": [
    {
     "ename": "SyntaxError",
     "evalue": "keyword can't be an expression (<ipython-input-3-820062ef661d>, line 7)",
     "output_type": "error",
     "traceback": [
      "\u001b[1;36m  File \u001b[1;32m\"<ipython-input-3-820062ef661d>\"\u001b[1;36m, line \u001b[1;32m7\u001b[0m\n\u001b[1;33m    f('Richard'= 0, 'Joseph' = 1, 'Rikanga' = 2, 'Kichenge' = 3)\u001b[0m\n\u001b[1;37m     ^\u001b[0m\n\u001b[1;31mSyntaxError\u001b[0m\u001b[1;31m:\u001b[0m keyword can't be an expression\n"
     ]
    }
   ],
   "source": [
    "def f(**kwargs):\n",
    "    print(kwargs)\n",
    "    print(type(kwargs))\n",
    "    for key, val in kwargs.items():\n",
    "        print(f' {key} ---> {val}')\n",
    "        \n",
    "f('Richard'= 0, 'Joseph' = 1, 'Rikanga' = 2, 'Kichenge' = 3)"
   ]
  },
  {
   "cell_type": "code",
   "execution_count": 4,
   "metadata": {},
   "outputs": [
    {
     "name": "stdout",
     "output_type": "stream",
     "text": [
      "{'Richard': 1975, 'Joseph': 1949, 'Rikanga': 1903, 'Kichenge': 1873}\n",
      "<class 'dict'>\n",
      " Richard ---> 1975\n",
      " Joseph ---> 1949\n",
      " Rikanga ---> 1903\n",
      " Kichenge ---> 1873\n"
     ]
    }
   ],
   "source": [
    "def f(**kwargs):\n",
    "    print(kwargs)\n",
    "    print(type(kwargs))\n",
    "    for key, val in kwargs.items():\n",
    "        print(f' {key} ---> {val}')\n",
    "        \n",
    "f(Richard= 1975, Joseph = 1949, Rikanga = 1903, Kichenge = 1873)"
   ]
  },
  {
   "cell_type": "code",
   "execution_count": null,
   "metadata": {},
   "outputs": [],
   "source": []
  }
 ],
 "metadata": {
  "kernelspec": {
   "display_name": "Python 3",
   "language": "python",
   "name": "python3"
  },
  "language_info": {
   "codemirror_mode": {
    "name": "ipython",
    "version": 3
   },
   "file_extension": ".py",
   "mimetype": "text/x-python",
   "name": "python",
   "nbconvert_exporter": "python",
   "pygments_lexer": "ipython3",
   "version": "3.7.6"
  }
 },
 "nbformat": 4,
 "nbformat_minor": 4
}
