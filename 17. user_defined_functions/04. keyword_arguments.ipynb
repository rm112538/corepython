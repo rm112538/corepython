{
 "cells": [
  {
   "cell_type": "markdown",
   "metadata": {},
   "source": [
    "###### Summary\n",
    "\n",
    "1. Keyword arguments must agree with declared parameters in number, but they may be specified in arbitrary order.\n"
   ]
  },
  {
   "cell_type": "code",
   "execution_count": 1,
   "metadata": {},
   "outputs": [
    {
     "name": "stdout",
     "output_type": "stream",
     "text": [
      "You have bought 2 mangos at the cost $0.98\n",
      "You have bought 3 avocados at the cost $2.97\n",
      "You have bought 2 pinaples at the cost $3.94\n"
     ]
    }
   ],
   "source": [
    "# keyword arguments\n",
    "\n",
    "def f(qty, item, price):\n",
    "    tot_cost = price * qty\n",
    "    print(f'You have bought {qty} {item} at the cost ${tot_cost:.2f}')\n",
    "    \n",
    "# function called\n",
    "f(qty = 2, item = 'mangos', price = 0.49)   # the oder doesn't matter when the [<keyword> = <value>] is defined \n",
    "f(item = 'avocados', qty = 3, price = 0.99)\n",
    "f(price = 1.97, qty = 2,item = 'pinaples')"
   ]
  },
  {
   "cell_type": "code",
   "execution_count": 2,
   "metadata": {},
   "outputs": [
    {
     "name": "stdout",
     "output_type": "stream",
     "text": [
      "You have bought 2 mangos at the cost $0.00\n"
     ]
    }
   ],
   "source": [
    "# positional & keyword arguments\n",
    "\n",
    "def f(qty, item, price=0):\n",
    "    #tot_cost = price * qty\n",
    "    print(f'You have bought {qty} {item} at the cost ${price:.2f}')\n",
    "    \n",
    "# function called\n",
    "f(2, 'mangos')   # notice, when a keyword argument is being used, it could be skipped during function call."
   ]
  },
  {
   "cell_type": "code",
   "execution_count": 3,
   "metadata": {
    "scrolled": true
   },
   "outputs": [
    {
     "name": "stdout",
     "output_type": "stream",
     "text": [
      "You have bought 2 mangos at the cost $0.98\n",
      "You have bought 3 avocados at the cost $2.97\n"
     ]
    },
    {
     "ename": "TypeError",
     "evalue": "f() got an unexpected keyword argument 'cost'",
     "output_type": "error",
     "traceback": [
      "\u001b[1;31m---------------------------------------------------------------------------\u001b[0m",
      "\u001b[1;31mTypeError\u001b[0m                                 Traceback (most recent call last)",
      "\u001b[1;32m<ipython-input-3-13bb3740811c>\u001b[0m in \u001b[0;36m<module>\u001b[1;34m\u001b[0m\n\u001b[0;32m      8\u001b[0m \u001b[0mf\u001b[0m\u001b[1;33m(\u001b[0m\u001b[0mqty\u001b[0m \u001b[1;33m=\u001b[0m \u001b[1;36m2\u001b[0m\u001b[1;33m,\u001b[0m \u001b[0mitem\u001b[0m \u001b[1;33m=\u001b[0m \u001b[1;34m'mangos'\u001b[0m\u001b[1;33m,\u001b[0m \u001b[0mprice\u001b[0m \u001b[1;33m=\u001b[0m \u001b[1;36m0.49\u001b[0m\u001b[1;33m)\u001b[0m\u001b[1;33m\u001b[0m\u001b[1;33m\u001b[0m\u001b[0m\n\u001b[0;32m      9\u001b[0m \u001b[0mf\u001b[0m\u001b[1;33m(\u001b[0m\u001b[0mitem\u001b[0m \u001b[1;33m=\u001b[0m \u001b[1;34m'avocados'\u001b[0m\u001b[1;33m,\u001b[0m \u001b[0mqty\u001b[0m \u001b[1;33m=\u001b[0m \u001b[1;36m3\u001b[0m\u001b[1;33m,\u001b[0m \u001b[0mprice\u001b[0m \u001b[1;33m=\u001b[0m \u001b[1;36m0.99\u001b[0m\u001b[1;33m)\u001b[0m\u001b[1;33m\u001b[0m\u001b[1;33m\u001b[0m\u001b[0m\n\u001b[1;32m---> 10\u001b[1;33m \u001b[0mf\u001b[0m\u001b[1;33m(\u001b[0m\u001b[0mcost\u001b[0m \u001b[1;33m=\u001b[0m \u001b[1;36m1.97\u001b[0m\u001b[1;33m,\u001b[0m \u001b[0mqty\u001b[0m \u001b[1;33m=\u001b[0m \u001b[1;36m2\u001b[0m\u001b[1;33m,\u001b[0m\u001b[0mitem\u001b[0m \u001b[1;33m=\u001b[0m \u001b[1;34m'pinaples'\u001b[0m\u001b[1;33m)\u001b[0m         \u001b[1;31m# TypeError: f() got an unexpected keyword argument 'cost'\u001b[0m\u001b[1;33m\u001b[0m\u001b[1;33m\u001b[0m\u001b[0m\n\u001b[0m",
      "\u001b[1;31mTypeError\u001b[0m: f() got an unexpected keyword argument 'cost'"
     ]
    }
   ],
   "source": [
    "# keyword arguments\n",
    "\n",
    "def f(qty, item, price):\n",
    "    tot_cost = price * qty\n",
    "    print(f'You have bought {qty} {item} at the cost ${tot_cost:.2f}')\n",
    "    \n",
    "# function called\n",
    "f(qty = 2, item = 'mangos', price = 0.49)   \n",
    "f(item = 'avocados', qty = 3, price = 0.99)\n",
    "f(cost = 1.97, qty = 2,item = 'pinaples')         # TypeError: f() got an unexpected keyword argument 'cost'"
   ]
  },
  {
   "cell_type": "code",
   "execution_count": 4,
   "metadata": {},
   "outputs": [
    {
     "ename": "SyntaxError",
     "evalue": "positional argument follows keyword argument (<ipython-input-4-e2ac809000ac>, line 10)",
     "output_type": "error",
     "traceback": [
      "\u001b[1;36m  File \u001b[1;32m\"<ipython-input-4-e2ac809000ac>\"\u001b[1;36m, line \u001b[1;32m10\u001b[0m\n\u001b[1;33m    f(item = 'avocados', qty = 3, 0.99)            # positional at the last\u001b[0m\n\u001b[1;37m                                 ^\u001b[0m\n\u001b[1;31mSyntaxError\u001b[0m\u001b[1;31m:\u001b[0m positional argument follows keyword argument\n"
     ]
    }
   ],
   "source": [
    "# keyword and positional arguments\n",
    "# When positional and keyword arguments are both present, all the positional arguments must come first:\n",
    "\n",
    "def f(qty, item, price):\n",
    "    tot_cost = price * qty\n",
    "    print(f'You have bought {qty} {item} at the cost ${tot_cost:.2f}')\n",
    "    \n",
    "# function called\n",
    "f(2, item = 'mangos', price = 0.49)            # positional at the first position \n",
    "f(item = 'avocados', qty = 3, 0.99)            # positional at the last\n",
    "f(price = 1.97, qty = 2,item = 'pinaples')"
   ]
  },
  {
   "cell_type": "code",
   "execution_count": null,
   "metadata": {},
   "outputs": [],
   "source": []
  }
 ],
 "metadata": {
  "kernelspec": {
   "display_name": "Python 3",
   "language": "python",
   "name": "python3"
  },
  "language_info": {
   "codemirror_mode": {
    "name": "ipython",
    "version": 3
   },
   "file_extension": ".py",
   "mimetype": "text/x-python",
   "name": "python",
   "nbconvert_exporter": "python",
   "pygments_lexer": "ipython3",
   "version": "3.7.6"
  }
 },
 "nbformat": 4,
 "nbformat_minor": 4
}
