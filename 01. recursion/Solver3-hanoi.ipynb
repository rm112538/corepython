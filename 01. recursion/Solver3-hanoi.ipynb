{
 "cells": [
  {
   "cell_type": "code",
   "execution_count": 1,
   "metadata": {},
   "outputs": [],
   "source": [
    "def solve_tower(num_disks:int, start:str, end:str, extra:str)-> None:  # using type annotation\n",
    "    \n",
    " \"\"\"\n",
    " Solves the Tower of Hanoi puzzle.\n",
    " \n",
    " Args:\n",
    " num_disks: the number of disks to move.\n",
    " start: the name of the start pole.\n",
    " end: the name of the target pole.\n",
    " extra: the name of the temporary pole.\n",
    " \n",
    " Examples:\n",
    " >>> solve_tower(3, 'a', 'c', 'b')\n",
    " Move top disk from a to c\n",
    " Move top disk from a to b\n",
    " Move top disk from c to b\n",
    " Move top disk from a to c\n",
    " Move top disk from b to a\n",
    " Move top disk from b to c\n",
    " Move top disk from a to c\n",
    " >>> solve_tower(-1, 'a', 'c', 'b')\n",
    " \"\"\"\n",
    " if(num_disks> 0):\n",
    "        solve_tower(num_disks-1, start, extra, end)\n",
    "        print('Move top disk from', start, 'to', end)\n",
    "        solve_tower(num_disks-1, end, extra, start)\n",
    "#solve_tower(3, 'a', 'c', 'b')"
   ]
  },
  {
   "cell_type": "code",
   "execution_count": 2,
   "metadata": {},
   "outputs": [
    {
     "name": "stdout",
     "output_type": "stream",
     "text": [
      "Trying:\n",
      "    solve_tower(3, 'a', 'c', 'b')\n",
      "Expecting:\n",
      "    Move top disk from a to c\n",
      "    Move top disk from a to b\n",
      "    Move top disk from c to b\n",
      "    Move top disk from a to c\n",
      "    Move top disk from b to a\n",
      "    Move top disk from b to c\n",
      "    Move top disk from a to c\n",
      "**********************************************************************\n",
      "File \"__main__\", line 12, in __main__.solve_tower\n",
      "Failed example:\n",
      "    solve_tower(3, 'a', 'c', 'b')\n",
      "Expected:\n",
      "    Move top disk from a to c\n",
      "    Move top disk from a to b\n",
      "    Move top disk from c to b\n",
      "    Move top disk from a to c\n",
      "    Move top disk from b to a\n",
      "    Move top disk from b to c\n",
      "    Move top disk from a to c\n",
      "Got:\n",
      "    Move top disk from a to c\n",
      "    Move top disk from a to b\n",
      "    Move top disk from b to c\n",
      "    Move top disk from a to c\n",
      "    Move top disk from c to a\n",
      "    Move top disk from c to b\n",
      "    Move top disk from b to a\n",
      "Trying:\n",
      "    solve_tower(-1, 'a', 'c', 'b')\n",
      "Expecting nothing\n",
      "ok\n",
      "1 items had no tests:\n",
      "    __main__\n",
      "**********************************************************************\n",
      "1 items had failures:\n",
      "   1 of   2 in __main__.solve_tower\n",
      "2 tests in 2 items.\n",
      "1 passed and 1 failed.\n",
      "***Test Failed*** 1 failures.\n"
     ]
    },
    {
     "data": {
      "text/plain": [
       "TestResults(failed=1, attempted=2)"
      ]
     },
     "execution_count": 2,
     "metadata": {},
     "output_type": "execute_result"
    }
   ],
   "source": [
    "import doctest\n",
    "doctest.testmod(verbose=True)"
   ]
  },
  {
   "cell_type": "code",
   "execution_count": null,
   "metadata": {},
   "outputs": [],
   "source": []
  }
 ],
 "metadata": {
  "kernelspec": {
   "display_name": "Python 3",
   "language": "python",
   "name": "python3"
  },
  "language_info": {
   "codemirror_mode": {
    "name": "ipython",
    "version": 3
   },
   "file_extension": ".py",
   "mimetype": "text/x-python",
   "name": "python",
   "nbconvert_exporter": "python",
   "pygments_lexer": "ipython3",
   "version": "3.7.6"
  }
 },
 "nbformat": 4,
 "nbformat_minor": 4
}
