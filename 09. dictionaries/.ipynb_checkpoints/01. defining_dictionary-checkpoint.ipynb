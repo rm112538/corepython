{
 "cells": [
  {
   "cell_type": "code",
   "execution_count": 1,
   "metadata": {},
   "outputs": [],
   "source": [
    "# A set of \" 'key': value\" pair\n",
    "# keys are unique\n",
    "# dictionaries are mutable and dynamic\n",
    "# will display in the order that they were placed ver. 3.7"
   ]
  },
  {
   "cell_type": "code",
   "execution_count": 2,
   "metadata": {},
   "outputs": [
    {
     "name": "stdout",
     "output_type": "stream",
     "text": [
      "Here is an empty dictionary: {}.\n"
     ]
    }
   ],
   "source": [
    "# empty dictionary\n",
    "d = {}\n",
    "print(f'Here is an empty dictionary: {d}.')"
   ]
  },
  {
   "cell_type": "code",
   "execution_count": 3,
   "metadata": {},
   "outputs": [
    {
     "name": "stdout",
     "output_type": "stream",
     "text": [
      "{'abc': [1, 2, 3], 'def': 10}\n"
     ]
    }
   ],
   "source": [
    "# string keys\n",
    "d = dict({'abc': [1, 2, 3], 'def': 10})\n",
    "print(d)"
   ]
  },
  {
   "cell_type": "code",
   "execution_count": 7,
   "metadata": {},
   "outputs": [
    {
     "name": "stdout",
     "output_type": "stream",
     "text": [
      "{0: 'boat', 'car': 'chevy', frozenset({1, 3, 4}): 'strange_set', (1, 4, 9): 'tuple', (1,): 144, 2: ['boat', 0.314, 125]}\n"
     ]
    }
   ],
   "source": [
    "# strange keys 1\n",
    "d = {0:'boat', 'car': 'chevy', frozenset({1, 3, 4}): \n",
    "     'strange_set', (1, 4, 9): 'tuple', (1,): 144,\n",
    "    2: ['boat', 0.314, 125]}\n",
    "print(d)"
   ]
  },
  {
   "cell_type": "code",
   "execution_count": 8,
   "metadata": {},
   "outputs": [
    {
     "name": "stdout",
     "output_type": "stream",
     "text": [
      "{3.14: 'pi', True: 1, (1, 3): 'look a tuple'}\n"
     ]
    }
   ],
   "source": [
    "# strange keys 2\n",
    "# you could use anything as a key\n",
    "d = {\n",
    "    3.14: 'pi',\n",
    "    True: 1,\n",
    "    (1,3): 'look a tuple'\n",
    "    }\n",
    "print(d)"
   ]
  },
  {
   "cell_type": "code",
   "execution_count": null,
   "metadata": {},
   "outputs": [],
   "source": []
  }
 ],
 "metadata": {
  "kernelspec": {
   "display_name": "Python 3",
   "language": "python",
   "name": "python3"
  },
  "language_info": {
   "codemirror_mode": {
    "name": "ipython",
    "version": 3
   },
   "file_extension": ".py",
   "mimetype": "text/x-python",
   "name": "python",
   "nbconvert_exporter": "python",
   "pygments_lexer": "ipython3",
   "version": "3.7.6"
  }
 },
 "nbformat": 4,
 "nbformat_minor": 4
}
