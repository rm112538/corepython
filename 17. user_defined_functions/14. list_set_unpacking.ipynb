{
 "cells": [
  {
   "cell_type": "code",
   "execution_count": 2,
   "metadata": {},
   "outputs": [
    {
     "name": "stdout",
     "output_type": "stream",
     "text": [
      " x = 3\n",
      " y = 6\n",
      " z = 9\n"
     ]
    }
   ],
   "source": [
    "# unpacking\n",
    "def f(x, y, z):\n",
    "    print(f' x = {x}')\n",
    "    print(f' y = {y}')\n",
    "    print(f' z = {z}')\n",
    "    \n",
    "# unpacking the tuple\n",
    "f(3, 6, 9)"
   ]
  },
  {
   "cell_type": "code",
   "execution_count": 3,
   "metadata": {},
   "outputs": [
    {
     "name": "stdout",
     "output_type": "stream",
     "text": [
      " x = foo\n",
      " y = bar\n",
      " z = baz\n"
     ]
    }
   ],
   "source": [
    "# list unpacking\n",
    "a = ['foo', 'bar', 'baz']\n",
    "f(*a)"
   ]
  },
  {
   "cell_type": "code",
   "execution_count": 4,
   "metadata": {},
   "outputs": [
    {
     "name": "stdout",
     "output_type": "stream",
     "text": [
      " x = (1, 2)\n",
      " y = 3.14\n",
      " z = foo\n"
     ]
    }
   ],
   "source": [
    "# set unpacking\n",
    "s = {'foo', (1, 2), 3.14}\n",
    "f(*s)                     # notice the re-arrangement of the set output"
   ]
  },
  {
   "cell_type": "code",
   "execution_count": 5,
   "metadata": {},
   "outputs": [
    {
     "name": "stdout",
     "output_type": "stream",
     "text": [
      "Here is the average: 6.046\n"
     ]
    }
   ],
   "source": [
    "def avg(*args):\n",
    "    return sum(args)/ len(args)\n",
    "print(f'Here is the average: {avg(2, 4.03, 6, 8.2, 10)}')      # errors when passing the list"
   ]
  },
  {
   "cell_type": "code",
   "execution_count": 7,
   "metadata": {},
   "outputs": [
    {
     "name": "stdout",
     "output_type": "stream",
     "text": [
      "Here is the average: 6.046\n"
     ]
    }
   ],
   "source": [
    "def avg(*args):\n",
    "    return sum(args)/ len(args)\n",
    "\n",
    "t = 2, 4.03, 6, 8.2, 10\n",
    "print(f'Here is the average: {avg(*t)}') "
   ]
  },
  {
   "cell_type": "code",
   "execution_count": 6,
   "metadata": {},
   "outputs": [
    {
     "name": "stdout",
     "output_type": "stream",
     "text": [
      "Here is the average: 6.046\n"
     ]
    }
   ],
   "source": [
    "# ********* this is amazing*******\n",
    "\n",
    "def avg(*args):\n",
    "    \"\"\"Returns the average of a list of numeric values.\"\"\"\n",
    "    return sum(args)/ len(args)\n",
    "\n",
    "a = [2, 4.03, 6, 8.2, 10]\n",
    "print(f'Here is the average: {avg(*a)}')"
   ]
  },
  {
   "cell_type": "code",
   "execution_count": null,
   "metadata": {},
   "outputs": [],
   "source": []
  }
 ],
 "metadata": {
  "kernelspec": {
   "display_name": "Python 3",
   "language": "python",
   "name": "python3"
  },
  "language_info": {
   "codemirror_mode": {
    "name": "ipython",
    "version": 3
   },
   "file_extension": ".py",
   "mimetype": "text/x-python",
   "name": "python",
   "nbconvert_exporter": "python",
   "pygments_lexer": "ipython3",
   "version": "3.7.6"
  }
 },
 "nbformat": 4,
 "nbformat_minor": 4
}
