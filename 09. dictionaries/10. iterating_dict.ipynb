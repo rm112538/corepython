{
 "cells": [
  {
   "cell_type": "code",
   "execution_count": 1,
   "metadata": {},
   "outputs": [],
   "source": [
    "# A set of \" 'key': value\" pair\n",
    "# keys are unique\n",
    "# dictionaries are mutable and dynamic\n",
    "# will display in the order that they were placed ver. 3.7"
   ]
  },
  {
   "cell_type": "code",
   "execution_count": 2,
   "metadata": {},
   "outputs": [
    {
     "name": "stdout",
     "output_type": "stream",
     "text": [
      "Here are the results: {'daredevil': 'kingpin', 'x-men': 'apocalypse', 'batman': 'bane'}.\n"
     ]
    }
   ],
   "source": [
    "# example 1\n",
    "bad_guys = {\n",
    "    'daredevil': 'kingpin',\n",
    "    'x-men': 'apocalypse',\n",
    "    'batman': 'bane'\n",
    "    }\n",
    "print(f'Here are the results: {bad_guys}.')"
   ]
  },
  {
   "cell_type": "code",
   "execution_count": 3,
   "metadata": {},
   "outputs": [
    {
     "name": "stdout",
     "output_type": "stream",
     "text": [
      "bane\n"
     ]
    }
   ],
   "source": [
    "# You can retrieve a value from the dictionary by calling the key\n",
    "#print(f'Retrieving values from the Key batman: {bad_guys['batman']}.') # doesn't work\n",
    "print(bad_guys['batman'])"
   ]
  },
  {
   "cell_type": "code",
   "execution_count": 4,
   "metadata": {},
   "outputs": [
    {
     "name": "stdout",
     "output_type": "stream",
     "text": [
      "{'daredevil': 'kingpin', 'x-men': 'juggernaut', 'batman': 'bane'}\n"
     ]
    }
   ],
   "source": [
    "# update a value at a particular key\n",
    "bad_guys['x-men'] = 'juggernaut'\n",
    "print(bad_guys)"
   ]
  },
  {
   "cell_type": "code",
   "execution_count": 5,
   "metadata": {},
   "outputs": [
    {
     "name": "stdout",
     "output_type": "stream",
     "text": [
      "kingpin juggernaut bane "
     ]
    }
   ],
   "source": [
    "# iterating through a list that was generated from the dictionary\n",
    "for i in bad_guys.items():\n",
    "    print(i[1], end=' ')"
   ]
  },
  {
   "cell_type": "code",
   "execution_count": 6,
   "metadata": {},
   "outputs": [
    {
     "name": "stdout",
     "output_type": "stream",
     "text": [
      "0 daredevil : kingpin\n",
      "1 x-men : juggernaut\n",
      "2 batman : bane\n"
     ]
    }
   ],
   "source": [
    "# How do you get the key and value to print as well?\n",
    "for index, i in enumerate(bad_guys.items()):\n",
    "    print(index, i[0],\":\", i[1])"
   ]
  },
  {
   "cell_type": "code",
   "execution_count": 8,
   "metadata": {},
   "outputs": [
    {
     "name": "stdout",
     "output_type": "stream",
     "text": [
      " Key = daredevil, Value = kingpin\n",
      " Key = x-men, Value = juggernaut\n",
      " Key = batman, Value = bane\n"
     ]
    }
   ],
   "source": [
    "# iterating\n",
    "#d = {'foo': 100, 'bar': 200, 'baz': 300}\n",
    "for k, v in bad_guys.items():\n",
    "    print(f' Key = {k}, Value = {v}')"
   ]
  },
  {
   "cell_type": "code",
   "execution_count": 7,
   "metadata": {},
   "outputs": [
    {
     "name": "stdout",
     "output_type": "stream",
     "text": [
      "{'daredevil': 'kingpin', 'x-men': 'juggernaut', 'batman': 'bane'}\n"
     ]
    }
   ],
   "source": [
    "print(bad_guys)"
   ]
  },
  {
   "cell_type": "code",
   "execution_count": null,
   "metadata": {},
   "outputs": [],
   "source": []
  }
 ],
 "metadata": {
  "kernelspec": {
   "display_name": "Python 3",
   "language": "python",
   "name": "python3"
  },
  "language_info": {
   "codemirror_mode": {
    "name": "ipython",
    "version": 3
   },
   "file_extension": ".py",
   "mimetype": "text/x-python",
   "name": "python",
   "nbconvert_exporter": "python",
   "pygments_lexer": "ipython3",
   "version": "3.7.6"
  }
 },
 "nbformat": 4,
 "nbformat_minor": 4
}
