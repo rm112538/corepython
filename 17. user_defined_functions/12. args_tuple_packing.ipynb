{
 "cells": [
  {
   "cell_type": "markdown",
   "metadata": {},
   "source": [
    "##### Argument Tuple Packing\n",
    "\n",
    "When a parameter name in a Python function definition is preceded by an asterisk (*), \n",
    "it indicates argument tuple packing. Any corresponding arguments in the function call \n",
    "are packed into a tuple that the function can refer to by the given parameter name. "
   ]
  },
  {
   "cell_type": "code",
   "execution_count": 2,
   "metadata": {},
   "outputs": [
    {
     "name": "stdout",
     "output_type": "stream",
     "text": [
      "([0, 3, 6, 9, 12, 15, 18],)\n",
      "<class 'tuple'> 1\n",
      "[0, 3, 6, 9, 12, 15, 18]\n"
     ]
    }
   ],
   "source": [
    "def f(*args):\n",
    "    print(args)\n",
    "    print(type(args), len(args))\n",
    "    for x in args:\n",
    "        print(x)\n",
    "\n",
    "f(list(range(0, 20, 3)))   # length --> 1?"
   ]
  },
  {
   "cell_type": "code",
   "execution_count": 6,
   "metadata": {},
   "outputs": [
    {
     "name": "stdout",
     "output_type": "stream",
     "text": [
      "(2, 4, 6, 8, 10)\n",
      "<class 'tuple'> 5\n",
      "2\n",
      "4\n",
      "6\n",
      "8\n",
      "10\n"
     ]
    }
   ],
   "source": [
    "def f(*args):\n",
    "    print(args)\n",
    "    print(type(args), len(args))\n",
    "    for x in args:\n",
    "        print(x)\n",
    "\n",
    "f(2, 4, 6, 8, 10)"
   ]
  },
  {
   "cell_type": "code",
   "execution_count": 18,
   "metadata": {},
   "outputs": [
    {
     "name": "stdout",
     "output_type": "stream",
     "text": [
      "Here is the average: 6.0\n"
     ]
    }
   ],
   "source": [
    "def avg(*args):\n",
    "    tot = 0\n",
    "    for i in args:\n",
    "        tot += i \n",
    "    return tot/ len(args)\n",
    "\n",
    "print(f'Here is the average: {avg(2, 4, 6, 8, 10)}')     # errors when passing the list"
   ]
  },
  {
   "cell_type": "code",
   "execution_count": 20,
   "metadata": {},
   "outputs": [
    {
     "name": "stdout",
     "output_type": "stream",
     "text": [
      "Here is the average: 6.046\n"
     ]
    }
   ],
   "source": [
    "def avg(*args):\n",
    "    return sum(args)/ len(args)\n",
    "print(f'Here is the average: {avg(2, 4.03, 6, 8.2, 10)}') "
   ]
  },
  {
   "cell_type": "code",
   "execution_count": 7,
   "metadata": {},
   "outputs": [
    {
     "name": "stdout",
     "output_type": "stream",
     "text": [
      "('foo', 'bar', 'baz', 'qux', 'quux')\n",
      "<class 'tuple'> 5\n",
      "foo\n",
      "bar\n",
      "baz\n",
      "qux\n",
      "quux\n"
     ]
    }
   ],
   "source": [
    "def f(*args):\n",
    "    print(args)\n",
    "    print(type(args), len(args))\n",
    "    for x in args:\n",
    "        print(x)\n",
    "\n",
    "f('foo', 'bar', 'baz', 'qux', 'quux')"
   ]
  },
  {
   "cell_type": "code",
   "execution_count": null,
   "metadata": {},
   "outputs": [],
   "source": []
  }
 ],
 "metadata": {
  "kernelspec": {
   "display_name": "Python 3",
   "language": "python",
   "name": "python3"
  },
  "language_info": {
   "codemirror_mode": {
    "name": "ipython",
    "version": 3
   },
   "file_extension": ".py",
   "mimetype": "text/x-python",
   "name": "python",
   "nbconvert_exporter": "python",
   "pygments_lexer": "ipython3",
   "version": "3.7.6"
  }
 },
 "nbformat": 4,
 "nbformat_minor": 4
}
