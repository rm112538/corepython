{
 "cells": [
  {
   "cell_type": "code",
   "execution_count": 1,
   "metadata": {},
   "outputs": [
    {
     "name": "stdout",
     "output_type": "stream",
     "text": [
      "{'c': 'Ni', 'b': 'Black Knight', 'd': 'Green Knight'}\n"
     ]
    }
   ],
   "source": [
    "# let's create a couple of dictionaries\n",
    "d1 = {\n",
    "    'a': 'Robin',\n",
    "    'b': 'Galahad'\n",
    "    }\n",
    "d2 = {\n",
    "    'c': 'Rabbit',\n",
    "    'b': 'Black Knight',\n",
    "    'd': 'Schrubbery'\n",
    "    }\n",
    "d2.update(c = 'Ni', d = 'Green Knight') # notice the keys do not have the quotation marks\n",
    "print(d2)"
   ]
  },
  {
   "cell_type": "code",
   "execution_count": 2,
   "metadata": {},
   "outputs": [
    {
     "name": "stdout",
     "output_type": "stream",
     "text": [
      "{'a': 'Robin', 'b': 'Black Knight', 'c': 'Ni', 'd': 'Green Knight'}\n"
     ]
    }
   ],
   "source": [
    "# how do you merge dictionaries?\n",
    "\n",
    "d1.update(d2)\n",
    "print(d1)"
   ]
  },
  {
   "cell_type": "code",
   "execution_count": 3,
   "metadata": {},
   "outputs": [
    {
     "name": "stdout",
     "output_type": "stream",
     "text": [
      "{'a': 'Robin', 'b': {}, 'c': 'Ni', 'd': 'Green Knight'}\n"
     ]
    }
   ],
   "source": [
    "# substituting the value of 'b' with empty dictionary\n",
    "d1['b']= {}\n",
    "print(d1)"
   ]
  },
  {
   "cell_type": "code",
   "execution_count": 4,
   "metadata": {},
   "outputs": [
    {
     "name": "stdout",
     "output_type": "stream",
     "text": [
      "{}\n"
     ]
    }
   ],
   "source": [
    "d1.clear()\n",
    "print(d1)"
   ]
  },
  {
   "cell_type": "code",
   "execution_count": 5,
   "metadata": {},
   "outputs": [
    {
     "name": "stdout",
     "output_type": "stream",
     "text": [
      "{'a': 'Robin', 'b': 'Galahad', 'c': 'White Knight'}\n",
      "{'c': 'Rabbit', 'b': 'Black Knight', 'd': 'Schrubbery'}\n"
     ]
    }
   ],
   "source": [
    "# updating using function\n",
    "d1 = {\n",
    "    'a': 'Robin',\n",
    "    'b': 'Galahad'\n",
    "    }\n",
    "d2 = {\n",
    "    'c': 'Rabbit',\n",
    "    'b': 'Black Knight',\n",
    "    'd': 'Schrubbery'\n",
    "    }\n",
    "\n",
    "def f(d1):\n",
    "    d1['c'] = 'White Knight'\n",
    "f(d1)\n",
    "print(d1)\n",
    "#print(d2)"
   ]
  },
  {
   "cell_type": "code",
   "execution_count": null,
   "metadata": {},
   "outputs": [],
   "source": []
  }
 ],
 "metadata": {
  "kernelspec": {
   "display_name": "Python 3",
   "language": "python",
   "name": "python3"
  },
  "language_info": {
   "codemirror_mode": {
    "name": "ipython",
    "version": 3
   },
   "file_extension": ".py",
   "mimetype": "text/x-python",
   "name": "python",
   "nbconvert_exporter": "python",
   "pygments_lexer": "ipython3",
   "version": "3.7.6"
  }
 },
 "nbformat": 4,
 "nbformat_minor": 4
}
