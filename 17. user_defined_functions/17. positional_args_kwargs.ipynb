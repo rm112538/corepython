{
 "cells": [
  {
   "cell_type": "code",
   "execution_count": 1,
   "metadata": {},
   "outputs": [
    {
     "name": "stdout",
     "output_type": "stream",
     "text": [
      " a = 2\n",
      " b = 5\n",
      " args = ('richard', 'joseph', 'rikanga', 'kichenge')\n",
      " kwargs = {'one': 'land', 'two': 'maritime', 'three': 'air', 's': [2, 4, 6, 8, 10]}\n"
     ]
    }
   ],
   "source": [
    "def f(a, b, *args, **kwargs):\n",
    "    print(F' a = {a}')\n",
    "    print(F' b = {b}')\n",
    "    print(F' args = {args}')\n",
    "    print(F' kwargs = {kwargs}')\n",
    "f(2, 5, 'richard','joseph', 'rikanga', 'kichenge', one ='land', two ='maritime', three ='air', s = [2, 4, 6, 8, 10])"
   ]
  },
  {
   "cell_type": "code",
   "execution_count": 1,
   "metadata": {},
   "outputs": [
    {
     "name": "stdout",
     "output_type": "stream",
     "text": [
      " argv = ['/opt/miniconda3/envs/my-conda-env/bin/python', '-m', 'ipykernel_launcher', '-f', '{connection_file}']\n",
      " display_name = my-conda-env-kernel\n",
      " language = python\n"
     ]
    }
   ],
   "source": [
    "# example of kwargs unpacking\n",
    "def unpack_this(**kwargs):\n",
    "    print(f' argv = {d[\"argv\"]}')\n",
    "    print(f' display_name = {d[\"display_name\"]}')\n",
    "    print(f' language = {d[\"language\"]}')\n",
    "          \n",
    "d = {\n",
    " \"argv\": [\n",
    "  \"/opt/miniconda3/envs/my-conda-env/bin/python\",\n",
    "  \"-m\",\n",
    "  \"ipykernel_launcher\",\n",
    "  \"-f\",\n",
    "  \"{connection_file}\"\n",
    " ],\n",
    " \"display_name\": \"my-conda-env-kernel\",\n",
    " \"language\": \"python\"\n",
    "}\n",
    "\n",
    "unpack_this(**d)"
   ]
  },
  {
   "cell_type": "code",
   "execution_count": 2,
   "metadata": {},
   "outputs": [
    {
     "ename": "SyntaxError",
     "evalue": "keyword can't be an expression (<ipython-input-2-1be068b305f9>, line 6)",
     "output_type": "error",
     "traceback": [
      "\u001b[1;36m  File \u001b[1;32m\"<ipython-input-2-1be068b305f9>\"\u001b[1;36m, line \u001b[1;32m6\u001b[0m\n\u001b[1;33m    f(2, 5, 'richard','joseph', 'rikanga', 'kichenge', '0'='land', '1'='maritime', '2'='air')\u001b[0m\n\u001b[1;37m                                                      ^\u001b[0m\n\u001b[1;31mSyntaxError\u001b[0m\u001b[1;31m:\u001b[0m keyword can't be an expression\n"
     ]
    }
   ],
   "source": [
    "def f(a, b, *args, **kwargs):\n",
    "    print(F' a = {a}')\n",
    "    print(F' b = {b}')\n",
    "    print(F' args = {args}')\n",
    "    print(F' kwargs = {kwargs}')\n",
    "f(2, 5, 'richard','joseph', 'rikanga', 'kichenge', '0'='land', '1'='maritime', '2'='air')"
   ]
  },
  {
   "cell_type": "code",
   "execution_count": null,
   "metadata": {},
   "outputs": [],
   "source": []
  },
  {
   "cell_type": "code",
   "execution_count": null,
   "metadata": {},
   "outputs": [],
   "source": []
  }
 ],
 "metadata": {
  "kernelspec": {
   "display_name": "Python 3",
   "language": "python",
   "name": "python3"
  },
  "language_info": {
   "codemirror_mode": {
    "name": "ipython",
    "version": 3
   },
   "file_extension": ".py",
   "mimetype": "text/x-python",
   "name": "python",
   "nbconvert_exporter": "python",
   "pygments_lexer": "ipython3",
   "version": "3.7.6"
  }
 },
 "nbformat": 4,
 "nbformat_minor": 4
}
