{
 "cells": [
  {
   "cell_type": "code",
   "execution_count": 1,
   "metadata": {},
   "outputs": [],
   "source": [
    "# recall \\r --> carriage return, retuns the cursor to the beginning\n",
    "#        \\b --> Backspace"
   ]
  },
  {
   "cell_type": "code",
   "execution_count": 2,
   "metadata": {},
   "outputs": [
    {
     "name": "stdout",
     "output_type": "stream",
     "text": [
      "\b \n"
     ]
    }
   ],
   "source": [
    "# flip-book spinner animation\n",
    "\n",
    "from time import sleep\n",
    "\n",
    "# show the spinning animation 3 times\n",
    "print( 'Everybody look busy ', end='', flush=True)  # flush=True allows it to be printed to the screen\n",
    "for x in range(3):\n",
    "    for frame in r'-\\|/-\\|/':\n",
    "        # back up one character then print our next frame in the animation\n",
    "        print('\\b', frame, sep='', end='', flush=True)\n",
    "        sleep(0.2)\n",
    "\n",
    "# back up one character, print a space to erase the spinner, then a newline\n",
    "# so that a prompt after the program exits isn't on the same line as our message\n",
    "\n",
    "print('\\b ')"
   ]
  },
  {
   "cell_type": "code",
   "execution_count": 3,
   "metadata": {},
   "outputs": [
    {
     "name": "stdout",
     "output_type": "stream",
     "text": [
      "This will take a moment\n",
      "[##############################]  100%##                           ]  11%  16%######                        ]  20%########                      ]  27%##########                    ]  34%#############                 ]  44%#################             ]  57%#################             ]  58%########################      ]  81%###########################   ]  91%\n"
     ]
    }
   ],
   "source": [
    "def progress(percent=0, width=30):\n",
    "    # the number of hashes to show is based on the percent passed in the,\n",
    "    # number of blanks is whatever space is left after\n",
    "    hashes = width * percent // 100\n",
    "    blanks = width - hashes\n",
    "    \n",
    "    print('\\r[',hashes * '#', blanks * ' ', ']', f' {percent: .0f}%', sep='', end='', flush=True)\n",
    "    \n",
    "print('This will take a moment')\n",
    "for i in range(101):\n",
    "    progress(i)\n",
    "    sleep(0.1)\n",
    "    \n",
    "# newline so command prompt isn't on the same line\n",
    "print()"
   ]
  },
  {
   "cell_type": "code",
   "execution_count": 1,
   "metadata": {},
   "outputs": [
    {
     "name": "stdout",
     "output_type": "stream",
     "text": [
      "This will take a moment\n",
      "[##############################]100%42%################              ]54%#####################         ]73%############################  ]95%\n"
     ]
    }
   ],
   "source": [
    "# check out pip progressbar2, curses or ncurses and urwid\n",
    "\n",
    "from time import sleep\n",
    "\n",
    "def progress(percent=0, width=30):\n",
    "    # The number of hashes to show is based on the percent passed in. The\n",
    "    # number of blanks is whatever space is left after.\n",
    "    hashes = width * percent // 100\n",
    "    blanks = width - hashes\n",
    "\n",
    "    print('\\r[', hashes*'#', blanks*' ', ']', f'{percent:.0f}%', sep='',\n",
    "        end='', flush=True)\n",
    "\n",
    "print('This will take a moment')\n",
    "for i in range(101):\n",
    "    progress(i)\n",
    "    sleep(0.1)\n",
    "\n",
    "# Newline so command prompt isn't on the same line\n",
    "print()"
   ]
  },
  {
   "cell_type": "code",
   "execution_count": null,
   "metadata": {},
   "outputs": [],
   "source": []
  },
  {
   "cell_type": "code",
   "execution_count": null,
   "metadata": {},
   "outputs": [],
   "source": []
  }
 ],
 "metadata": {
  "kernelspec": {
   "display_name": "Python 3",
   "language": "python",
   "name": "python3"
  },
  "language_info": {
   "codemirror_mode": {
    "name": "ipython",
    "version": 3
   },
   "file_extension": ".py",
   "mimetype": "text/x-python",
   "name": "python",
   "nbconvert_exporter": "python",
   "pygments_lexer": "ipython3",
   "version": "3.7.6"
  }
 },
 "nbformat": 4,
 "nbformat_minor": 4
}
