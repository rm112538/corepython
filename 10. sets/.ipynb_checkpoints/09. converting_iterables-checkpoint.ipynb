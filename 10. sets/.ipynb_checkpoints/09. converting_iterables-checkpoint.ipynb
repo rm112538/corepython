{
 "cells": [
  {
   "cell_type": "markdown",
   "metadata": {},
   "source": [
    "##### convert iterables to set"
   ]
  },
  {
   "cell_type": "code",
   "execution_count": 1,
   "metadata": {
    "scrolled": true
   },
   "outputs": [],
   "source": [
    "# from tuple -> set -> add -> to set\n",
    "s = ('spam', 'egg', 'bacon', 'tomato')    # tuple is hashable and immutable\n",
    "t = set(s)\n",
    "t.add(\"apple\")\n",
    "print(f'Here is a new set derived from a tuple: {t}') "
   ]
  },
  {
   "cell_type": "code",
   "execution_count": 2,
   "metadata": {},
   "outputs": [
    {
     "name": "stdout",
     "output_type": "stream",
     "text": [
      "Here is a new set of dictionary keys derived from a dictionary: {'bacon', 'spam', 'egg', 'tomato'}\n"
     ]
    }
   ],
   "source": [
    "# from list -> set -> add -> to set\n",
    "s = ['spam', 'egg', 'bacon', 'tomato']     # list is unhashable and mutable\n",
    "t = set(s)\n",
    "#t.add([\"apple\"])                     # TypeError: unhashable type: 'list'                    \n",
    "print(f'Here is a new set of dictionary keys derived from a dictionary: {t}') "
   ]
  },
  {
   "cell_type": "code",
   "execution_count": 3,
   "metadata": {},
   "outputs": [
    {
     "name": "stdout",
     "output_type": "stream",
     "text": [
      "Here is a new set of dictionary keys derived from a dictionary: {0, 1, 2, 3}\n"
     ]
    }
   ],
   "source": [
    "# from dict -> set -> add -> to set\n",
    "s = {0:'spam', 1:'egg', 2:'bacon', 3:'tomato'}  #dict is unhashable and mutable\n",
    "t = set(s)\n",
    "#t.add({4: \"apple\"})                       # TypeError: unhashable type: 'dict'\n",
    "print(f'Here is a new set of dictionary keys derived from a dictionary: {t}') "
   ]
  },
  {
   "cell_type": "code",
   "execution_count": null,
   "metadata": {},
   "outputs": [],
   "source": []
  }
 ],
 "metadata": {
  "kernelspec": {
   "display_name": "Python 3",
   "language": "python",
   "name": "python3"
  },
  "language_info": {
   "codemirror_mode": {
    "name": "ipython",
    "version": 3
   },
   "file_extension": ".py",
   "mimetype": "text/x-python",
   "name": "python",
   "nbconvert_exporter": "python",
   "pygments_lexer": "ipython3",
   "version": "3.7.6"
  }
 },
 "nbformat": 4,
 "nbformat_minor": 4
}
