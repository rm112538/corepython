{
 "cells": [
  {
   "cell_type": "code",
   "execution_count": 1,
   "metadata": {},
   "outputs": [],
   "source": [
    "from collections import Counter\n",
    "from typing import List, Dict, Set, Union"
   ]
  },
  {
   "cell_type": "code",
   "execution_count": 2,
   "metadata": {},
   "outputs": [],
   "source": [
    "class Room:\n",
    "    def __init__(self, name: str, size: int)->None:          # must have space btn def and dunder\n",
    "        self.name = name\n",
    "        self.size = size\n",
    "    def __str__(self) -> str:\n",
    "        return f'{self.name}, {self.size}m'    "
   ]
  },
  {
   "cell_type": "code",
   "execution_count": 3,
   "metadata": {},
   "outputs": [],
   "source": [
    "class House:\n",
    "    def __init__(self, available_space: int = 100) -> None:\n",
    "        self.rooms: List[Room] = [] # notice: Room is a class that generates the list\n",
    "        self.available_space = available_space\n",
    "        \n",
    "    def add_rooms(self, *rooms: Room) -> None:\n",
    "        for room in rooms:\n",
    "            if self.size() + room.size <= self.available_space:\n",
    "                self.rooms.append(room)\n",
    "            else:\n",
    "                message = f'{room.name} needs {room.size}m; /{self.available_space - self.size}m'\n",
    "                raise NotEnoughSpaceError(message)\n",
    "                \n",
    "    def __add__(self, room:Room) -> 'House':\n",
    "        if self.size() + room.size <= self.available_space:\n",
    "            output = House(self.available_space)\n",
    "            output.rooms = self.rooms + [room]\n",
    "            return output\n",
    "        else:\n",
    "            message = f'{room.name} needs {room.size}m; / {self.available_space - self.size}m'\n",
    "            raise NotEnoughError(message)\n",
    "            \n",
    "    def __iadd__(self, room:Room) -> 'House':\n",
    "        self.add_rooms(room)  # ref line 6\n",
    "        return self\n",
    "    \n",
    "    def size(self) -> int:\n",
    "        return sum(room.size for room in self.rooms)\n",
    "    \n",
    "    def __str_(self) -> str:\n",
    "        return type(self).__name__+ ':\\n' + '\\n'.join(str(room)for room in self.rooms)\n",
    "    \n",
    "    def calculate_tax(self) -> int:\n",
    "        return self.size() * 100        \n",
    "    "
   ]
  },
  {
   "cell_type": "code",
   "execution_count": 4,
   "metadata": {},
   "outputs": [],
   "source": [
    "class SingleFamilyHouse (House):\n",
    "    def __int__(self, available_space: int = 200) -> None:\n",
    "        super().__init__(available_space)\n",
    "        \n",
    "    def calculate_tax(self) ->int:\n",
    "        if self.size() <= 150:\n",
    "            return self.size() * 120\n",
    "        else:\n",
    "            return 150 *120 +(self.size() - 150) * 150"
   ]
  },
  {
   "cell_type": "code",
   "execution_count": 5,
   "metadata": {},
   "outputs": [],
   "source": [
    "class TownHouse(House):\n",
    "    def __init__(self, available_space: int = 100) -> None:\n",
    "        super().__init__(available_space)"
   ]
  },
  {
   "cell_type": "code",
   "execution_count": 6,
   "metadata": {},
   "outputs": [],
   "source": [
    "class Apartment(House):\n",
    "    def __init__(self, available_space: int = 80) -> None:\n",
    "        super().__init__(available_space)\n",
    "        \n",
    "    def calculate_tax(self) ->int:\n",
    "        return self.size() * 75"
   ]
  },
  {
   "cell_type": "code",
   "execution_count": 7,
   "metadata": {},
   "outputs": [],
   "source": [
    "class Neighborhood:\n",
    "    total_size: int = 0\n",
    "    def __init__(self)-> None:\n",
    "        self.houses: List[House] = []\n",
    "            \n",
    "    def add_houses(self, *houses: House) -> None:\n",
    "        for house in houses:\n",
    "            self.houses.append(house)\n",
    "            Neighborhood.total_size += house.size()\n",
    "            \n",
    "    def __add__(self, house: House) -> 'Neighborhood':\n",
    "        output = Neighborhood()\n",
    "        output.houses = self.houses + [house]\n",
    "        Neighborhood.total_size += house.size()\n",
    "        return output\n",
    "    \n",
    "    def __iadd__(self, house: House) -> 'Neighborhood':\n",
    "        self.add_houses(house)\n",
    "        return self\n",
    "    \n",
    "    def size(self) -> int:\n",
    "        return sum(house.size() for house in self.houses)\n",
    "    \n",
    "    def house_types(self) -> Dict[str, int]:\n",
    "        house_type_list = [type(house).__name__ for house in self.houses] # must have space after __name__\n",
    "        return dict(Counter(house_type_list))\n",
    "    \n",
    "    def calculate_tax(self) ->int:\n",
    "        return sum(house.calculate_tax() for house in self.houses)\n",
    "    \n",
    "    def find_with_room(self, **kwargs: Union[str, int]) -> Set[House]:\n",
    "        output = set()\n",
    "        for house in self.houses:\n",
    "            for room in house.rooms:\n",
    "                if vars(room) == kwargs:\n",
    "                    output.add(house)\n",
    "        return output\n",
    "    \n",
    "class NotEnoughSpaceError(Exception):\n",
    "    pass\n",
    "        "
   ]
  },
  {
   "cell_type": "code",
   "execution_count": null,
   "metadata": {},
   "outputs": [],
   "source": []
  }
 ],
 "metadata": {
  "kernelspec": {
   "display_name": "Python 3",
   "language": "python",
   "name": "python3"
  },
  "language_info": {
   "codemirror_mode": {
    "name": "ipython",
    "version": 3
   },
   "file_extension": ".py",
   "mimetype": "text/x-python",
   "name": "python",
   "nbconvert_exporter": "python",
   "pygments_lexer": "ipython3",
   "version": "3.7.6"
  }
 },
 "nbformat": 4,
 "nbformat_minor": 4
}
