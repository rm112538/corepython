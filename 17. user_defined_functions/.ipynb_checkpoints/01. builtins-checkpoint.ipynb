{
 "cells": [
  {
   "cell_type": "code",
   "execution_count": 13,
   "metadata": {},
   "outputs": [
    {
     "name": "stdout",
     "output_type": "stream",
     "text": [
      "2922040600880\n",
      "140721093257552\n",
      "140721093257552\n"
     ]
    }
   ],
   "source": [
    "# id()\n",
    "s = 'Richard'\n",
    "s[:] is s\n",
    "s[:] == s\n",
    "\n",
    "print(id(s))\n",
    "print(id(s[:] is s))\n",
    "print(id(s[:] == s))"
   ]
  },
  {
   "cell_type": "code",
   "execution_count": 2,
   "metadata": {},
   "outputs": [
    {
     "name": "stdout",
     "output_type": "stream",
     "text": [
      "3\n"
     ]
    }
   ],
   "source": [
    "# len()\n",
    "p = ['bar', 'foo', 'baz']\n",
    "print(len(p))"
   ]
  },
  {
   "cell_type": "code",
   "execution_count": 3,
   "metadata": {},
   "outputs": [
    {
     "name": "stdout",
     "output_type": "stream",
     "text": [
      "True\n"
     ]
    }
   ],
   "source": [
    "# any()\n",
    "p = ['bar', 'foo', 'baz']\n",
    "print(any('bar'))"
   ]
  },
  {
   "cell_type": "code",
   "execution_count": 5,
   "metadata": {},
   "outputs": [
    {
     "name": "stdout",
     "output_type": "stream",
     "text": [
      "True\n"
     ]
    }
   ],
   "source": [
    "# any()\n",
    "p = ['bar', 'foo', 'baz']\n",
    "print(any('qux'))              # notice it retuns True if any of the items in the iterable are truthy"
   ]
  },
  {
   "cell_type": "code",
   "execution_count": 11,
   "metadata": {},
   "outputs": [
    {
     "name": "stdout",
     "output_type": "stream",
     "text": [
      "My output is \"True\" if any of the items in the list is true: True\n",
      "My output is \"False\" if all of the items in the list are: False\n"
     ]
    }
   ],
   "source": [
    "# here is the breakdown\n",
    "print(f'My output is \"True\" if any of the items in the list is true: {any([True, True, False])}')\n",
    "print(f'My output is \"False\" if all of the items in the list are: {any([False, False, False])}')"
   ]
  },
  {
   "cell_type": "code",
   "execution_count": null,
   "metadata": {},
   "outputs": [],
   "source": []
  }
 ],
 "metadata": {
  "kernelspec": {
   "display_name": "Python 3",
   "language": "python",
   "name": "python3"
  },
  "language_info": {
   "codemirror_mode": {
    "name": "ipython",
    "version": 3
   },
   "file_extension": ".py",
   "mimetype": "text/x-python",
   "name": "python",
   "nbconvert_exporter": "python",
   "pygments_lexer": "ipython3",
   "version": "3.7.6"
  }
 },
 "nbformat": 4,
 "nbformat_minor": 4
}
