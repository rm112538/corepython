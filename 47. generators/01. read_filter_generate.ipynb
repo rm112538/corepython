{
 "cells": [
  {
   "cell_type": "markdown",
   "metadata": {},
   "source": [
    "##### generator object\n",
    "\n",
    "23DEC2020 Office Hours- David Amos"
   ]
  },
  {
   "cell_type": "code",
   "execution_count": 1,
   "metadata": {},
   "outputs": [
    {
     "name": "stdout",
     "output_type": "stream",
     "text": [
      "[2, 4, 6, 8, 10, 12, 14, 16, 18]\n"
     ]
    }
   ],
   "source": [
    "# create a generator that reads a log file and filters a large number of text for a speciefic error#  \n",
    "# then narrows it down to specific timestamp (we don't have a logfile thus we are using numbers to simulate the problem)\n",
    "\n",
    "def nums():\n",
    "    n = 1\n",
    "    while n < 500:   # 1_000_000_000_000_000_000\n",
    "        yield n\n",
    "        n +=1\n",
    "        \n",
    "def even_only(numbers):\n",
    "    for n in numbers:\n",
    "        if n % 2 == 0:\n",
    "            yield n\n",
    "            \n",
    "def less_than_20(numbers):\n",
    "    for n in numbers:\n",
    "        if n < 20:\n",
    "            yield n\n",
    "        else:\n",
    "            break\n",
    "\n",
    "numbers = nums()\n",
    "evens = even_only(numbers)\n",
    "small_nums = less_than_20(evens)\n",
    "print(list(small_nums))"
   ]
  },
  {
   "cell_type": "code",
   "execution_count": 2,
   "metadata": {},
   "outputs": [
    {
     "name": "stdout",
     "output_type": "stream",
     "text": [
      "10 12 14 16 18 "
     ]
    }
   ],
   "source": [
    "# create a generator that reads a log file and filters a large number of text for a speciefic error#  \n",
    "# then narrows it down to specific timestamp (we don't have a logfile thus we are using numbers to simulate the problem)\n",
    "\n",
    "def nums():\n",
    "    n = 1\n",
    "    while n < 500:   # 1_000_000_000_000_000_000\n",
    "        yield n\n",
    "        n +=1\n",
    "        \n",
    "def even_only(numbers):\n",
    "    for n in numbers:\n",
    "        if n % 2 == 0:\n",
    "            yield n\n",
    "            \n",
    "def less_than_20(numbers):\n",
    "    for n in numbers:\n",
    "        if n < 20:\n",
    "            yield n\n",
    "        else:\n",
    "            break\n",
    "\n",
    "numbers = nums()\n",
    "evens = even_only(numbers)\n",
    "small_nums = less_than_20(evens)\n",
    "final_val = list(small_nums)\n",
    "\n",
    "# iterating over the output with a filter without printing a full list\n",
    "final_val_itr = iter(final_val)\n",
    "for items in final_val_itr:\n",
    "    if items > 9:\n",
    "        print(items, end=' ')"
   ]
  },
  {
   "cell_type": "code",
   "execution_count": null,
   "metadata": {},
   "outputs": [],
   "source": []
  }
 ],
 "metadata": {
  "kernelspec": {
   "display_name": "Python 3",
   "language": "python",
   "name": "python3"
  },
  "language_info": {
   "codemirror_mode": {
    "name": "ipython",
    "version": 3
   },
   "file_extension": ".py",
   "mimetype": "text/x-python",
   "name": "python",
   "nbconvert_exporter": "python",
   "pygments_lexer": "ipython3",
   "version": "3.7.6"
  }
 },
 "nbformat": 4,
 "nbformat_minor": 4
}
