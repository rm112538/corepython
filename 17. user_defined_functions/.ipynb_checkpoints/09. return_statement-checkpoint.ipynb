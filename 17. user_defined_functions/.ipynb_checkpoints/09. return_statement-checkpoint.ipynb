{
 "cells": [
  {
   "cell_type": "markdown",
   "metadata": {},
   "source": [
    "#### Exiting a Function\n",
    "\n",
    "1.  A return statement causes immediate exit from the python function and transfer execution back to the caller\n"
   ]
  },
  {
   "cell_type": "code",
   "execution_count": 1,
   "metadata": {},
   "outputs": [
    {
     "name": "stdout",
     "output_type": "stream",
     "text": [
      "foo\n",
      "bar\n"
     ]
    }
   ],
   "source": [
    "def f():\n",
    "    print('foo'); print('bar')\n",
    "    return                       # return statement doesn't affect the output here\n",
    "f()"
   ]
  },
  {
   "cell_type": "code",
   "execution_count": 2,
   "metadata": {},
   "outputs": [
    {
     "name": "stdout",
     "output_type": "stream",
     "text": [
      "foo\n",
      "bar\n"
     ]
    }
   ],
   "source": [
    "# without the return statement\n",
    "def f():\n",
    "    print('foo')\n",
    "    print('bar')\n",
    "f()"
   ]
  },
  {
   "cell_type": "markdown",
   "metadata": {},
   "source": [
    "###### return statement in the middle of the code"
   ]
  },
  {
   "cell_type": "code",
   "execution_count": 3,
   "metadata": {},
   "outputs": [
    {
     "name": "stdout",
     "output_type": "stream",
     "text": [
      "64\n"
     ]
    }
   ],
   "source": [
    "# why didn't I get an output with f(-3) and f(105)?\n",
    "\n",
    "def f(x):\n",
    "    if x < 0:\n",
    "        return\n",
    "    if x > 100:\n",
    "        return\n",
    "    print(x)\n",
    "            \n",
    "f(-3)      # The first two calls to f() don’t cause any output, because a \n",
    "f(105)     # return statement is executed and the function exits prematurely, before the print() statement is reached\n",
    "f(64)"
   ]
  },
  {
   "cell_type": "markdown",
   "metadata": {},
   "source": [
    "##### Returning Data to the Caller\n",
    "\n",
    "2.  It provides a mechanism by which the function can pass data back to the caller"
   ]
  },
  {
   "cell_type": "code",
   "execution_count": 4,
   "metadata": {},
   "outputs": [
    {
     "name": "stdout",
     "output_type": "stream",
     "text": [
      "mystring\n"
     ]
    }
   ],
   "source": [
    "# returning a string\n",
    "def f():\n",
    "    return 'mystring'\n",
    "\n",
    "print(f())"
   ]
  },
  {
   "cell_type": "code",
   "execution_count": 5,
   "metadata": {},
   "outputs": [
    {
     "name": "stdout",
     "output_type": "stream",
     "text": [
      "mystring\n"
     ]
    }
   ],
   "source": [
    "# returning a string\n",
    "def f():\n",
    "    return 'mystring'\n",
    "\n",
    "s = f()\n",
    "print(s)"
   ]
  },
  {
   "cell_type": "code",
   "execution_count": 6,
   "metadata": {},
   "outputs": [
    {
     "name": "stdout",
     "output_type": "stream",
     "text": [
      "Caller retrieving data from return statement: {0: 'land', 1: 'air', 2: 'maritime', 3: 'railroad', 4: 'rocket'}\n",
      "Caller retrieving the value of key= 4: rocket\n",
      "\n",
      "Caller retrieving the value of key= 4: dict_keys([0, 1, 2, 3, 4])\n",
      "Caller retrieving the value of key= 4: dict_values(['land', 'air', 'maritime', 'railroad', 'rocket'])\n"
     ]
    }
   ],
   "source": [
    "# returning a dictionary and it's components\n",
    "def f():\n",
    "    return dict({ 0: 'land', 1: 'air',\n",
    "                2: 'maritime', 3: 'railroad',\n",
    "                4: 'rocket'\n",
    "                })\n",
    "\n",
    "print(f'Caller retrieving data from return statement: {f()}')\n",
    "print(f'Caller retrieving the value of key= 4: {f()[4]}')\n",
    "print()\n",
    "print(f'Caller retrieving the value of key= 4: {f().keys()}')\n",
    "print(f'Caller retrieving the value of key= 4: {f().values()}')"
   ]
  },
  {
   "cell_type": "code",
   "execution_count": 8,
   "metadata": {},
   "outputs": [
    {
     "name": "stdout",
     "output_type": "stream",
     "text": [
      "cha\n",
      "dhR\n"
     ]
    }
   ],
   "source": [
    "# slicing returned string \n",
    "def f():\n",
    "    return 'Richard'\n",
    "\n",
    "print(f'{f()[2:5]}')\n",
    "print(f'{f()[::-3]}')"
   ]
  },
  {
   "cell_type": "code",
   "execution_count": 15,
   "metadata": {},
   "outputs": [
    {
     "name": "stdout",
     "output_type": "stream",
     "text": [
      "('richard', 'joseph', 'rikanga', 'kichenge')\n",
      "\n",
      "' a = richard, b = joseph, c = rikanga, d = kichenge'\n"
     ]
    }
   ],
   "source": [
    "# tuples\n",
    "\n",
    "def f():\n",
    "    return 'richard', 'joseph', 'rikanga', 'kichenge'\n",
    "\n",
    "print(f'{f()}')\n",
    "print()\n",
    "\n",
    "from pprint import pprint\n",
    "a, b, c, d = f()\n",
    "pprint(f' a = {a}, b = {b}, c = {c}, d = {d}')  # thought pretty print takes only one argument?\n",
    "                                                # is the entire f-string a single argument?"
   ]
  },
  {
   "cell_type": "code",
   "execution_count": null,
   "metadata": {},
   "outputs": [],
   "source": []
  }
 ],
 "metadata": {
  "kernelspec": {
   "display_name": "Python 3",
   "language": "python",
   "name": "python3"
  },
  "language_info": {
   "codemirror_mode": {
    "name": "ipython",
    "version": 3
   },
   "file_extension": ".py",
   "mimetype": "text/x-python",
   "name": "python",
   "nbconvert_exporter": "python",
   "pygments_lexer": "ipython3",
   "version": "3.7.6"
  }
 },
 "nbformat": 4,
 "nbformat_minor": 4
}
