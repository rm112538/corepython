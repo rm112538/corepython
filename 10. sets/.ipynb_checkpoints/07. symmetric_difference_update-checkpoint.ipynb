{
 "cells": [
  {
   "cell_type": "markdown",
   "metadata": {},
   "source": [
    "###### symmetric_difference_update\n",
    "\n",
    "Only found in one set and not the rest."
   ]
  },
  {
   "cell_type": "code",
   "execution_count": 5,
   "metadata": {},
   "outputs": [
    {
     "name": "stdout",
     "output_type": "stream",
     "text": [
      "Here is a new \"a\" set without the common element between \"a\" and \"b\" sets: {1, 2, 4, 5}.\n"
     ]
    }
   ],
   "source": [
    "# using the method\n",
    "a = {1, 2, 3}\n",
    "b = {3, 4, 5}\n",
    "c = {1, 5, 6}\n",
    "\n",
    "a.symmetric_difference_update(b)\n",
    "print(f'Here is a new \"a\" set without the common element between \"a\" and \"b\" sets: {a}.')"
   ]
  },
  {
   "cell_type": "code",
   "execution_count": 6,
   "metadata": {},
   "outputs": [
    {
     "name": "stdout",
     "output_type": "stream",
     "text": [
      "Here is a new \"a\" set without the common element between \"a\"and \"b\" or \"c\" sets: {2, 4, 6}.\n"
     ]
    }
   ],
   "source": [
    "# using the assignment operator\n",
    "a = {1, 2, 3}\n",
    "b = {3, 4, 5}\n",
    "c = {1, 5, 6}\n",
    "\n",
    "a ^= b ^ c\n",
    "print(f'Here is a new \"a\" set without the common element between \"a\"and \"b\" or \"c\" sets: {a}.')"
   ]
  },
  {
   "cell_type": "code",
   "execution_count": null,
   "metadata": {},
   "outputs": [],
   "source": []
  }
 ],
 "metadata": {
  "kernelspec": {
   "display_name": "Python 3",
   "language": "python",
   "name": "python3"
  },
  "language_info": {
   "codemirror_mode": {
    "name": "ipython",
    "version": 3
   },
   "file_extension": ".py",
   "mimetype": "text/x-python",
   "name": "python",
   "nbconvert_exporter": "python",
   "pygments_lexer": "ipython3",
   "version": "3.7.6"
  }
 },
 "nbformat": 4,
 "nbformat_minor": 4
}
