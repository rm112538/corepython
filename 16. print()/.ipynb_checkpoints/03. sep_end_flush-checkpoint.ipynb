{
 "cells": [
  {
   "cell_type": "code",
   "execution_count": 1,
   "metadata": {},
   "outputs": [
    {
     "name": "stdout",
     "output_type": "stream",
     "text": [
      "year,last,first\n",
      "1949,Mchau,Joseph\n",
      "1950,Shayo,Domini\n",
      "1975,Mchau,Richard\n",
      "1976,Mchau,Brigitta\n",
      "1977,Mchau,Gift\n"
     ]
    }
   ],
   "source": [
    "# making a csv style file\n",
    "d = [\n",
    "    ['year','last','first' ],\n",
    "    [1949, 'Mchau', 'Joseph'],\n",
    "    [1950, 'Shayo', 'Domini'],\n",
    "    [1975, 'Mchau','Richard'],\n",
    "    [1976, 'Mchau', 'Brigitta'],\n",
    "    [1977, 'Mchau', 'Gift']\n",
    "]\n",
    "for row in d:\n",
    "    print(*row, sep=',')"
   ]
  },
  {
   "cell_type": "code",
   "execution_count": 2,
   "metadata": {},
   "outputs": [
    {
     "name": "stdout",
     "output_type": "stream",
     "text": [
      "Counting ...There were 3 items in the list.\n"
     ]
    }
   ],
   "source": [
    "import time\n",
    "def count_items(items):\n",
    "    print('Counting ', end='', flush=True)\n",
    "    num = 0\n",
    "    for item in items:\n",
    "        num+=1\n",
    "        time.sleep(1)\n",
    "        print('.', end='', flush=True)\n",
    "      \n",
    "    print(f'There were {num} items in the list.')\n",
    "   \n",
    "s = ['richard', 'domini','faith'] \n",
    "count_items(s)"
   ]
  },
  {
   "cell_type": "code",
   "execution_count": 3,
   "metadata": {},
   "outputs": [
    {
     "name": "stdout",
     "output_type": "stream",
     "text": [
      "Mercury,Venus,Earth,Mars,Jupiter,Saturn,Uranus,Neptune\n"
     ]
    }
   ],
   "source": [
    "def planets():\n",
    "    print('Mercury', 'Venus', 'Earth', sep=',', end=',')\n",
    "    print('Mars', 'Jupiter', 'Saturn', sep =',', end=',')\n",
    "    print('Uranus', 'Neptune', sep=',') # sep places the commas btn words and flushes the buffer with \\n\n",
    "\n",
    "planets()"
   ]
  },
  {
   "cell_type": "code",
   "execution_count": 4,
   "metadata": {},
   "outputs": [
    {
     "name": "stdout",
     "output_type": "stream",
     "text": [
      "My favorite people are: \n",
      "*Eesefu\n",
      "*Rechadi\n",
      "*Shifti\n"
     ]
    }
   ],
   "source": [
    "def bullets():\n",
    "    print('My favorite people are: ', end='\\n*')\n",
    "    print('Eesefu', end='\\n*')\n",
    "    print('Rechadi', end='\\n*')\n",
    "    print('Shifti')\n",
    "\n",
    "bullets()"
   ]
  },
  {
   "cell_type": "code",
   "execution_count": null,
   "metadata": {},
   "outputs": [],
   "source": []
  }
 ],
 "metadata": {
  "kernelspec": {
   "display_name": "Python 3",
   "language": "python",
   "name": "python3"
  },
  "language_info": {
   "codemirror_mode": {
    "name": "ipython",
    "version": 3
   },
   "file_extension": ".py",
   "mimetype": "text/x-python",
   "name": "python",
   "nbconvert_exporter": "python",
   "pygments_lexer": "ipython3",
   "version": "3.7.6"
  }
 },
 "nbformat": 4,
 "nbformat_minor": 4
}
