{
 "cells": [
  {
   "cell_type": "code",
   "execution_count": 1,
   "metadata": {},
   "outputs": [
    {
     "name": "stdout",
     "output_type": "stream",
     "text": [
      "--> checking.savings.auto\n",
      "--> business.retirement.college.mortgage.trading.trust\n"
     ]
    }
   ],
   "source": [
    "# hard-coded prefix\n",
    "\n",
    "def strap(*args):\n",
    "    print(f\"--> {'.'.join(args)}\")\n",
    "\n",
    "strap('checking', 'savings', 'auto')\n",
    "strap('business', 'retirement', 'college', 'mortgage', 'trading', 'trust')"
   ]
  },
  {
   "cell_type": "code",
   "execution_count": 2,
   "metadata": {},
   "outputs": [
    {
     "name": "stdout",
     "output_type": "stream",
     "text": [
      " -->  ('checking', 'savings', 'auto')\n",
      " -->  ('business', 'retirement', 'college', 'mortgage', 'trading', 'trust')\n"
     ]
    }
   ],
   "source": [
    "# prefix is a positional parameter, so it’s assigned the first argument specified in the call\n",
    "# Keyword-only parameters help solve this dilemma. In the function definition, \n",
    "# specify *args to indicate a variable number of positional arguments, \n",
    "# and then specify prefix after that:\n",
    "\n",
    "def strap(*args, prefix='--> '):\n",
    "    print(f\" {prefix} {args}\")\n",
    "    \n",
    "strap('checking', 'savings', 'auto')\n",
    "strap('business', 'retirement', 'college', 'mortgage', 'trading', 'trust')"
   ]
  },
  {
   "cell_type": "code",
   "execution_count": 3,
   "metadata": {},
   "outputs": [
    {
     "name": "stdout",
     "output_type": "stream",
     "text": [
      " --> checking **savings **auto\n",
      " --> business **retirement **college **mortgage **trading **trust\n"
     ]
    }
   ],
   "source": [
    "def strap(*args, prefix='-->', sep=' **'):\n",
    "    print(f' {prefix} {sep.join(args)}')\n",
    "    \n",
    "strap('checking', 'savings', 'auto')\n",
    "strap('business', 'retirement', 'college', 'mortgage', 'trading', 'trust')    "
   ]
  },
  {
   "cell_type": "code",
   "execution_count": 7,
   "metadata": {},
   "outputs": [
    {
     "name": "stdout",
     "output_type": "stream",
     "text": [
      "7\n",
      " Here is the addition 7\n",
      " Here is the division: 0.75\n"
     ]
    }
   ],
   "source": [
    "# What if you want to define a Python function that takes a keyword-only argument but doesn’t take a \n",
    "# variable number of positional arguments? \n",
    "# For example, the following function performs the specified operation on two numerical arguments:\n",
    "\n",
    "def oper(x, y, op='+'):\n",
    "    if op == '+':\n",
    "            return x + y\n",
    "    elif op == '-':\n",
    "            return x - y\n",
    "    elif op == '/':\n",
    "            return x / y\n",
    "    else:\n",
    "            return None\n",
    "\n",
    "\n",
    "print(f'{oper(3, 4)}')\n",
    "\n",
    "print(f\" Here is the addition {oper(3, 4, '+')}\")\n",
    "\n",
    "print(f\" Here is the division: {oper(3, 4, '/')}\")\n"
   ]
  },
  {
   "cell_type": "code",
   "execution_count": 8,
   "metadata": {},
   "outputs": [
    {
     "name": "stdout",
     "output_type": "stream",
     "text": [
      " Here is the addition: 7\n",
      " Here is the division: 0.75\n"
     ]
    }
   ],
   "source": [
    "# If you wanted to make op a keyword-only parameter, \n",
    "# then you could add an extraneous dummy variable argument parameter and just ignore it:\n",
    "\n",
    "def oper(x, y, *ignore, op='+'):\n",
    "    if op == '+':\n",
    "            return x + y\n",
    "    elif op == '-':\n",
    "            return x - y\n",
    "    elif op == '/':\n",
    "            return x / y\n",
    "    else:\n",
    "            return None\n",
    "\n",
    "\n",
    "print(F\" Here is the addition: {oper(3, 4, op='+')}\")\n",
    "\n",
    "print(F\" Here is the division: {oper(3, 4, op='/')}\")"
   ]
  },
  {
   "cell_type": "code",
   "execution_count": null,
   "metadata": {},
   "outputs": [],
   "source": []
  }
 ],
 "metadata": {
  "kernelspec": {
   "display_name": "Python 3",
   "language": "python",
   "name": "python3"
  },
  "language_info": {
   "codemirror_mode": {
    "name": "ipython",
    "version": 3
   },
   "file_extension": ".py",
   "mimetype": "text/x-python",
   "name": "python",
   "nbconvert_exporter": "python",
   "pygments_lexer": "ipython3",
   "version": "3.7.6"
  }
 },
 "nbformat": 4,
 "nbformat_minor": 4
}
