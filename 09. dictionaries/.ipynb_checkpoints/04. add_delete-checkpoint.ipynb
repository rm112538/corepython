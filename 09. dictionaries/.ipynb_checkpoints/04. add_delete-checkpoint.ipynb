{
 "cells": [
  {
   "cell_type": "code",
   "execution_count": 1,
   "metadata": {},
   "outputs": [
    {
     "name": "stdout",
     "output_type": "stream",
     "text": [
      "Here are the results: {'daredevil': 'kingpin', 'x-men': 'apocalypse', 'batman': 'bane'}.\n"
     ]
    }
   ],
   "source": [
    "# example 1\n",
    "bad_guys = {\n",
    "    'daredevil': 'kingpin',\n",
    "    'x-men': 'apocalypse',\n",
    "    'batman': 'bane'\n",
    "    }\n",
    "print(f'Here are the results: {bad_guys}.')"
   ]
  },
  {
   "cell_type": "code",
   "execution_count": 2,
   "metadata": {},
   "outputs": [
    {
     "name": "stdout",
     "output_type": "stream",
     "text": [
      "{'daredevil': 'kingpin', 'x-men': 'apocalypse', 'batman': 'bane', 'deadpool': 'evil deadpool'}\n"
     ]
    }
   ],
   "source": [
    "# adding new data to the dict\n",
    "bad_guys['deadpool'] = 'evil deadpool'\n",
    "print(bad_guys)"
   ]
  },
  {
   "cell_type": "code",
   "execution_count": 3,
   "metadata": {},
   "outputs": [
    {
     "data": {
      "text/plain": [
       "{'daredevil': 'kingpin', 'batman': 'bane', 'deadpool': 'evil deadpool'}"
      ]
     },
     "execution_count": 3,
     "metadata": {},
     "output_type": "execute_result"
    }
   ],
   "source": [
    "# delete\n",
    "del bad_guys['x-men']\n",
    "bad_guys"
   ]
  },
  {
   "cell_type": "code",
   "execution_count": null,
   "metadata": {},
   "outputs": [],
   "source": []
  }
 ],
 "metadata": {
  "kernelspec": {
   "display_name": "Python 3",
   "language": "python",
   "name": "python3"
  },
  "language_info": {
   "codemirror_mode": {
    "name": "ipython",
    "version": 3
   },
   "file_extension": ".py",
   "mimetype": "text/x-python",
   "name": "python",
   "nbconvert_exporter": "python",
   "pygments_lexer": "ipython3",
   "version": "3.7.6"
  }
 },
 "nbformat": 4,
 "nbformat_minor": 4
}
