{
 "cells": [
  {
   "cell_type": "code",
   "execution_count": 1,
   "metadata": {},
   "outputs": [
    {
     "name": "stdout",
     "output_type": "stream",
     "text": [
      "This is a mutable object: ['foo', 'bar', 'Obizo', 'Richard'].\n",
      "This is a mutable object: ['foo', 'bar', 'Obizo', 'Richard']\n"
     ]
    }
   ],
   "source": [
    "def f(my_list= []):\n",
    "    my_list.append('Richard')\n",
    "    return my_list\n",
    "\n",
    "print(f\"This is a mutable object: {f(['foo', 'bar', 'Obizo'])}.\")\n",
    "print(\"This is a mutable object:\", f(['foo', 'bar', 'Obizo']))"
   ]
  },
  {
   "cell_type": "code",
   "execution_count": 2,
   "metadata": {},
   "outputs": [
    {
     "name": "stdout",
     "output_type": "stream",
     "text": [
      "['Richard']\n"
     ]
    }
   ],
   "source": [
    "# calling f() without arguments\n",
    "print(f()) # singleton list"
   ]
  },
  {
   "cell_type": "code",
   "execution_count": 3,
   "metadata": {},
   "outputs": [
    {
     "name": "stdout",
     "output_type": "stream",
     "text": [
      "2634125884872\n"
     ]
    },
    {
     "data": {
      "text/plain": [
       "['Richard']"
      ]
     },
     "execution_count": 3,
     "metadata": {},
     "output_type": "execute_result"
    }
   ],
   "source": [
    "# checking the id of the list\n",
    "def f(my_list= []):\n",
    "    print(id(my_list))\n",
    "    my_list.append('Richard')\n",
    "    return my_list\n",
    "f()"
   ]
  },
  {
   "cell_type": "code",
   "execution_count": null,
   "metadata": {},
   "outputs": [],
   "source": []
  }
 ],
 "metadata": {
  "kernelspec": {
   "display_name": "Python 3",
   "language": "python",
   "name": "python3"
  },
  "language_info": {
   "codemirror_mode": {
    "name": "ipython",
    "version": 3
   },
   "file_extension": ".py",
   "mimetype": "text/x-python",
   "name": "python",
   "nbconvert_exporter": "python",
   "pygments_lexer": "ipython3",
   "version": "3.7.6"
  }
 },
 "nbformat": 4,
 "nbformat_minor": 4
}
