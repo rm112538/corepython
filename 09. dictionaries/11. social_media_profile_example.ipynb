{
 "cells": [
  {
   "cell_type": "code",
   "execution_count": 5,
   "metadata": {},
   "outputs": [
    {
     "name": "stdout",
     "output_type": "stream",
     "text": [
      "{'fname': 'Richard', 'lname': 'Rikanga', 'City': 'Winston-Salem', 'past_jobs': ['sales', 'preacher', 'technician'], 'transportation': {'plane': 'Gulfstream 5', 'vehicle': 'truck', 'bike': 'Hummer'}}\n"
     ]
    }
   ],
   "source": [
    "# Social media profile\n",
    "my_profile = {}\n",
    "my_profile['fname'] = 'Richard'\n",
    "my_profile['lname'] = 'Rikanga'\n",
    "my_profile['City'] = 'Winston-Salem'\n",
    "my_profile['past_jobs'] = ['sales', 'preacher', 'technician']\n",
    "\n",
    "my_profile['transportation'] = { 'plane':'Gulfstream 5', 'vehicle':'truck', 'bike': 'Hummer'}\n",
    "\n",
    "print(my_profile)"
   ]
  },
  {
   "cell_type": "code",
   "execution_count": 6,
   "metadata": {},
   "outputs": [
    {
     "data": {
      "text/plain": [
       "'preacher'"
      ]
     },
     "execution_count": 6,
     "metadata": {},
     "output_type": "execute_result"
    }
   ],
   "source": [
    "# calling a list index from the dictionary\n",
    "my_profile['past_jobs'][1]"
   ]
  },
  {
   "cell_type": "code",
   "execution_count": 7,
   "metadata": {},
   "outputs": [
    {
     "data": {
      "text/plain": [
       "'Gulfstream 5'"
      ]
     },
     "execution_count": 7,
     "metadata": {},
     "output_type": "execute_result"
    }
   ],
   "source": [
    "# calling values from the transportation dictionary\n",
    "my_profile['transportation']['plane']"
   ]
  },
  {
   "cell_type": "code",
   "execution_count": null,
   "metadata": {},
   "outputs": [],
   "source": []
  }
 ],
 "metadata": {
  "kernelspec": {
   "display_name": "Python 3",
   "language": "python",
   "name": "python3"
  },
  "language_info": {
   "codemirror_mode": {
    "name": "ipython",
    "version": 3
   },
   "file_extension": ".py",
   "mimetype": "text/x-python",
   "name": "python",
   "nbconvert_exporter": "python",
   "pygments_lexer": "ipython3",
   "version": "3.7.6"
  }
 },
 "nbformat": 4,
 "nbformat_minor": 4
}
