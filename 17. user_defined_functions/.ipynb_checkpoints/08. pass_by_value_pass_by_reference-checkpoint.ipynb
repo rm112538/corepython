{
 "cells": [
  {
   "cell_type": "markdown",
   "metadata": {},
   "source": [
    "###### Python Way\n",
    "\n",
    "These assignment statements have the following meaning:\n",
    "\n",
    "1. The first statement causes x to point to an object whose value is 5.\n",
    "2. The next statement reassigns x as a new reference to a different object whose value is 10. \n",
    "Stated another way, the second assignment rebinds x to a different object with value 10."
   ]
  },
  {
   "cell_type": "code",
   "execution_count": 4,
   "metadata": {
    "scrolled": true
   },
   "outputs": [
    {
     "name": "stdout",
     "output_type": "stream",
     "text": [
      "10\n"
     ]
    }
   ],
   "source": [
    "# difference btn pass-by-value, and pass-by-reference in Pascal\n",
    "\n",
    "x = 5\n",
    "x = 10\n",
    "print(x) # Python prints a different object with value 10"
   ]
  },
  {
   "cell_type": "code",
   "execution_count": 14,
   "metadata": {
    "scrolled": true
   },
   "outputs": [
    {
     "name": "stdout",
     "output_type": "stream",
     "text": [
      "x = 5 /id(x) = 140721093779984\n",
      "x = 10 /id(x) = 140721093780144\n"
     ]
    }
   ],
   "source": [
    "# difference btn pass-by-value, and pass-by-reference in Pascal\n",
    "\n",
    "x = 5\n",
    "print('x =', x, '/id(x) =', id(x))\n",
    "x = 10\n",
    "print('x =', x, '/id(x) =', id(x))"
   ]
  },
  {
   "cell_type": "code",
   "execution_count": 13,
   "metadata": {},
   "outputs": [
    {
     "name": "stdout",
     "output_type": "stream",
     "text": [
      "x = 5 /id(x)= 140721093779984\n",
      "x = 10 /id(x) = 140721093780144\n"
     ]
    }
   ],
   "source": [
    "# in python - these two \"x\" variables are pointing to different object\n",
    "# what gets passed is the reference to an object\n",
    "\n",
    "def f(x):\n",
    "    print('x =', x, '/id(x)=', id(x))\n",
    "    x = 10\n",
    "    print('x =', x, '/id(x) =', id(x))    \n",
    "f(x)"
   ]
  },
  {
   "cell_type": "code",
   "execution_count": 7,
   "metadata": {},
   "outputs": [
    {
     "name": "stdout",
     "output_type": "stream",
     "text": [
      "5\n"
     ]
    }
   ],
   "source": [
    "def f(q):\n",
    "    q = 10\n",
    "    \n",
    "x = 5\n",
    "f(x)\n",
    "print(x)"
   ]
  },
  {
   "cell_type": "code",
   "execution_count": 16,
   "metadata": {},
   "outputs": [
    {
     "data": {
      "text/plain": [
       "\"Here is the function call: ['---', 'bar', 'baz', 'qux'].\""
      ]
     },
     "execution_count": 16,
     "metadata": {},
     "output_type": "execute_result"
    }
   ],
   "source": [
    "def f(x):\n",
    "    x[0] = '---'\n",
    "\n",
    "\n",
    "my_list = ['foo', 'bar', 'baz', 'qux']\n",
    "f(my_list)\n",
    "\n",
    "f'Here is the function call: {my_list}.'"
   ]
  },
  {
   "cell_type": "code",
   "execution_count": null,
   "metadata": {},
   "outputs": [],
   "source": []
  }
 ],
 "metadata": {
  "kernelspec": {
   "display_name": "Python 3",
   "language": "python",
   "name": "python3"
  },
  "language_info": {
   "codemirror_mode": {
    "name": "ipython",
    "version": 3
   },
   "file_extension": ".py",
   "mimetype": "text/x-python",
   "name": "python",
   "nbconvert_exporter": "python",
   "pygments_lexer": "ipython3",
   "version": "3.7.6"
  }
 },
 "nbformat": 4,
 "nbformat_minor": 4
}
