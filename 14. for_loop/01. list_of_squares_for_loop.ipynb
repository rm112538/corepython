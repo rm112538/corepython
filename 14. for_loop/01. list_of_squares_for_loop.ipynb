{
 "cells": [
  {
   "cell_type": "code",
   "execution_count": 1,
   "metadata": {},
   "outputs": [
    {
     "name": "stdout",
     "output_type": "stream",
     "text": [
      "[0, 1, 4, 9, 16, 25, 36, 49, 64, 81]\n"
     ]
    }
   ],
   "source": [
    "# create a list of 9 integers starting from 0 using range. \n",
    "# iterate through them and create another list of their squares\n",
    "\n",
    "items = list(range(0, 10))\n",
    "squares = []\n",
    "for item in items:\n",
    "    sq = item **2\n",
    "    squares.append(sq)\n",
    "print(squares)"
   ]
  },
  {
   "cell_type": "code",
   "execution_count": 2,
   "metadata": {},
   "outputs": [
    {
     "name": "stdout",
     "output_type": "stream",
     "text": [
      "[0, 1, 4, 9, 16, 25, 36, 49, 64, 81]\n"
     ]
    }
   ],
   "source": [
    "# create a list of 9 integers starting from 0 using range. \n",
    "# iterate through them and create another list of their squares\n",
    "\n",
    "items = list(range(0, 10))\n",
    "squares = []\n",
    "for item in items:\n",
    "    squares.append(item * item)\n",
    "print(squares)"
   ]
  },
  {
   "cell_type": "code",
   "execution_count": 3,
   "metadata": {},
   "outputs": [
    {
     "name": "stdout",
     "output_type": "stream",
     "text": [
      "[0, 1, 4, 9, 16, 25, 36, 49, 64, 81]\n"
     ]
    }
   ],
   "source": [
    "def squares_list(items):\n",
    "    squares = []\n",
    "    for item in items:\n",
    "        squares.append(item ** 2)\n",
    "    return squares\n",
    "\n",
    "items = list(range(0, 10))\n",
    "new_items = squares_list(items)      # re-assigned a new list from the function output\n",
    "print(f'{new_items}')"
   ]
  },
  {
   "cell_type": "code",
   "execution_count": null,
   "metadata": {},
   "outputs": [],
   "source": []
  }
 ],
 "metadata": {
  "kernelspec": {
   "display_name": "Python 3",
   "language": "python",
   "name": "python3"
  },
  "language_info": {
   "codemirror_mode": {
    "name": "ipython",
    "version": 3
   },
   "file_extension": ".py",
   "mimetype": "text/x-python",
   "name": "python",
   "nbconvert_exporter": "python",
   "pygments_lexer": "ipython3",
   "version": "3.7.6"
  }
 },
 "nbformat": 4,
 "nbformat_minor": 4
}
