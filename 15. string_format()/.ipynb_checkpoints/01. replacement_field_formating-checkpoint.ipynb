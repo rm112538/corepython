{
 "cells": [
  {
   "cell_type": "code",
   "execution_count": 1,
   "metadata": {},
   "outputs": [
    {
     "name": "stdout",
     "output_type": "stream",
     "text": [
      "Hello, Richard\n"
     ]
    }
   ],
   "source": [
    "#using (dot)format\n",
    "print('Hello, {}'.format('Richard'))"
   ]
  },
  {
   "cell_type": "code",
   "execution_count": 2,
   "metadata": {},
   "outputs": [
    {
     "name": "stdout",
     "output_type": "stream",
     "text": [
      "Richard, Mchau\n"
     ]
    }
   ],
   "source": [
    "# formating without a print function\n",
    "print('{}, {}'.format('Richard','Mchau'))"
   ]
  },
  {
   "cell_type": "code",
   "execution_count": 5,
   "metadata": {},
   "outputs": [
    {
     "name": "stdout",
     "output_type": "stream",
     "text": [
      "Kichenge, Rikanga, Joseph, Richard\n"
     ]
    }
   ],
   "source": [
    "# using indecies to determine the order of entry\n",
    "print('{0},{2},{3},{1}'.format('Kichenge', ' Richard', ' Rikanga', ' Joseph'))"
   ]
  },
  {
   "cell_type": "code",
   "execution_count": 6,
   "metadata": {},
   "outputs": [
    {
     "name": "stdout",
     "output_type": "stream",
     "text": [
      "Kichenge, Rikanga, Joseph, Richard\n"
     ]
    }
   ],
   "source": [
    "# using keywords\n",
    "print('{a},{b},{c},{d}'.format(a ='Kichenge', d =' Richard', b =' Rikanga', c =' Joseph'))"
   ]
  },
  {
   "cell_type": "code",
   "execution_count": 19,
   "metadata": {},
   "outputs": [
    {
     "name": "stdout",
     "output_type": "stream",
     "text": [
      "Kichenge, Rikanga, Joseph, Richard\n"
     ]
    }
   ],
   "source": [
    "# using positional argument\n",
    "print('{0},{1},{2},{last}'.format('Kichenge',' Rikanga',' Joseph', last=' Richard')) # watch for positional argument order"
   ]
  },
  {
   "cell_type": "code",
   "execution_count": 20,
   "metadata": {},
   "outputs": [
    {
     "name": "stdout",
     "output_type": "stream",
     "text": [
      "User not found for username Richard\n"
     ]
    }
   ],
   "source": [
    "# example of a string\n",
    "print('User not found for username{username}'.format(username=' Richard'))"
   ]
  },
  {
   "cell_type": "code",
   "execution_count": 22,
   "metadata": {},
   "outputs": [
    {
     "name": "stdout",
     "output_type": "stream",
     "text": [
      "{Richard}\n"
     ]
    }
   ],
   "source": [
    "# escape braces {{}} place my argument inside braces\n",
    "print('{{{}}}'.format('Richard'))"
   ]
  },
  {
   "cell_type": "code",
   "execution_count": null,
   "metadata": {},
   "outputs": [],
   "source": []
  }
 ],
 "metadata": {
  "kernelspec": {
   "display_name": "Python 3",
   "language": "python",
   "name": "python3"
  },
  "language_info": {
   "codemirror_mode": {
    "name": "ipython",
    "version": 3
   },
   "file_extension": ".py",
   "mimetype": "text/x-python",
   "name": "python",
   "nbconvert_exporter": "python",
   "pygments_lexer": "ipython3",
   "version": "3.7.6"
  }
 },
 "nbformat": 4,
 "nbformat_minor": 4
}
