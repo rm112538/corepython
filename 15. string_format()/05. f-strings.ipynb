{
 "cells": [
  {
   "cell_type": "code",
   "execution_count": 4,
   "metadata": {},
   "outputs": [
    {
     "name": "stdout",
     "output_type": "stream",
     "text": [
      "The value of 2 * 3 = 6\n"
     ]
    }
   ],
   "source": [
    "# the power of f- string\n",
    "print(f'The value of 2 * 3 = {2 * 3}')"
   ]
  },
  {
   "cell_type": "code",
   "execution_count": 3,
   "metadata": {},
   "outputs": [
    {
     "name": "stdout",
     "output_type": "stream",
     "text": [
      "The value of 2 * 3 = 6\n"
     ]
    }
   ],
   "source": [
    "# using dot format\n",
    "print('The value of 2 * 3 = {}'.format(2 * 3))"
   ]
  },
  {
   "cell_type": "code",
   "execution_count": 8,
   "metadata": {},
   "outputs": [
    {
     "name": "stdout",
     "output_type": "stream",
     "text": [
      "2.00 3.41 1.00 2.32 "
     ]
    }
   ],
   "source": [
    "nums = [2, 3.41, 1, 2.3241]\n",
    "for num in nums:\n",
    "    print(f'{num:.2f}', end=' ')"
   ]
  },
  {
   "cell_type": "code",
   "execution_count": 18,
   "metadata": {},
   "outputs": [
    {
     "name": "stdout",
     "output_type": "stream",
     "text": [
      "#####2 ##3.41 #####1 2.3241 "
     ]
    }
   ],
   "source": [
    "nums = [2, 3.41, 1, 2.3241]\n",
    "for num in nums:\n",
    "    print(f'{num:#>6}', end=' ')"
   ]
  },
  {
   "cell_type": "code",
   "execution_count": 10,
   "metadata": {},
   "outputs": [
    {
     "name": "stdout",
     "output_type": "stream",
     "text": [
      "2~~~~~ 3.41~~ 1~~~~~ 2.3241 "
     ]
    }
   ],
   "source": [
    "nums = [2, 3.41, 1, 2.3241]\n",
    "for num in nums:\n",
    "    print(f'{num:~<6}', end=' ')"
   ]
  },
  {
   "cell_type": "code",
   "execution_count": 11,
   "metadata": {},
   "outputs": [
    {
     "name": "stdout",
     "output_type": "stream",
     "text": [
      "000002 003.41 000001 2.3241 "
     ]
    }
   ],
   "source": [
    "nums = [2, 3.41, 1, 2.3241]\n",
    "for num in nums:\n",
    "    print(f'{num:0>6}', end=' ')"
   ]
  },
  {
   "cell_type": "code",
   "execution_count": 17,
   "metadata": {},
   "outputs": [
    {
     "name": "stdout",
     "output_type": "stream",
     "text": [
      "Hello, my name is michael.\n"
     ]
    }
   ],
   "source": [
    "# Write the code for a Python function greet(person) that returns the string 'Hello, my name is <name>.', \n",
    "# with person inserted in place of <name>.\n",
    "# Use an f-string to perform the variable interpolation:\n",
    "\n",
    "def greet(person):\n",
    "    return f'Hello, my name is {person}.'\n",
    "\n",
    "# called the function to show that it works\n",
    "s = 'Michael'\n",
    "print(greet(s))"
   ]
  },
  {
   "cell_type": "code",
   "execution_count": null,
   "metadata": {},
   "outputs": [],
   "source": []
  }
 ],
 "metadata": {
  "kernelspec": {
   "display_name": "Python 3",
   "language": "python",
   "name": "python3"
  },
  "language_info": {
   "codemirror_mode": {
    "name": "ipython",
    "version": 3
   },
   "file_extension": ".py",
   "mimetype": "text/x-python",
   "name": "python",
   "nbconvert_exporter": "python",
   "pygments_lexer": "ipython3",
   "version": "3.7.6"
  }
 },
 "nbformat": 4,
 "nbformat_minor": 4
}
