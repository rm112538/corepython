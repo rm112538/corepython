{
 "cells": [
  {
   "cell_type": "code",
   "execution_count": 1,
   "metadata": {},
   "outputs": [
    {
     "name": "stdout",
     "output_type": "stream",
     "text": [
      "Move top disk from a to c\n",
      "Move top disk from a to b\n",
      "Move top disk from c to b\n",
      "Move top disk from a to c\n",
      "Move top disk from b to a\n",
      "Move top disk from b to c\n",
      "Move top disk from a to c\n"
     ]
    }
   ],
   "source": [
    "# Hanoi Tower Solver\n",
    "def solve_tower(num_disks, start, end, extra):\n",
    "    if (num_disks > 0):\n",
    "        solve_tower(num_disks-1, start, extra, end)\n",
    "        print('Move top disk from', start, 'to', end)\n",
    "        solve_tower(num_disks-1, extra, end, start)\n",
    "solve_tower(3, 'a', 'c','b')"
   ]
  },
  {
   "cell_type": "code",
   "execution_count": null,
   "metadata": {},
   "outputs": [],
   "source": []
  }
 ],
 "metadata": {
  "kernelspec": {
   "display_name": "Python 3",
   "language": "python",
   "name": "python3"
  },
  "language_info": {
   "codemirror_mode": {
    "name": "ipython",
    "version": 3
   },
   "file_extension": ".py",
   "mimetype": "text/x-python",
   "name": "python",
   "nbconvert_exporter": "python",
   "pygments_lexer": "ipython3",
   "version": "3.7.6"
  }
 },
 "nbformat": 4,
 "nbformat_minor": 4
}
