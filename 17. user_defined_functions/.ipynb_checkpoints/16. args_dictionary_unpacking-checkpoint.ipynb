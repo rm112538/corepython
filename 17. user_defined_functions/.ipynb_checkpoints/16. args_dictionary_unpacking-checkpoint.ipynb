{
 "cells": [
  {
   "cell_type": "markdown",
   "metadata": {},
   "source": [
    "##### conclusion\n",
    "\n",
    "Think of *args as a variable-length positional argument list, and **kwargs as a variable-length keyword argument list."
   ]
  },
  {
   "cell_type": "code",
   "execution_count": 1,
   "metadata": {},
   "outputs": [
    {
     "name": "stdout",
     "output_type": "stream",
     "text": [
      " a = Richard\n",
      " b = Joseph\n",
      " c = Rikanga\n",
      " d = Kichenge\n",
      "None\n"
     ]
    }
   ],
   "source": [
    "# items in the dictionary lineage are unpacked and passed to f() as keyword arguments\n",
    "def f(a, b, c, d):       # positional arguments\n",
    "    print(F' a = {a}')\n",
    "    print(f' b = {b}')\n",
    "    print(f' c = {c}')\n",
    "    print(f' d = {d}')\n",
    "    \n",
    "lineage = {'a':'Richard', 'b':'Joseph', 'c':'Rikanga', 'd':'Kichenge'}\n",
    "print(f'{f(**lineage)}')\n"
   ]
  },
  {
   "cell_type": "code",
   "execution_count": 2,
   "metadata": {},
   "outputs": [
    {
     "name": "stdout",
     "output_type": "stream",
     "text": [
      " a = Richard\n",
      " b = 1949\n",
      " c = Rikanga\n",
      " d = Kichenge\n",
      "None\n"
     ]
    }
   ],
   "source": [
    "\n",
    "lineage = dict(a = 'Richard', b = 1949, c = 'Rikanga', d ='Kichenge') # another way of defining dictionary\n",
    "print(f'{f(**lineage)}')"
   ]
  },
  {
   "cell_type": "code",
   "execution_count": 4,
   "metadata": {},
   "outputs": [
    {
     "name": "stdout",
     "output_type": "stream",
     "text": [
      " a = Richard\n",
      " b = Joseph\n",
      " c = Rikanga\n",
      " d = Kichenge\n",
      "None\n"
     ]
    }
   ],
   "source": [
    "# unpacking in one line\n",
    "print(f\"{f(**dict(a = 'Richard', b ='Joseph', c = 'Rikanga', d ='Kichenge'))}\")"
   ]
  },
  {
   "cell_type": "code",
   "execution_count": 15,
   "metadata": {},
   "outputs": [
    {
     "name": "stdout",
     "output_type": "stream",
     "text": [
      " argv = ['/opt/miniconda3/envs/my-conda-env/bin/python', '-m', 'ipykernel_launcher', '-f', '{connection_file}']\n",
      " display_name = my-conda-env-kernel\n",
      " language = python\n"
     ]
    }
   ],
   "source": [
    "# example of kwargs unpacking\n",
    "\n",
    "def unpack_this(**kwargs):\n",
    "    print(f' argv = {d[\"argv\"]}')\n",
    "    print(f' display_name = {d[\"display_name\"]}')\n",
    "    print(f' language = {d[\"language\"]}')\n",
    "          \n",
    "d = {\n",
    " \"argv\": [\n",
    "  \"/opt/miniconda3/envs/my-conda-env/bin/python\",\n",
    "  \"-m\",\n",
    "  \"ipykernel_launcher\",\n",
    "  \"-f\",\n",
    "  \"{connection_file}\"\n",
    " ],\n",
    " \"display_name\": \"my-conda-env-kernel\",\n",
    " \"language\": \"python\"\n",
    "}\n",
    "\n",
    "unpack_this(**d)"
   ]
  },
  {
   "cell_type": "code",
   "execution_count": null,
   "metadata": {},
   "outputs": [],
   "source": []
  }
 ],
 "metadata": {
  "kernelspec": {
   "display_name": "Python 3",
   "language": "python",
   "name": "python3"
  },
  "language_info": {
   "codemirror_mode": {
    "name": "ipython",
    "version": 3
   },
   "file_extension": ".py",
   "mimetype": "text/x-python",
   "name": "python",
   "nbconvert_exporter": "python",
   "pygments_lexer": "ipython3",
   "version": "3.7.6"
  }
 },
 "nbformat": 4,
 "nbformat_minor": 4
}
