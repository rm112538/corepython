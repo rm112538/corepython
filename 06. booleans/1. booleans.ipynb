{
 "cells": [
  {
   "cell_type": "markdown",
   "metadata": {},
   "source": [
    "#### Objectives\n",
    "\n",
    "1. examine how boolean evaluates the 'is' statement\n",
    "2. examine how boolean evalueates the '==' expression\n",
    "3. examine how boolean evalueates 'id()' function\n",
    "4. examing how boolean evaluates 'small integers'\n",
    "5. examine how boolean evaluates chained comparison expressions\n",
    "6. examine how boolean evaluates expression inside parenthesis\n",
    "7. examine how boolean evaluates string type data\n",
    "8. examine how boolean evaluates floating data types\n",
    "9. examine the truthiness of the input\n"
   ]
  },
  {
   "cell_type": "code",
   "execution_count": 13,
   "metadata": {},
   "outputs": [
    {
     "name": "stdout",
     "output_type": "stream",
     "text": [
      " The result of \"x is x\" is True.\n",
      " The result of \"x == x\" is True.\n",
      " The result of \"id(x) is id(x)\" is False.\n",
      " The result of \"id(x) == id(x)\" is True.\n",
      "\n",
      "\n",
      " The result of \"x is not x\" is False.\n",
      " The result of \"x != x\" is False.\n",
      " The result of \"id(x) is not id(x)\" is True.\n",
      " The result of \"id(x) != id(x)\" is False.\n"
     ]
    }
   ],
   "source": [
    "x = []\n",
    "\n",
    "\n",
    "print(f' The result of \"x is x\" is {x is x}.')\n",
    "print(f' The result of \"x == x\" is {x == x}.')\n",
    "print(f' The result of \"id(x) is id(x)\" is {id(x) is id(x)}.')\n",
    "print(f' The result of \"id(x) == id(x)\" is {id(x) == id(x)}.')\n",
    "print('\\n')\n",
    "print(f' The result of \"x is not x\" is {x is not x}.')\n",
    "print(f' The result of \"x != x\" is {x != x}.')\n",
    "print(f' The result of \"id(x) is not id(x)\" is {id(x) is not id(x)}.')\n",
    "print(f' The result of \"id(x) != id(x)\" is {id(x) != id(x)}.')"
   ]
  },
  {
   "cell_type": "code",
   "execution_count": null,
   "metadata": {},
   "outputs": [],
   "source": []
  },
  {
   "cell_type": "code",
   "execution_count": 17,
   "metadata": {},
   "outputs": [
    {
     "name": "stdout",
     "output_type": "stream",
     "text": [
      " The result of \"x is y\" is False.\n",
      " The result of \"x != x\" is False.\n",
      " The result of \"id(x) is id(y)\" is False.\n",
      " The result of \"id(x) == id(y)\" is False.\n"
     ]
    }
   ],
   "source": [
    "x = []\n",
    "y = []\n",
    "\n",
    "print(f' The result of \"x is y\" is {x is y}.')\n",
    "print(f' The result of \"x != x\" is {x != x}.')\n",
    "print(f' The result of \"id(x) is id(y)\" is {id(x) is id(y)}.')\n",
    "print(f' The result of \"id(x) == id(y)\" is {id(x) == id(y)}.')"
   ]
  },
  {
   "cell_type": "code",
   "execution_count": 18,
   "metadata": {},
   "outputs": [
    {
     "name": "stdout",
     "output_type": "stream",
     "text": [
      " The result of \"x is y\" is True.\n",
      " The result of \"x != x\" is False.\n",
      " The result of \"id(x) is id(y)\" is False.\n",
      " The result of \"id(x) == id(y)\" is True.\n"
     ]
    }
   ],
   "source": [
    "# small integers effect\n",
    "x = 100\n",
    "y = 100\n",
    "\n",
    "print(f' The result of \"x is y\" is {x is y}.')\n",
    "print(f' The result of \"x != x\" is {x != x}.')\n",
    "print(f' The result of \"id(x) is id(y)\" is {id(x) is id(y)}.')\n",
    "print(f' The result of \"id(x) == id(y)\" is {id(x) == id(y)}.')"
   ]
  },
  {
   "cell_type": "code",
   "execution_count": 19,
   "metadata": {},
   "outputs": [
    {
     "name": "stdout",
     "output_type": "stream",
     "text": [
      " The result of \"x is y\" is False.\n",
      " The result of \"x != x\" is False.\n",
      " The result of \"id(x) is id(y)\" is False.\n",
      " The result of \"id(x) == id(y)\" is False.\n"
     ]
    }
   ],
   "source": [
    "# large integers effect -5 to 256 => small integers\n",
    "x = 257\n",
    "y = 257\n",
    "\n",
    "print(f' The result of \"x is y\" is {x is y}.')\n",
    "print(f' The result of \"x != x\" is {x != x}.')\n",
    "print(f' The result of \"id(x) is id(y)\" is {id(x) is id(y)}.')\n",
    "print(f' The result of \"id(x) == id(y)\" is {id(x) == id(y)}.')"
   ]
  },
  {
   "cell_type": "code",
   "execution_count": 26,
   "metadata": {},
   "outputs": [
    {
     "name": "stdout",
     "output_type": "stream",
     "text": [
      " The result of \"1<2<3\" is True.\n",
      " The result of \"1<2<3 == 1 < 2 and 2 < 3\" is True.\n",
      "\n",
      "\n",
      " The result of \"1<3<2\" is False.\n",
      " The result of \"1<3<2 == 1 < 3 and 3 < 2\" is False.\n"
     ]
    }
   ],
   "source": [
    "# chained comparison\n",
    "a = 1<2<3\n",
    "b = 1<3<2\n",
    "\n",
    "print(f' The result of \"1<2<3\" is {a}.')\n",
    "print(f' The result of \"1<2<3 == 1 < 2 and 2 < 3\" is {a == 1 < 2 and 2 < 3}.')\n",
    "print('\\n')\n",
    "print(f' The result of \"1<3<2\" is {b}.')  \n",
    "print(f' The result of \"1<3<2 == 1 < 3 and 3 < 2\" is {b == 1 < 3 and 3 < 2}.')"
   ]
  },
  {
   "cell_type": "code",
   "execution_count": 32,
   "metadata": {},
   "outputs": [
    {
     "name": "stdout",
     "output_type": "stream",
     "text": [
      " a == a is True.\n",
      " a is a is True.\n",
      " a is a < 1 is True.\n",
      " a is a < 1 is True.\n",
      " (a is a) < 1 is False.\n"
     ]
    }
   ],
   "source": [
    "# mixing operators and chaining\n",
    "a = 0\n",
    "\n",
    "print(f' a == a is {a == a}.')\n",
    "print(f' a is a is {a is a}.')\n",
    "print(f' a is a < 1 is {a is a < 1}.')\n",
    "print(f' a is a < 1 is {a is a and a < 1}.')\n",
    "print(f' (a is a) < 1 is {(a is a) < 1}.') # notice the parenthesis effect"
   ]
  },
  {
   "cell_type": "code",
   "execution_count": 50,
   "metadata": {},
   "outputs": [
    {
     "name": "stdout",
     "output_type": "stream",
     "text": [
      "False\n",
      "True\n",
      "\n",
      "False\n",
      "True\n",
      "True\n",
      "True\n",
      "True\n",
      "\n",
      "False\n",
      "True\n",
      "True\n",
      "True\n"
     ]
    }
   ],
   "source": [
    "# dealing with booleans\n",
    "print(bool(None))\n",
    "print(bool('None')) # bool of a string\n",
    "print()\n",
    "print(bool([])) # a set of [True, False, True, True, False]  as a boolean expression\n",
    "print(bool([True, False, False]))\n",
    "print(bool([False, True, True]))\n",
    "print(bool([False, False, True]))\n",
    "print(bool([False, False, False]))\n",
    "\n",
    "print()\n",
    "print(bool(0))\n",
    "print(bool(-1)) # bool of Non-Zeros\n",
    "print(bool(1))\n",
    "print(bool(3))"
   ]
  },
  {
   "cell_type": "code",
   "execution_count": 51,
   "metadata": {},
   "outputs": [
    {
     "data": {
      "text/plain": [
       "True"
      ]
     },
     "execution_count": 51,
     "metadata": {},
     "output_type": "execute_result"
    }
   ],
   "source": [
    "bool(0.1 + 0.2 + (-0.2) + (-0.1))"
   ]
  },
  {
   "cell_type": "code",
   "execution_count": 58,
   "metadata": {},
   "outputs": [
    {
     "name": "stdout",
     "output_type": "stream",
     "text": [
      "The truthness of \"1 and 2\" is 2.\n",
      "The truthness of \"0 and 2\" is 0.\n",
      "The truthness of \"1 or 2\" is 1.\n",
      "The truthness of \"0 or 2\" is 2.\n"
     ]
    }
   ],
   "source": [
    "# evaluating the truthness of the input\n",
    "print(f'The truthness of \"1 and 2\" is {1 and 2}.') # the last value that was evaluated\n",
    "print(f'The truthness of \"0 and 2\" is {0 and 2}.') #  '0' was evaluate and the rest ignored\n",
    "print(f'The truthness of \"1 or 2\" is {1 or 2}.') #  '1' bool-True was first evaluated \n",
    "print(f'The truthness of \"0 or 2\" is {0 or 2}.') # false or True => True"
   ]
  },
  {
   "cell_type": "code",
   "execution_count": null,
   "metadata": {},
   "outputs": [],
   "source": []
  }
 ],
 "metadata": {
  "kernelspec": {
   "display_name": "Python 3",
   "language": "python",
   "name": "python3"
  },
  "language_info": {
   "codemirror_mode": {
    "name": "ipython",
    "version": 3
   },
   "file_extension": ".py",
   "mimetype": "text/x-python",
   "name": "python",
   "nbconvert_exporter": "python",
   "pygments_lexer": "ipython3",
   "version": "3.7.6"
  }
 },
 "nbformat": 4,
 "nbformat_minor": 4
}
