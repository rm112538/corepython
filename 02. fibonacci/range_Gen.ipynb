{
 "cells": [
  {
   "cell_type": "code",
   "execution_count": 1,
   "metadata": {},
   "outputs": [
    {
     "name": "stdout",
     "output_type": "stream",
     "text": [
      "0\n",
      "1\n",
      "2\n",
      "3\n",
      "4\n",
      "5\n",
      "6\n",
      "7\n",
      "8\n"
     ]
    }
   ],
   "source": [
    "# How to generate a range of number using a for-loop\n",
    "#for i in range(start, stop, [step])\n",
    "\n",
    "for x in range(9):\n",
    "    print(x)"
   ]
  },
  {
   "cell_type": "code",
   "execution_count": 5,
   "metadata": {},
   "outputs": [
    {
     "name": "stdout",
     "output_type": "stream",
     "text": [
      "0,1,2,3,4,5,6,7,8,"
     ]
    }
   ],
   "source": [
    "for x in range(9):\n",
    "    print(x, end=',')"
   ]
  },
  {
   "cell_type": "code",
   "execution_count": 6,
   "metadata": {},
   "outputs": [
    {
     "name": "stdout",
     "output_type": "stream",
     "text": [
      "0 1 2 3 4 5 6 7 8 9 "
     ]
    }
   ],
   "source": [
    "for x in range(0,10):\n",
    "    print(x, end=' ')"
   ]
  },
  {
   "cell_type": "code",
   "execution_count": 7,
   "metadata": {},
   "outputs": [
    {
     "name": "stdout",
     "output_type": "stream",
     "text": [
      "0 2 4 6 8 "
     ]
    }
   ],
   "source": [
    "for x in range(0,10,2):\n",
    "    print(x, end=' ')"
   ]
  },
  {
   "cell_type": "code",
   "execution_count": 8,
   "metadata": {},
   "outputs": [
    {
     "name": "stdout",
     "output_type": "stream",
     "text": [
      "0 2 4 6 8 10 12 14 "
     ]
    }
   ],
   "source": [
    "for x in range(0,15):\n",
    "    if(x % 2==0):\n",
    "        print(x, end=' ')"
   ]
  },
  {
   "cell_type": "code",
   "execution_count": 9,
   "metadata": {},
   "outputs": [
    {
     "name": "stdout",
     "output_type": "stream",
     "text": [
      "2.5 3.0 3.5 4.0 4.5 5.0 "
     ]
    }
   ],
   "source": [
    "# The native loop doesn't iterate floating numbers. \n",
    "# Got to use a different method to obtain a range of floating numbers\n",
    "\n",
    "import numpy as np\n",
    "\n",
    "for x in np.arange(2.5,5.5,0.5):\n",
    "    print(x.round(1),end=' ')\n",
    "    "
   ]
  },
  {
   "cell_type": "code",
   "execution_count": 7,
   "metadata": {},
   "outputs": [
    {
     "name": "stdout",
     "output_type": "stream",
     "text": [
      "Print this range in one line:\n",
      " [ 2.5  3.   3.5  4.   4.5  5.   5.5  6.   6.5  7.   7.5  8.   8.5  9.\n",
      "  9.5 10.  10.5 11.  11.5 12.  12.5 13.  13.5 14.  14.5 15.  15.5 16.\n",
      " 16.5 17.  17.5 18.  18.5 19.  19.5 20.  20.5 21.  21.5 22.  22.5 23.\n",
      " 23.5 24.  24.5 25. ] \n",
      "\n"
     ]
    }
   ],
   "source": [
    "print('Print this range in one line:\\n', np.arange(2.5,25.5,0.5),'\\n')"
   ]
  },
  {
   "cell_type": "markdown",
   "metadata": {},
   "source": [
    "### Using numpy linespace\n",
    "\n",
    "The numpy.linspace() returns number spaces evenly w.r.t interval. Similar to arange, but instead of step, \n",
    "it uses a sample number.\n",
    "\n",
    "linspace(start, stop, num, endpoint)\n",
    "\n",
    "1. start: The starting number of the range by default, it starts with 0 if not specified.\n",
    "2. stop: The end of the interval range.\n",
    "3. num: Number of samples to generate, default is 50. It cannot be negative, i.e., The Total numbers \n",
    "    you want in the output range.\n",
    "4. endpoint: Set it to False if you don’t’ want to include stop value in the result."
   ]
  },
  {
   "cell_type": "code",
   "execution_count": 10,
   "metadata": {},
   "outputs": [
    {
     "name": "stdout",
     "output_type": "stream",
     "text": [
      "range from 0 to 100\n",
      "0.0 25.0 50.0 75.0 100.0 "
     ]
    }
   ],
   "source": [
    "import numpy as np\n",
    "print(\"range from 0 to 100\")\n",
    "\n",
    "for i in np.linspace(0, 100, num=5):\n",
    "    print(i, end=' ')"
   ]
  },
  {
   "cell_type": "code",
   "execution_count": 12,
   "metadata": {},
   "outputs": [
    {
     "name": "stdout",
     "output_type": "stream",
     "text": [
      "2.5 5.0 7.5 10.0 12.5 "
     ]
    }
   ],
   "source": [
    "#print(\"range from 2.5 to 12.5\")\n",
    "for i in np.linspace(2.5, 12.5, num=5):\n",
    "    print(i, end=' ')"
   ]
  },
  {
   "cell_type": "code",
   "execution_count": 6,
   "metadata": {},
   "outputs": [
    {
     "name": "stdout",
     "output_type": "stream",
     "text": [
      "\n",
      " Without including stop number in the result\n",
      "range from 2.5 to 12.5\n",
      "\n",
      "2.5, 4.5, 6.5, 8.5, 10.5, "
     ]
    }
   ],
   "source": [
    "print(\"\\n Without including stop number in the result\")\n",
    "print(\"range from 2.5 to 12.5\\n\")\n",
    "for i in np.linspace(2.5, 12.5, num=5, endpoint=False):\n",
    "    print(i, end=', ')"
   ]
  },
  {
   "cell_type": "code",
   "execution_count": 20,
   "metadata": {},
   "outputs": [
    {
     "name": "stdout",
     "output_type": "stream",
     "text": [
      "-1.0 -0.8 -0.6 -0.3 -0.1 0.1 0.3 0.6 0.8 1.0 "
     ]
    }
   ],
   "source": [
    "# Linespace also supports ranges starting from negative values\n",
    "\n",
    "for x in np.linspace(-1.0, 1.0, 10, endpoint=True):\n",
    "    print(x.round(1), end= ' ')"
   ]
  },
  {
   "cell_type": "markdown",
   "metadata": {},
   "source": [
    "### Use a list comprehension to generate a range of float numbers"
   ]
  },
  {
   "cell_type": "code",
   "execution_count": 23,
   "metadata": {},
   "outputs": [
    {
     "name": "stdout",
     "output_type": "stream",
     "text": [
      "range from 0.5 to 9.5 using list comprehension\n",
      "0.5, 1.0, 1.5, 2.0, 2.5, 3.0, 3.5, 4.0, 4.5, 5.0, 5.5, 6.0, 6.5, 7.0, 7.5, 8.0, 8.5, 9.0, 9.5, "
     ]
    },
    {
     "data": {
      "text/plain": [
       "[None,\n",
       " None,\n",
       " None,\n",
       " None,\n",
       " None,\n",
       " None,\n",
       " None,\n",
       " None,\n",
       " None,\n",
       " None,\n",
       " None,\n",
       " None,\n",
       " None,\n",
       " None,\n",
       " None,\n",
       " None,\n",
       " None,\n",
       " None,\n",
       " None]"
      ]
     },
     "execution_count": 23,
     "metadata": {},
     "output_type": "execute_result"
    }
   ],
   "source": [
    "print(\"range from 0.5 to 9.5 using list comprehension\")\n",
    "[print(x / 10.0, end=\", \") for x in range(5, 100, 5)] #if x.isdigit())"
   ]
  },
  {
   "cell_type": "code",
   "execution_count": 8,
   "metadata": {},
   "outputs": [
    {
     "name": "stdout",
     "output_type": "stream",
     "text": [
      "[0.5 1.  1.5 2. ]\n",
      "[2.5 3.  3.5 4. ]\n",
      "[4.5 5.  5.5 6. ]\n",
      "[6.5 7.  7.5 8. ]\n",
      "[ 8.5  9.   9.5 10. ]\n"
     ]
    },
    {
     "data": {
      "text/plain": [
       "[None, None, None, None, None]"
      ]
     },
     "execution_count": 8,
     "metadata": {},
     "output_type": "execute_result"
    }
   ],
   "source": [
    "# Using a List Comprehension\n",
    "[print(x) for x in np.arange(0.5,10.5,0.5).reshape(5,4)] \n",
    "\n",
    "# also try reshape.(-1,4) the array will adjust to 4 columns"
   ]
  },
  {
   "cell_type": "markdown",
   "metadata": {},
   "source": [
    "### Generate floating-point range using a itertools in Python"
   ]
  },
  {
   "cell_type": "code",
   "execution_count": 14,
   "metadata": {},
   "outputs": [
    {
     "name": "stdout",
     "output_type": "stream",
     "text": [
      "0.5, 1, 1.5, 2, 2.5, 3, 3.5, 4, 4.5, 5, 5.5, 6, 6.5, 7, 7.5, 8, 8.5, 9, 9.5, 10, "
     ]
    }
   ],
   "source": [
    "import itertools\n",
    "\n",
    "def seq(start, end, step):\n",
    "    assert(step != 0)\n",
    "    sample_count = int(abs(end - start) / step)\n",
    "    return itertools.islice(itertools.count(start, step), sample_count)\n",
    "\n",
    "for i in seq(0.5, 10.5, 0.5):\n",
    "    print (\"%g\" %i, end=\", \")"
   ]
  },
  {
   "cell_type": "markdown",
   "metadata": {},
   "source": [
    "### Exercises"
   ]
  },
  {
   "cell_type": "markdown",
   "metadata": {},
   "source": [
    "Question 1: Given a two integer numbers return their product and  if the product is greater than 1000, then return their sum\n",
    "\n",
    "1. number1 = 20\n",
    "2. number2 = 30\n",
    "\n",
    "https://pynative.com/python-basic-exercise-for-beginners/"
   ]
  },
  {
   "cell_type": "code",
   "execution_count": 15,
   "metadata": {},
   "outputs": [
    {
     "name": "stdout",
     "output_type": "stream",
     "text": [
      "Here is the result 600\n"
     ]
    }
   ],
   "source": [
    "number1 = 20\n",
    "number2 = 30\n",
    "\n",
    "def multi_or_sum(number1, number2):\n",
    "    \n",
    "    product = number1 * number2\n",
    "    \n",
    "    if(number1 * number2 <= 1000):\n",
    "        return product \n",
    "    else:\n",
    "        total = number1 + number2\n",
    "        return total\n",
    "    \n",
    "results = multi_or_sum(number1,number2)\n",
    "\n",
    "print(\"Here is the result\", results)"
   ]
  },
  {
   "cell_type": "markdown",
   "metadata": {},
   "source": [
    "Question 2: Given a range of first 10 numbers, Iterate from start number to the end number and print the sum of the current number and previous number"
   ]
  },
  {
   "cell_type": "code",
   "execution_count": 16,
   "metadata": {},
   "outputs": [],
   "source": [
    "def prev_Curr_Sum(num):\n",
    "    \n",
    "    previousNum= 0 # initializing the previousNum\n",
    "    \n",
    "    for i in range(num):\n",
    "        total = previousNum + i\n",
    "        print('previous number is ', previousNum,'current number is ', i, ' the sum is', total)\n",
    "        previousNum = i # making the previous number equal to the next i in the loop since the first one is Zero\n",
    "        "
   ]
  },
  {
   "cell_type": "code",
   "execution_count": 17,
   "metadata": {},
   "outputs": [
    {
     "name": "stdout",
     "output_type": "stream",
     "text": [
      "Printing current and previous number sum in a given range(10)\n",
      "previous number is  0 current number is  0  the sum is 0\n",
      "previous number is  0 current number is  1  the sum is 1\n",
      "previous number is  1 current number is  2  the sum is 3\n",
      "previous number is  2 current number is  3  the sum is 5\n",
      "previous number is  3 current number is  4  the sum is 7\n",
      "previous number is  4 current number is  5  the sum is 9\n",
      "previous number is  5 current number is  6  the sum is 11\n",
      "previous number is  6 current number is  7  the sum is 13\n",
      "previous number is  7 current number is  8  the sum is 15\n",
      "previous number is  8 current number is  9  the sum is 17\n"
     ]
    }
   ],
   "source": [
    "print(\"Printing current and previous number sum in a given range(10)\")\n",
    "prev_Curr_Sum(10)"
   ]
  },
  {
   "cell_type": "markdown",
   "metadata": {},
   "source": [
    "Question 3: Given a string, display only those characters which are present at an even index number.\n",
    "\n",
    "For example str = \"pynative\" so you should display ‘p’, ‘n’, ‘t’, ‘v’."
   ]
  },
  {
   "cell_type": "code",
   "execution_count": 18,
   "metadata": {},
   "outputs": [],
   "source": [
    "def sel_even(str):\n",
    "    \n",
    "    for i in range(0, len(str)-1):\n",
    "        if(i % 2 == 0):\n",
    "            print('index[',i,']', str[i])  # print(str[i])\n",
    "    return sel_even "
   ]
  },
  {
   "cell_type": "code",
   "execution_count": 19,
   "metadata": {},
   "outputs": [
    {
     "name": "stdout",
     "output_type": "stream",
     "text": [
      "index[ 0 ] p\n",
      "index[ 2 ] n\n",
      "index[ 4 ] t\n",
      "index[ 6 ] v\n",
      "<function sel_even at 0x000001DA672F6D38>\n"
     ]
    }
   ],
   "source": [
    "input_string = 'pynative'\n",
    "print(sel_even(input_string))"
   ]
  },
  {
   "cell_type": "code",
   "execution_count": 20,
   "metadata": {},
   "outputs": [],
   "source": [
    "def sel_odds(str):\n",
    "    for i in range(0, len(str)-1):\n",
    "        if(i % 2 != 0):\n",
    "            print(str[i])\n",
    "    return sel_odds"
   ]
  },
  {
   "cell_type": "code",
   "execution_count": 21,
   "metadata": {},
   "outputs": [
    {
     "name": "stdout",
     "output_type": "stream",
     "text": [
      "y\n",
      "a\n",
      "i\n",
      "<function sel_odds at 0x000001DA672FB3A8>\n"
     ]
    }
   ],
   "source": [
    "input_string = 'pynative'\n",
    "print(sel_odds(input_string))"
   ]
  },
  {
   "cell_type": "markdown",
   "metadata": {},
   "source": [
    "Question 5: Given a list of numbers, return True if first and last number of a list is same"
   ]
  },
  {
   "cell_type": "code",
   "execution_count": 22,
   "metadata": {},
   "outputs": [],
   "source": [
    "def pal_List(num_List):\n",
    "    firstNum = num_List[0]\n",
    "    lastNum = num_List[len(num_List)-1] #[-1] #for i in range(0, len(num_List)-1):\n",
    "    \n",
    "    if(firstNum == lastNum):\n",
    "        print('Result is:', True)\n",
    "    else:\n",
    "        print('Result is:', False)\n",
    "    return pal_List"
   ]
  },
  {
   "cell_type": "code",
   "execution_count": 23,
   "metadata": {},
   "outputs": [
    {
     "name": "stdout",
     "output_type": "stream",
     "text": [
      "Result is: True\n",
      "<function pal_List at 0x000001DA672FBD38>\n"
     ]
    }
   ],
   "source": [
    "input_list = [10, 20, 30, 40, 10]\n",
    "print(pal_List(input_list))"
   ]
  },
  {
   "cell_type": "markdown",
   "metadata": {},
   "source": [
    "Question 6: Given a list of numbers, Iterate it and print only those numbers which are divisible of 5"
   ]
  },
  {
   "cell_type": "code",
   "execution_count": 24,
   "metadata": {},
   "outputs": [],
   "source": [
    "def div_by_five(num_list):\n",
    "    for i in num_list:  # do not use a range to iterate through a list\n",
    "        if(i % 5 ==0):\n",
    "            print(i)\n",
    "    return div_by_five"
   ]
  },
  {
   "cell_type": "code",
   "execution_count": 25,
   "metadata": {},
   "outputs": [
    {
     "name": "stdout",
     "output_type": "stream",
     "text": [
      "The list of numbers that are divisible by five\n",
      "10\n",
      "20\n",
      "55\n",
      "<function div_by_five at 0x000001DA66290288>\n"
     ]
    }
   ],
   "source": [
    "print('The list of numbers that are divisible by five')\n",
    "input_List = [10, 20, 33, 46, 55]\n",
    "print(div_by_five(input_List))"
   ]
  },
  {
   "cell_type": "markdown",
   "metadata": {},
   "source": [
    "Question 7: Return the total count of sub-string “Emma” appears in the given string"
   ]
  },
  {
   "cell_type": "code",
   "execution_count": 28,
   "metadata": {},
   "outputs": [],
   "source": [
    "def ret_StrCount (statement):\n",
    "    count = 0\n",
    "    \n",
    "    for i in range(0, len(statement)-1):\n",
    "        if( i + 4 == 'Emma'):\n",
    "            count(i)\n",
    "            print('There are:', count,'counts of Emma') #count('Emma')            \n",
    "        return count   \n"
   ]
  },
  {
   "cell_type": "code",
   "execution_count": 29,
   "metadata": {},
   "outputs": [
    {
     "name": "stdout",
     "output_type": "stream",
     "text": [
      "0\n"
     ]
    }
   ],
   "source": [
    "input_string = 'Emma is good developer. Emma is a writer'\n",
    "#print(ret_StrCount(input_string))\n",
    "print(input_string.find('Emma'))"
   ]
  },
  {
   "cell_type": "markdown",
   "metadata": {},
   "source": [
    "#### Another attempt :\n",
    "https://stackoverflow.com/questions/8899905/count-number-of-occurrences-of-a-given-substring-in-a-string\n"
   ]
  },
  {
   "cell_type": "code",
   "execution_count": 28,
   "metadata": {},
   "outputs": [
    {
     "name": "stdout",
     "output_type": "stream",
     "text": [
      "There are 2 occurances of Emma in the input statement\n"
     ]
    }
   ],
   "source": [
    "#Another approach\n",
    "s = 'Emma is good developer. Emma is a writer'\n",
    "sb = 'Emma'\n",
    "results = 0\n",
    "sub_len = len(sb)\n",
    "for i in range(len(s)):\n",
    "    if s[i:i+sub_len] == sb:\n",
    "        results += 1\n",
    "print('There are', results,'occurances of Emma in the input statement' )"
   ]
  },
  {
   "cell_type": "code",
   "execution_count": 31,
   "metadata": {},
   "outputs": [
    {
     "name": "stdout",
     "output_type": "stream",
     "text": [
      "There are 2 occurances of Emma in the input string.\n"
     ]
    }
   ],
   "source": [
    "# using string method count() python 3.6+\n",
    "s = 'Emma is good developer. Emma is a writer'\n",
    "sub = 'Emma'\n",
    "print(f'There are {s.count(sub)} occurances of Emma in the input string.')"
   ]
  },
  {
   "cell_type": "code",
   "execution_count": 29,
   "metadata": {},
   "outputs": [
    {
     "name": "stdout",
     "output_type": "stream",
     "text": [
      "There are 2 occurances of Emma in the statement.\n"
     ]
    }
   ],
   "source": [
    "# Using RegEx\n",
    "\n",
    "import re\n",
    "input_statement = 'Emma is good developer. Emma is a writer'\n",
    "sub_string = 'Emma'\n",
    "print('There are', len(re.findall(f'(?={sub_string})', input_statement)), 'occurances of Emma in the statement.')"
   ]
  },
  {
   "cell_type": "markdown",
   "metadata": {},
   "source": [
    "#### Solution from the questioner"
   ]
  },
  {
   "cell_type": "code",
   "execution_count": 30,
   "metadata": {},
   "outputs": [
    {
     "name": "stdout",
     "output_type": "stream",
     "text": [
      "Given String:  Emma is good developer. Emma is a writer\n",
      "Emma appeared  2 times\n"
     ]
    }
   ],
   "source": [
    "def count_emma(str):\n",
    "    print(\"Given String: \", str)\n",
    "    count = 0\n",
    "    for i in range(len(str)):\n",
    "        count += str[i: i + 4] == 'Emma'        \n",
    "    return count\n",
    "\n",
    "count = count_emma(\"Emma is good developer. Emma is a writer\")\n",
    "print(\"Emma appeared \", count, \"times\")"
   ]
  },
  {
   "cell_type": "markdown",
   "metadata": {},
   "source": [
    "#### Solution 2 not sure how it works\n",
    "\n",
    "1. If you use input_string.find() you should find the string you are looking for. Here is the syntax\n",
    "string.find(substring,start,end)\n",
    "2. I am not sure why they didn't use i anywhere but when I eliminate the for-loop the program only finds one Emma\n"
   ]
  },
  {
   "cell_type": "code",
   "execution_count": 31,
   "metadata": {},
   "outputs": [
    {
     "name": "stdout",
     "output_type": "stream",
     "text": [
      "The total count of substring Emma is: 2\n"
     ]
    }
   ],
   "source": [
    "input_string = 'Emma is good developer. Emma is a writer'\n",
    "startIndex = 0\n",
    "count = 0\n",
    "for i in range(len(input_string)): ## Not sure if this for-loop is firing\n",
    "    k = input_string.find('Emma', startIndex)\n",
    "    if(k != -1):\n",
    "        startIndex = k+1\n",
    "        count += 1\n",
    "        k = 0\n",
    "\n",
    "print(\"The total count of substring Emma is:\", count)"
   ]
  },
  {
   "cell_type": "markdown",
   "metadata": {},
   "source": [
    "#### Best way to input string from the user and check for a string of characters"
   ]
  },
  {
   "cell_type": "code",
   "execution_count": 12,
   "metadata": {},
   "outputs": [
    {
     "name": "stdout",
     "output_type": "stream",
     "text": [
      "Enter the main string: Emma is good developer. Emma is a writer.\n",
      "enter the substring: Emma\n",
      "2\n"
     ]
    }
   ],
   "source": [
    "s = input('Enter the main string: ')\n",
    "p=input('enter the substring: ')\n",
    "l=[]\n",
    "for i in range(len(s)):\n",
    "    l.append(s[i:i+len(p)])\n",
    "print(l.count(p))"
   ]
  },
  {
   "cell_type": "markdown",
   "metadata": {},
   "source": [
    "Question 8: Print the following pattern"
   ]
  },
  {
   "cell_type": "raw",
   "metadata": {},
   "source": [
    "1 \n",
    "2 2 \n",
    "3 3 3 \n",
    "4 4 4 4 \n",
    "5 5 5 5 5"
   ]
  },
  {
   "cell_type": "code",
   "execution_count": 32,
   "metadata": {},
   "outputs": [
    {
     "name": "stdout",
     "output_type": "stream",
     "text": [
      "Enter the number of rows:5\n",
      "1\n",
      "12\n",
      "123\n",
      "1234\n",
      "12345\n"
     ]
    }
   ],
   "source": [
    "# First attempt\n",
    "n = int(input('Enter the number of rows:'))\n",
    "for i in range(1, n+1):\n",
    "    for j in range(1, i+1):\n",
    "        print(j, end='') # note the j\n",
    "    print()"
   ]
  },
  {
   "cell_type": "code",
   "execution_count": 33,
   "metadata": {},
   "outputs": [
    {
     "name": "stdout",
     "output_type": "stream",
     "text": [
      "Enter the number of rows:5\n",
      "1\n",
      "22\n",
      "333\n",
      "4444\n",
      "55555\n"
     ]
    }
   ],
   "source": [
    "# First attempt\n",
    "n = int(input('Enter the number of rows:'))\n",
    "for i in range(1, n+1):\n",
    "    for j in range(1, i+1):\n",
    "        print(i, end='') # note the i\n",
    "    print()"
   ]
  },
  {
   "cell_type": "code",
   "execution_count": 34,
   "metadata": {},
   "outputs": [
    {
     "name": "stdout",
     "output_type": "stream",
     "text": [
      "1 \n",
      "2 2 \n",
      "3 3 3 \n",
      "4 4 4 4 \n",
      "5 5 5 5 5 \n"
     ]
    }
   ],
   "source": [
    "# The author's solution\n",
    "for num in range(1,6):\n",
    "    for i in range(num):\n",
    "        print (num, end=\" \") #print number\n",
    "    # new line after each row to display pattern correctly\n",
    "    print()"
   ]
  },
  {
   "cell_type": "markdown",
   "metadata": {},
   "source": [
    "Question 9: Reverse a given number and return true if it is the same as the original number"
   ]
  },
  {
   "cell_type": "code",
   "execution_count": 22,
   "metadata": {},
   "outputs": [
    {
     "name": "stdout",
     "output_type": "stream",
     "text": [
      "['dates', 'guava', 'avocado', 'papaya', 'mango']\n",
      "['avocado', 'dates', 'guava', 'mango', 'papaya']\n"
     ]
    },
    {
     "data": {
      "text/plain": [
       "(None, None)"
      ]
     },
     "execution_count": 22,
     "metadata": {},
     "output_type": "execute_result"
    }
   ],
   "source": [
    "thisList = ['mango', 'papaya', 'avocado', 'guava','dates']\n",
    "thisList.reverse()  # reverse only works with lists?\n",
    "print(thisList), print(sorted(thisList))"
   ]
  },
  {
   "cell_type": "code",
   "execution_count": 28,
   "metadata": {},
   "outputs": [
    {
     "name": "stdout",
     "output_type": "stream",
     "text": [
      "Enter the integer number: 345\n",
      "The reverse number is : 543\n"
     ]
    }
   ],
   "source": [
    "# https://www.javatpoint.com/how-to-reverse-a-number-in-python  \n",
    "numbers = 121, 345,675\n",
    "\n",
    "number = int(input(\"Enter the integer number: \"))\n",
    "revs_number = 0\n",
    "while (number > 0):\n",
    "    remainder = number % 10\n",
    "    revs_number = (revs_number * 10) + remainder\n",
    "    number = number // 10 \n",
    "print(\"The reverse number is : {}\".format(revs_number))  "
   ]
  },
  {
   "cell_type": "code",
   "execution_count": 34,
   "metadata": {},
   "outputs": [
    {
     "name": "stdout",
     "output_type": "stream",
     "text": [
      "original number 121\n",
      "The original and reverse number is the same: True\n"
     ]
    }
   ],
   "source": [
    "# Author's solution\n",
    "def reverseCheck(number):\n",
    "    print(\"original number\", number)\n",
    "    originalNum = number\n",
    "    reverseNum = 0\n",
    "    while (number > 0):\n",
    "        reminder = number % 10\n",
    "        reverseNum = (reverseNum * 10) + reminder\n",
    "        number = number // 10\n",
    "    if (originalNum == reverseNum):\n",
    "        return True\n",
    "    else:\n",
    "        return False\n",
    "\n",
    "print(\"The original and reverse number is the same:\", reverseCheck(121))"
   ]
  },
  {
   "cell_type": "raw",
   "metadata": {},
   "source": [
    "Question 10: Given a two list of numbers create a new list such that new list should contain only odd numbers from the first list and even numbers from the second list\n",
    "Expected Output:\n",
    "\n",
    "First List  [10, 20, 23, 11, 17]\n",
    "Second List  [13, 43, 24, 36, 12]\n",
    "\n",
    "result List is [23, 11, 17, 24, 36, 12]"
   ]
  },
  {
   "cell_type": "code",
   "execution_count": 46,
   "metadata": {
    "scrolled": true
   },
   "outputs": [],
   "source": [
    "def res_list(firstList, secondList):\n",
    "    new_list=[]    \n",
    "    for i in firstList:        \n",
    "        if (i % 2 != 0):\n",
    "            new_list.append(i)\n",
    "    for j in secondList:\n",
    "        if (j % 2 == 0):\n",
    "            new_list.append(j)\n",
    "    return new_list"
   ]
  },
  {
   "cell_type": "code",
   "execution_count": 47,
   "metadata": {},
   "outputs": [
    {
     "name": "stdout",
     "output_type": "stream",
     "text": [
      "Here is the new list [23, 11, 17, 24, 36, 12]\n"
     ]
    }
   ],
   "source": [
    "firstList  = [10, 20, 23, 11, 17]\n",
    "SecondList = [13, 43, 24, 36, 12]\n",
    "print('Here is the new list', res_list(lis_1, lis_2))"
   ]
  },
  {
   "cell_type": "code",
   "execution_count": 49,
   "metadata": {},
   "outputs": [
    {
     "name": "stdout",
     "output_type": "stream",
     "text": [
      "p\n",
      "a\n",
      "s\n",
      "s\n",
      "w\n",
      "o\n",
      "r\n",
      "d\n"
     ]
    }
   ],
   "source": [
    "for one_item in str('password'):\n",
    "    print(one_item)"
   ]
  },
  {
   "cell_type": "code",
   "execution_count": 10,
   "metadata": {},
   "outputs": [
    {
     "data": {
      "text/plain": [
       "'__main__'"
      ]
     },
     "execution_count": 10,
     "metadata": {},
     "output_type": "execute_result"
    }
   ],
   "source": [
    "__name__"
   ]
  },
  {
   "cell_type": "code",
   "execution_count": 56,
   "metadata": {},
   "outputs": [],
   "source": [
    "# defining and generating a range Advanced\n",
    "def myrange(first, second=None, step=1):\n",
    "    if second is None:\n",
    "        current = 0\n",
    "        maxnum = first\n",
    "    else:\n",
    "        current = first\n",
    "        maxnum = second\n",
    "    if step > 0:                # accounts for decreemting\n",
    "        while current < maxnum:\n",
    "            yield current\n",
    "            current += step\n",
    "    else:\n",
    "        while current > maxnum:\n",
    "            yield current\n",
    "            current += step"
   ]
  },
  {
   "cell_type": "code",
   "execution_count": 57,
   "metadata": {},
   "outputs": [
    {
     "data": {
      "text/plain": [
       "[0, 1, 2, 3, 4]"
      ]
     },
     "execution_count": 57,
     "metadata": {},
     "output_type": "execute_result"
    }
   ],
   "source": [
    "list(myrange(5))"
   ]
  },
  {
   "cell_type": "code",
   "execution_count": 58,
   "metadata": {},
   "outputs": [
    {
     "data": {
      "text/plain": [
       "[5, 6, 7, 8, 9, 10, 11, 12, 13, 14]"
      ]
     },
     "execution_count": 58,
     "metadata": {},
     "output_type": "execute_result"
    }
   ],
   "source": [
    "list(myrange(5,15))"
   ]
  },
  {
   "cell_type": "code",
   "execution_count": 59,
   "metadata": {},
   "outputs": [
    {
     "data": {
      "text/plain": [
       "[5, 7, 9, 11, 13, 15, 17, 19]"
      ]
     },
     "execution_count": 59,
     "metadata": {},
     "output_type": "execute_result"
    }
   ],
   "source": [
    "list(myrange(5,20,2))"
   ]
  },
  {
   "cell_type": "code",
   "execution_count": 60,
   "metadata": {},
   "outputs": [
    {
     "data": {
      "text/plain": [
       "[0, 3, 6, 9, 12, 15, 18]"
      ]
     },
     "execution_count": 60,
     "metadata": {},
     "output_type": "execute_result"
    }
   ],
   "source": [
    "list(myrange(20, step = 3))"
   ]
  },
  {
   "cell_type": "code",
   "execution_count": 55,
   "metadata": {},
   "outputs": [
    {
     "data": {
      "text/plain": [
       "[20, 17, 14, 11, 8, 5]"
      ]
     },
     "execution_count": 55,
     "metadata": {},
     "output_type": "execute_result"
    }
   ],
   "source": [
    "list(myrange(20, 2, -3))"
   ]
  },
  {
   "cell_type": "code",
   "execution_count": null,
   "metadata": {},
   "outputs": [],
   "source": []
  },
  {
   "cell_type": "code",
   "execution_count": null,
   "metadata": {},
   "outputs": [],
   "source": []
  },
  {
   "cell_type": "code",
   "execution_count": null,
   "metadata": {},
   "outputs": [],
   "source": []
  }
 ],
 "metadata": {
  "kernelspec": {
   "display_name": "Python 3",
   "language": "python",
   "name": "python3"
  },
  "language_info": {
   "codemirror_mode": {
    "name": "ipython",
    "version": 3
   },
   "file_extension": ".py",
   "mimetype": "text/x-python",
   "name": "python",
   "nbconvert_exporter": "python",
   "pygments_lexer": "ipython3",
   "version": "3.7.6"
  }
 },
 "nbformat": 4,
 "nbformat_minor": 4
}
