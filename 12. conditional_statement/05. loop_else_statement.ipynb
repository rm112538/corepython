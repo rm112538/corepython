{
 "cells": [
  {
   "cell_type": "code",
   "execution_count": 1,
   "metadata": {},
   "outputs": [
    {
     "name": "stdout",
     "output_type": "stream",
     "text": [
      "Yay!  Found e\n"
     ]
    }
   ],
   "source": [
    "s = 'abcdef'\n",
    "look_for = 'e'\n",
    "\n",
    "for one_letter in s:\n",
    "    if look_for == one_letter:\n",
    "        print(f\"Yay!  Found {look_for}\")\n",
    "        break\n",
    "\n",
    "else:  # runs only if the loop got to its natural end -- no break\n",
    "    print(f\"Did *NOT* find letter: {look_for}.\")"
   ]
  },
  {
   "cell_type": "code",
   "execution_count": 2,
   "metadata": {},
   "outputs": [
    {
     "name": "stdout",
     "output_type": "stream",
     "text": [
      "Did *NOT* find letter: z.\n"
     ]
    }
   ],
   "source": [
    "s = 'abcdef'\n",
    "look_for = 'z'\n",
    "\n",
    "for one_letter in s:\n",
    "    if look_for == one_letter:\n",
    "        print(f\"Yay!  Found {look_for}\")\n",
    "        break\n",
    "\n",
    "else:  # runs only if the loop got to its natural end -- no break\n",
    "    print(f\"Did *NOT* find letter: {look_for}.\")"
   ]
  },
  {
   "cell_type": "code",
   "execution_count": null,
   "metadata": {},
   "outputs": [],
   "source": []
  }
 ],
 "metadata": {
  "kernelspec": {
   "display_name": "Python 3",
   "language": "python",
   "name": "python3"
  },
  "language_info": {
   "codemirror_mode": {
    "name": "ipython",
    "version": 3
   },
   "file_extension": ".py",
   "mimetype": "text/x-python",
   "name": "python",
   "nbconvert_exporter": "python",
   "pygments_lexer": "ipython3",
   "version": "3.7.6"
  }
 },
 "nbformat": 4,
 "nbformat_minor": 4
}
