{
 "cells": [
  {
   "cell_type": "markdown",
   "metadata": {},
   "source": [
    "###### print() as a debugger\n",
    "\n",
    "print() as a debugging tool has some problems:\n",
    "    1. Not all software runs in a terminal ( e.g. applications on servers or in devices)\n",
    "    2. May have to look for clues about a bug long after it occurs\n",
    "    3. Not thread safe!"
   ]
  },
  {
   "cell_type": "code",
   "execution_count": 1,
   "metadata": {},
   "outputs": [],
   "source": [
    "# printing a year in the movie credits example"
   ]
  },
  {
   "cell_type": "code",
   "execution_count": 2,
   "metadata": {},
   "outputs": [],
   "source": [
    "def movie_year(number):\n",
    "    roman = {1: 'I', 5: 'V', 10: 'X', 50: 'L', 100: 'C', 500: 'D', 1000:'M',}\n",
    "    \n",
    "    output = []\n",
    "    divisor = 1000\n",
    "    for digit in [int(x) for x in str(number)]:\n",
    "        if digit <= 3:\n",
    "            # e.g. 3 -> 3*'I' -> 'III'\n",
    "            output.append(roman[divisor] * digit)\n",
    "        elif digit == 4:\n",
    "            output.append(roman[divisor * 5] + roman[digit] * (divisor - 5))\n",
    "        elif 5 < digit <= 8:\n",
    "            output.append(roman[divisor * 5] + roman[digit] * (divisor - 5))\n",
    "        elif digit == 9:\n",
    "            output.append(roman[divisor] + roman[divisor * 10])\n",
    "        divisor = int(divisor / 10)\n",
    "    return ''.join(output)"
   ]
  },
  {
   "cell_type": "code",
   "execution_count": 3,
   "metadata": {},
   "outputs": [
    {
     "data": {
      "text/plain": [
       "('MM', 'MCMXCIII', 'MM')"
      ]
     },
     "execution_count": 3,
     "metadata": {},
     "output_type": "execute_result"
    }
   ],
   "source": [
    "# let's look for buggs\n",
    "movie_year(2000), movie_year(1993), movie_year(2005)  # we have buggs here"
   ]
  },
  {
   "cell_type": "code",
   "execution_count": 4,
   "metadata": {},
   "outputs": [],
   "source": [
    "# placing print statements in the code at various stages\n",
    "\n",
    "def movie_year(number):\n",
    "    roman = {1: 'I', 5: 'V', 10: 'X', 50: 'L', 100: 'C', 500: 'D', 1000:'M',}\n",
    "    \n",
    "    output = []\n",
    "    divisor = 1000\n",
    "    print(f'movie_year({number})')            # -----> is the function called?\n",
    "    for digit in [int(x) for x in str(number)]:\n",
    "        print(f'   digit={digit} divisor = {divisor}')           # -----> iterating over each digit\n",
    "        if digit <= 3:\n",
    "            # e.g. 3 -> 3*'I' -> 'III'\n",
    "            output.append(roman[divisor] * digit)\n",
    "        elif digit == 4:\n",
    "            output.append(roman[divisor * 5] + roman[digit] * (divisor - 5))\n",
    "        elif 5 < digit <= 8:\n",
    "            output.append(roman[divisor * 5] + roman[digit] * (divisor - 5))\n",
    "        elif digit == 9:\n",
    "            output.append(roman[divisor] + roman[divisor * 10])\n",
    "        divisor = int(divisor / 10)\n",
    "        print('     ', output)              # ------->\n",
    "    return ''.join(output)"
   ]
  },
  {
   "cell_type": "code",
   "execution_count": 5,
   "metadata": {},
   "outputs": [
    {
     "name": "stdout",
     "output_type": "stream",
     "text": [
      "movie_year(2015)\n",
      "   digit=2 divisor = 1000\n",
      "      ['MM']\n",
      "   digit=0 divisor = 100\n",
      "      ['MM', '']\n",
      "   digit=1 divisor = 10\n",
      "      ['MM', '', 'X']\n",
      "   digit=5 divisor = 1\n",
      "      ['MM', '', 'X']\n"
     ]
    },
    {
     "data": {
      "text/plain": [
       "'MMX'"
      ]
     },
     "execution_count": 5,
     "metadata": {},
     "output_type": "execute_result"
    }
   ],
   "source": [
    "# testing different parts of the code\n",
    "movie_year(2015)"
   ]
  },
  {
   "cell_type": "code",
   "execution_count": 6,
   "metadata": {},
   "outputs": [],
   "source": [
    "# Working version! Yay!\n",
    "def movie_year(number):\n",
    "    roman = {1: 'I', 5: 'V', 10: 'X', 50: 'L', 100: 'C', 500: 'D', 1000:'M',}\n",
    "    \n",
    "    output = []\n",
    "    divisor = 1000\n",
    "    print(f'movie_year({number})')            # -----> is the function called?\n",
    "    for digit in [int(x) for x in str(number)]:\n",
    "        print(f'   digit={digit} divisor = {divisor}')           # -----> iterating over each digit \n",
    "        if 1 <= digit <= 3:                       #notice the change\n",
    "            # e.g. 3 -> 3*'I' -> 'III'\n",
    "            output.append(roman[divisor] * digit)\n",
    "        elif digit == 4:\n",
    "            output.append(roman[divisor * 5] + roman[digit] * (divisor - 5))\n",
    "        elif 5 <= digit <= 8:                                                   #-----> changed to '<='\n",
    "            output.append(roman[divisor * 5] + roman[digit] * (divisor - 5))\n",
    "        elif digit == 9:\n",
    "            output.append(roman[divisor] + roman[divisor * 10])\n",
    "        divisor = int(divisor / 10)\n",
    "        print('     ', output)              # -------> see the final output\n",
    "    return ''.join(output)"
   ]
  },
  {
   "cell_type": "code",
   "execution_count": 7,
   "metadata": {},
   "outputs": [
    {
     "name": "stdout",
     "output_type": "stream",
     "text": [
      "movie_year(2015)\n",
      "   digit=2 divisor = 1000\n",
      "      ['MM']\n",
      "   digit=0 divisor = 100\n",
      "      ['MM']\n",
      "   digit=1 divisor = 10\n",
      "      ['MM', 'X']\n",
      "   digit=5 divisor = 1\n",
      "      ['MM', 'X', 'V']\n"
     ]
    },
    {
     "data": {
      "text/plain": [
       "'MMXV'"
      ]
     },
     "execution_count": 7,
     "metadata": {},
     "output_type": "execute_result"
    }
   ],
   "source": [
    "movie_year(2015)"
   ]
  },
  {
   "cell_type": "code",
   "execution_count": 8,
   "metadata": {},
   "outputs": [
    {
     "name": "stdout",
     "output_type": "stream",
     "text": [
      "movie_year(1995)\n",
      "   digit=1 divisor = 1000\n",
      "      ['M']\n",
      "   digit=9 divisor = 100\n",
      "      ['M', 'CM']\n",
      "   digit=9 divisor = 10\n",
      "      ['M', 'CM', 'XC']\n",
      "   digit=5 divisor = 1\n",
      "      ['M', 'CM', 'XC', 'V']\n"
     ]
    },
    {
     "data": {
      "text/plain": [
       "'MCMXCV'"
      ]
     },
     "execution_count": 8,
     "metadata": {},
     "output_type": "execute_result"
    }
   ],
   "source": [
    "movie_year(1995)"
   ]
  },
  {
   "cell_type": "code",
   "execution_count": 9,
   "metadata": {},
   "outputs": [],
   "source": [
    "# from normal digit to roman numerals\n",
    "#  create a function that parses over a supplied four digit number and convert the number to roman numerals. \n",
    "# e.g. 2000 = 'MM'\n",
    "\n",
    "def arabic_to_roman_numerals(number):\n",
    "    roman = {1: 'I', 5: 'V', 10: 'X', 50: 'L', 100: 'C', 500: 'D', 1000:'M'}\n",
    "    output = []\n",
    "    divisor = 1000\n",
    "    for item in [int(x) for x in str(number)]:\n",
    "        if 1 <= item <= 3:\n",
    "            output.append(roman[divisor] * item)\n",
    "        elif item == 4:\n",
    "            output.append(roman[divisor * 5] + roman[item] * (divisor - 5))\n",
    "        elif 5 <= item <= 8:                                                   #-----> changed to '<='\n",
    "            output.append(roman[divisor * 5] + roman[item] * (divisor - 5))\n",
    "        elif item == 9:\n",
    "            output.append(roman[divisor] + roman[divisor * 10])\n",
    "        divisor = int(divisor / 10)\n",
    "        print('     ', output)              \n",
    "    return ''.join(output)\n",
    "\n",
    "#arabic_to_roman_numerals(6503)"
   ]
  },
  {
   "cell_type": "code",
   "execution_count": null,
   "metadata": {},
   "outputs": [],
   "source": []
  }
 ],
 "metadata": {
  "kernelspec": {
   "display_name": "Python 3",
   "language": "python",
   "name": "python3"
  },
  "language_info": {
   "codemirror_mode": {
    "name": "ipython",
    "version": 3
   },
   "file_extension": ".py",
   "mimetype": "text/x-python",
   "name": "python",
   "nbconvert_exporter": "python",
   "pygments_lexer": "ipython3",
   "version": "3.7.6"
  }
 },
 "nbformat": 4,
 "nbformat_minor": 4
}
