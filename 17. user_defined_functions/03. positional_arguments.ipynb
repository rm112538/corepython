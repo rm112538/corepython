{
 "cells": [
  {
   "cell_type": "markdown",
   "metadata": {},
   "source": [
    "###### Summary\n",
    "\n",
    "1. Positional arguments must agree in order and number with the parameters declared in the function definition."
   ]
  },
  {
   "cell_type": "code",
   "execution_count": 1,
   "metadata": {},
   "outputs": [
    {
     "name": "stdout",
     "output_type": "stream",
     "text": [
      "You have bought 2 mangos at the cost $0.49\n"
     ]
    }
   ],
   "source": [
    "# positional arguments\n",
    "\n",
    "def f(qty, item, price):\n",
    "    print(f'You have bought {qty} {item} at the cost ${price:.2f}')\n",
    "    \n",
    "# function called\n",
    "f(2,'mangos', 0.49)"
   ]
  },
  {
   "cell_type": "code",
   "execution_count": 2,
   "metadata": {},
   "outputs": [
    {
     "name": "stdout",
     "output_type": "stream",
     "text": [
      "You have bought 2 mangos at the cost $0.98\n",
      "You have bought 3 avocados at the cost $2.97\n",
      "You have bought 2 pinaples at the cost $3.94\n"
     ]
    }
   ],
   "source": [
    "# positional arguments\n",
    "\n",
    "def f(qty, item, price):\n",
    "    tot_cost = price * qty\n",
    "    print(f'You have bought {qty} {item} at the cost ${tot_cost:.2f}')\n",
    "    \n",
    "# function called\n",
    "f(2,'mangos', 0.49)\n",
    "f(3,'avocados', 0.99)\n",
    "f(2,'pinaples', 1.97) # arguments must agree in order and number as well! <----required arguments"
   ]
  },
  {
   "cell_type": "code",
   "execution_count": 3,
   "metadata": {},
   "outputs": [
    {
     "name": "stdout",
     "output_type": "stream",
     "text": [
      "You have bought 2 mangos at the cost $0.98\n",
      "You have bought 3 avocados at the cost $2.97\n"
     ]
    },
    {
     "ename": "TypeError",
     "evalue": "f() missing 1 required positional argument: 'price'",
     "output_type": "error",
     "traceback": [
      "\u001b[1;31m---------------------------------------------------------------------------\u001b[0m",
      "\u001b[1;31mTypeError\u001b[0m                                 Traceback (most recent call last)",
      "\u001b[1;32m<ipython-input-3-04a96cc40cda>\u001b[0m in \u001b[0;36m<module>\u001b[1;34m\u001b[0m\n\u001b[0;32m      6\u001b[0m \u001b[0mf\u001b[0m\u001b[1;33m(\u001b[0m\u001b[1;36m2\u001b[0m\u001b[1;33m,\u001b[0m\u001b[1;34m'mangos'\u001b[0m\u001b[1;33m,\u001b[0m \u001b[1;36m0.49\u001b[0m\u001b[1;33m)\u001b[0m\u001b[1;33m\u001b[0m\u001b[1;33m\u001b[0m\u001b[0m\n\u001b[0;32m      7\u001b[0m \u001b[0mf\u001b[0m\u001b[1;33m(\u001b[0m\u001b[1;36m3\u001b[0m\u001b[1;33m,\u001b[0m\u001b[1;34m'avocados'\u001b[0m\u001b[1;33m,\u001b[0m \u001b[1;36m0.99\u001b[0m\u001b[1;33m)\u001b[0m\u001b[1;33m\u001b[0m\u001b[1;33m\u001b[0m\u001b[0m\n\u001b[1;32m----> 8\u001b[1;33m \u001b[0mf\u001b[0m\u001b[1;33m(\u001b[0m\u001b[1;36m2\u001b[0m\u001b[1;33m,\u001b[0m\u001b[1;34m'pinaples'\u001b[0m\u001b[1;33m)\u001b[0m\u001b[1;33m\u001b[0m\u001b[1;33m\u001b[0m\u001b[0m\n\u001b[0m",
      "\u001b[1;31mTypeError\u001b[0m: f() missing 1 required positional argument: 'price'"
     ]
    }
   ],
   "source": [
    "\n",
    "def f(qty, item, price):\n",
    "    tot_cost = price * qty\n",
    "    print(f'You have bought {qty} {item} at the cost ${tot_cost:.2f}')\n",
    "    \n",
    "# function called\n",
    "f(2,'mangos', 0.49)\n",
    "f(3,'avocados', 0.99)\n",
    "f(2,'pinaples')            # TypeError: f() missing 1 required positional argument: 'price'"
   ]
  },
  {
   "cell_type": "code",
   "execution_count": null,
   "metadata": {},
   "outputs": [],
   "source": []
  }
 ],
 "metadata": {
  "kernelspec": {
   "display_name": "Python 3",
   "language": "python",
   "name": "python3"
  },
  "language_info": {
   "codemirror_mode": {
    "name": "ipython",
    "version": 3
   },
   "file_extension": ".py",
   "mimetype": "text/x-python",
   "name": "python",
   "nbconvert_exporter": "python",
   "pygments_lexer": "ipython3",
   "version": "3.7.6"
  }
 },
 "nbformat": 4,
 "nbformat_minor": 4
}
