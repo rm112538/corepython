{
 "cells": [
  {
   "cell_type": "code",
   "execution_count": 1,
   "metadata": {},
   "outputs": [
    {
     "name": "stdout",
     "output_type": "stream",
     "text": [
      "------------------------------\n",
      "Food Tracker App\n",
      "------------------------------\n",
      "\n",
      "It's Saturday. Should I eat cake and ice cream today?\n",
      "\n",
      "Did you eat health on Sun?\n",
      "'Y' or 'N'Y\n",
      "Did you eat health on Mon?\n",
      "'Y' or 'N'Y\n",
      "Did you eat health on Tue?\n",
      "'Y' or 'N'Y\n",
      "Did you eat health on Wed?\n",
      "'Y' or 'N'Y\n",
      "Did you eat health on Thu?\n",
      "'Y' or 'N'Y\n",
      "Did you eat health on Fri?\n",
      "'Y' or 'N'Y\n",
      "\n",
      "Calculating the answer...\n",
      "\n",
      "You can eat cake and ice cream!\n"
     ]
    }
   ],
   "source": [
    "print('-' * 30)\n",
    "print('Food Tracker App')\n",
    "print('-' * 30)\n",
    "print()\n",
    "print(\"It's Saturday. Should I eat cake and ice cream today?\")\n",
    "print()\n",
    "weekdays = ['Sun', 'Mon', 'Tue', 'Wed', 'Thu', 'Fri']\n",
    "answers = []\n",
    "\n",
    "for day in weekdays:\n",
    "    print(f'Did you eat health on {day}?')\n",
    "    reply = input(\"'Y' or 'N'\")\n",
    "    if reply == 'Y':\n",
    "        answers.append(reply) \n",
    "    else:\n",
    "        pass\n",
    "print()\n",
    "print('Calculating the answer...')\n",
    "print()\n",
    "\n",
    "if len(answers) == 6:\n",
    "    print('You can eat cake and ice cream!')\n",
    "elif len(answers) == 5:\n",
    "    print('Maybe lay off the ice cream')\n",
    "else:\n",
    "    print('The cake is a lie. So is the ice cream.')"
   ]
  },
  {
   "cell_type": "code",
   "execution_count": null,
   "metadata": {},
   "outputs": [],
   "source": []
  },
  {
   "cell_type": "code",
   "execution_count": null,
   "metadata": {},
   "outputs": [],
   "source": []
  }
 ],
 "metadata": {
  "kernelspec": {
   "display_name": "Python 3",
   "language": "python",
   "name": "python3"
  },
  "language_info": {
   "codemirror_mode": {
    "name": "ipython",
    "version": 3
   },
   "file_extension": ".py",
   "mimetype": "text/x-python",
   "name": "python",
   "nbconvert_exporter": "python",
   "pygments_lexer": "ipython3",
   "version": "3.7.6"
  }
 },
 "nbformat": 4,
 "nbformat_minor": 4
}
